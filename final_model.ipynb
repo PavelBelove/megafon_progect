{
 "cells": [
  {
   "cell_type": "code",
   "execution_count": 128,
   "metadata": {},
   "outputs": [],
   "source": [
    "import pandas as pd\n",
    "import numpy as np\n",
    "import luigi\n",
    "import warnings\n",
    "import joblib\n",
    "import seaborn as sns\n",
    "import matplotlib.pyplot as plt\n",
    "from tqdm.auto import tqdm\n",
    "from datetime import datetime, date, time, timedelta\n",
    "from sklearn import set_config\n",
    "\n",
    "from functions import reduce_mem_usage\n",
    "\n",
    "from sklearn.base import BaseEstimator, TransformerMixin\n",
    "from sklearn.pipeline import Pipeline, FeatureUnion, make_pipeline\n",
    "from sklearn.preprocessing import StandardScaler, OneHotEncoder\n",
    "from sklearn.impute import SimpleImputer\n",
    "from sklearn.feature_selection import SelectFromModel, SelectKBest, f_classif\n",
    "\n",
    "# from sklearn.ensemble import GradientBoostingClassifier\n",
    "from sklearn.model_selection import TimeSeriesSplit, train_test_split, GridSearchCV, KFold\n",
    "from sklearn.metrics import f1_score, classification_report, plot_confusion_matrix\n",
    "from sklearn.metrics import precision_recall_curve, roc_curve, auc\n",
    "\n",
    "from sklearn.compose import ColumnTransformer\n",
    "# from sklearn.pipeline import Pipeline\n",
    "from sklearn.preprocessing import StandardScaler, OneHotEncoder\n",
    "from sklearn.linear_model import LogisticRegression\n",
    "from sklearn.ensemble import RandomForestClassifier\n",
    "\n",
    "from sklearn.ensemble import GradientBoostingClassifier\n",
    "from lightgbm import LGBMClassifier\n",
    "from catboost import CatBoostClassifier\n",
    "from xgboost import XGBClassifier\n",
    "\n",
    "from imblearn.over_sampling import RandomOverSampler\n",
    "from imblearn.pipeline import make_pipeline as make_pipeline_imblearn #, Pipeline\n",
    "from collections import Counter\n",
    "\n",
    "\n",
    "import time"
   ]
  },
  {
   "cell_type": "code",
   "execution_count": 2,
   "metadata": {
    "pycharm": {
     "name": "#%%\n"
    }
   },
   "outputs": [],
   "source": [
    "%matplotlib inline\n",
    "\n",
    "warnings.simplefilter(\"ignore\")\n",
    "pd.set_option(\"display.max_columns\", 999)"
   ]
  },
  {
   "cell_type": "code",
   "execution_count": 3,
   "metadata": {
    "pycharm": {
     "name": "#%%\n"
    }
   },
   "outputs": [],
   "source": [
    "RANDOM_STATE = 42"
   ]
  },
  {
   "cell_type": "code",
   "execution_count": 4,
   "metadata": {},
   "outputs": [],
   "source": [
    "TRAIN_PATH = \"data/data_train.csv\"\n",
    "TEST_PATH = \"data/data_test.csv\"\n",
    "FEATURES_PATH = \"data/features.csv\"\n",
    "\n",
    "data_train = pd.read_csv(TRAIN_PATH)\n",
    "data_test = pd.read_csv(TEST_PATH)"
   ]
  },
  {
   "cell_type": "code",
   "execution_count": 5,
   "metadata": {
    "pycharm": {
     "name": "#%%\n"
    }
   },
   "outputs": [
    {
     "name": "stdout",
     "output_type": "stream",
     "text": [
      "Memory usage of the dataframe is 31.73 MB\n",
      "Memory usage after optimization is: 15.86 MB\n",
      "Decreased by 50.0%\n",
      "Memory usage of the dataframe is 2.17 MB\n",
      "Memory usage after optimization is: 1.09 MB\n",
      "Decreased by 50.0%\n"
     ]
    }
   ],
   "source": [
    "data_train = reduce_mem_usage(data_train)\n",
    "data_test = reduce_mem_usage(data_test)"
   ]
  },
  {
   "cell_type": "code",
   "execution_count": 6,
   "metadata": {},
   "outputs": [],
   "source": [
    "def process_featues(data_features, train, test):\n",
    "    ids = np.unique(train['id'].append(test['id']))\n",
    "    # Возьмем id только тех пользователей, что встречаются в трейн и тест выборках.\n",
    "    data_features = data_features[data_features['id'].isin(ids)]\n",
    "    # Дропнем Unnamed\n",
    "    if 'Unnamed: 0' in data_features:\n",
    "        data_features = data_features.drop(columns='Unnamed: 0')\n",
    "\n",
    "    data_features = data_features.compute()\n",
    "    # удалим признаки с единственным значением\n",
    "    df_nunique = data_features.apply(lambda x: x.nunique(dropna=False))\n",
    "    const = df_nunique[df_nunique ==1].index.tolist()\n",
    "    data_features = data_features.drop(columns = const)\n",
    "    # функция сжатия данных\n",
    "    data_features = reduce_mem_usage(data_features)\n",
    "    return data_features"
   ]
  },
  {
   "cell_type": "code",
   "execution_count": 7,
   "metadata": {},
   "outputs": [
    {
     "name": "stdout",
     "output_type": "stream",
     "text": [
      "Memory usage of the dataframe is 1728.06 MB\n",
      "Memory usage after optimization is: 867.47 MB\n",
      "Decreased by 49.8%\n"
     ]
    }
   ],
   "source": [
    "import dask.dataframe as dd\n",
    "\n",
    "data_features = dd.read_csv(FEATURES_PATH, sep ='\\t')\n",
    "\n",
    "data_features =process_featues(data_features, data_train, data_test)"
   ]
  },
  {
   "cell_type": "code",
   "execution_count": 129,
   "metadata": {},
   "outputs": [],
   "source": [
    "train = data_train.merge(data_features, on='id', how = 'left')\n",
    "valid = data_test.merge(data_features, on='id', how = 'left')\n",
    "del train['Unnamed: 0']\n",
    "del valid['Unnamed: 0']"
   ]
  },
  {
   "cell_type": "markdown",
   "metadata": {},
   "source": [
    "## data pipe"
   ]
  },
  {
   "cell_type": "code",
   "execution_count": 130,
   "metadata": {
    "pycharm": {
     "name": "#%%\n"
    }
   },
   "outputs": [],
   "source": [
    "# TRAIN_PATH = \"data/train_merge.csv\"\n",
    "# TEST_PATH = \"data/test_merge.csv\""
   ]
  },
  {
   "cell_type": "code",
   "execution_count": 131,
   "metadata": {
    "pycharm": {
     "name": "#%%\n"
    }
   },
   "outputs": [],
   "source": [
    "# train = reduce_mem_usage(pd.read_csv(TRAIN_PATH))\n",
    "# test = reduce_mem_usage(pd.read_csv(TEST_PATH))"
   ]
  },
  {
   "cell_type": "code",
   "execution_count": 132,
   "metadata": {
    "pycharm": {
     "name": "#%%\n"
    }
   },
   "outputs": [],
   "source": [
    "features = [f for f in data_features.columns if f not in ['buy_time','id']]"
   ]
  },
  {
   "cell_type": "markdown",
   "metadata": {
    "pycharm": {
     "name": "#%% md\n"
    }
   },
   "source": [
    "Разделим данные на X и y"
   ]
  },
  {
   "cell_type": "code",
   "execution_count": 133,
   "metadata": {
    "pycharm": {
     "name": "#%%\n"
    }
   },
   "outputs": [],
   "source": [
    "X_train = train.drop('target', axis='columns')\n",
    "y_train = train.target\n",
    "X_valid = valid"
   ]
  },
  {
   "cell_type": "code",
   "execution_count": 134,
   "metadata": {
    "pycharm": {
     "name": "#%%\n"
    }
   },
   "outputs": [],
   "source": [
    "# X_train, X_test, y_train, y_test = train_test_split(X_train, y_train, test_size=0.2, random_state=42)"
   ]
  },
  {
   "cell_type": "markdown",
   "metadata": {},
   "source": [
    "Сохраним необходимые для ответа признаки в отдельную переменную, чтобы позже добавить target."
   ]
  },
  {
   "cell_type": "code",
   "execution_count": 135,
   "metadata": {},
   "outputs": [
    {
     "data": {
      "text/plain": [
       "(73666, 3)"
      ]
     },
     "execution_count": 135,
     "metadata": {},
     "output_type": "execute_result"
    }
   ],
   "source": [
    "answers_test = X_valid[['id', 'vas_id']]\n",
    "answers_test['buy_time'] = X_valid['buy_time_x']\n",
    "answers_test.shape"
   ]
  },
  {
   "cell_type": "markdown",
   "metadata": {},
   "source": [
    "Разделим признаки на бинарные, категориальные и вещественные."
   ]
  },
  {
   "cell_type": "code",
   "execution_count": 136,
   "metadata": {
    "pycharm": {
     "name": "#%%\n"
    }
   },
   "outputs": [],
   "source": [
    "boolean_features = []\n",
    "categorical_features = []\n",
    "numeric_features = []\n",
    "for col in X_train[features].fillna(0):\n",
    "    val_count = len(X_train[col].unique())\n",
    "    if val_count == 2:\n",
    "        boolean_features.append(col)\n",
    "    elif val_count <= 10:\n",
    "        categorical_features.append(col)\n",
    "    else:\n",
    "        numeric_features.append(col)\n"
   ]
  },
  {
   "cell_type": "markdown",
   "metadata": {
    "pycharm": {
     "name": "#%% md\n"
    }
   },
   "source": [
    "Селектор колонок"
   ]
  },
  {
   "cell_type": "code",
   "execution_count": 137,
   "metadata": {
    "pycharm": {
     "name": "#%%\n"
    }
   },
   "outputs": [],
   "source": [
    "class ColumnSelector(BaseEstimator, TransformerMixin):\n",
    "    def __init__(self, columns):\n",
    "        self.columns = columns\n",
    "\n",
    "    def fit(self, X, y=None):\n",
    "        return self\n",
    "\n",
    "    def transform(self, X):\n",
    "        assert isinstance(X, pd.DataFrame)\n",
    "\n",
    "        try:\n",
    "            return X[self.columns]\n",
    "        except KeyError:\n",
    "            cols_error = list(set(self.columns) - set(X.columns))\n",
    "            raise KeyError(\"DataFrame не содердит следующие колонки: %s\" % cols_error)"
   ]
  },
  {
   "cell_type": "code",
   "execution_count": 138,
   "metadata": {
    "pycharm": {
     "name": "#%%\n"
    }
   },
   "outputs": [],
   "source": [
    "new_features_list = ['interval']\n",
    "class FeaturesGenerator(BaseEstimator, TransformerMixin):\n",
    "    def __init__(self, features_list):\n",
    "        self.features_list = features_list\n",
    "\n",
    "    def fit(self, X, y=None):\n",
    "        return self\n",
    "\n",
    "    def transform(self, X, y=None):\n",
    "        assert isinstance(X, pd.DataFrame)\n",
    "\n",
    "        try:\n",
    "            if 'interval' in self.features_list:\n",
    "                X['interval'] = X['buy_time_y'] - X['buy_time_x']\n",
    "\n",
    "            return X\n",
    "        except KeyError:            \n",
    "            raise KeyError(\"DataFrame не содердит колонки buy_time\")"
   ]
  },
  {
   "cell_type": "markdown",
   "metadata": {
    "pycharm": {
     "name": "#%% md\n"
    }
   },
   "source": [
    "Обработчик вещественных признаков\n",
    "Поскольку вещественных признаков много больше чем предполагается оставить в конце, и чем остальных признаков, откинем менее значимые из них до объединения с другими признаками."
   ]
  },
  {
   "cell_type": "code",
   "execution_count": 139,
   "metadata": {
    "pycharm": {
     "name": "#%%\n"
    }
   },
   "outputs": [],
   "source": [
    "num_pipe = Pipeline([\n",
    "    ('ncs', ColumnSelector(columns=numeric_features)),\n",
    "    ('nsi', SimpleImputer(strategy=\"mean\")),\n",
    "    ('nss', StandardScaler()),\n",
    "    ('nskb', SelectKBest(k=128, score_func=f_classif)),\n",
    "])"
   ]
  },
  {
   "cell_type": "markdown",
   "metadata": {
    "pycharm": {
     "name": "#%% md\n"
    }
   },
   "source": [
    "Обработчик категориальных признаков"
   ]
  },
  {
   "cell_type": "code",
   "execution_count": 140,
   "metadata": {
    "pycharm": {
     "name": "#%%\n"
    }
   },
   "outputs": [],
   "source": [
    "cat_pipe = Pipeline([\n",
    "    ('ccs', ColumnSelector(columns=categorical_features)),\n",
    "    ('csi', SimpleImputer(strategy=\"most_frequent\")),\n",
    "    ('coe', OneHotEncoder(handle_unknown='ignore')),\n",
    "])"
   ]
  },
  {
   "cell_type": "markdown",
   "metadata": {
    "pycharm": {
     "name": "#%% md\n"
    }
   },
   "source": [
    "Обработчик булевых признаков"
   ]
  },
  {
   "cell_type": "code",
   "execution_count": 141,
   "metadata": {
    "pycharm": {
     "name": "#%%\n"
    }
   },
   "outputs": [],
   "source": [
    "bool_pipe = Pipeline([\n",
    "    ('bcs', ColumnSelector(columns=boolean_features)),\n",
    "    ('bsi', SimpleImputer(strategy=\"most_frequent\")),\n",
    "])"
   ]
  },
  {
   "cell_type": "markdown",
   "metadata": {
    "pycharm": {
     "name": "#%% md\n"
    }
   },
   "source": [
    "Собираем в общий пайплайн"
   ]
  },
  {
   "cell_type": "code",
   "execution_count": 142,
   "metadata": {
    "pycharm": {
     "name": "#%%\n"
    }
   },
   "outputs": [],
   "source": [
    "transformer_list = [('num_pipe', num_pipe), ('cat_pipe', cat_pipe), ('bool_pipe', bool_pipe)]"
   ]
  },
  {
   "cell_type": "code",
   "execution_count": 143,
   "metadata": {
    "pycharm": {
     "name": "#%%\n"
    }
   },
   "outputs": [],
   "source": [
    "transform_pipe = Pipeline([\n",
    "    ('cs', ColumnSelector(columns=features)),\n",
    "    ('fg', FeaturesGenerator(features_list=['interval'])),\n",
    "    ('fu', FeatureUnion(transformer_list=transformer_list)),\n",
    "])\n"
   ]
  },
  {
   "cell_type": "markdown",
   "metadata": {
    "pycharm": {
     "name": "#%% md\n"
    }
   },
   "source": [
    "Отберем признаки с помощью SelectKBest и логистической регрессии с регуляризацией L1 (было 298 признаков)\n"
   ]
  },
  {
   "cell_type": "code",
   "execution_count": 144,
   "metadata": {
    "pycharm": {
     "name": "#%%\n"
    }
   },
   "outputs": [],
   "source": [
    "fs_pipe = make_pipeline(\n",
    "    transform_pipe,\n",
    "    SelectKBest(k=64, score_func=f_classif),\n",
    "    SelectFromModel(LogisticRegression(penalty='l1', solver='liblinear', random_state=RANDOM_STATE), threshold=1e-3),\n",
    ")"
   ]
  },
  {
   "cell_type": "code",
   "execution_count": 145,
   "metadata": {
    "pycharm": {
     "name": "#%%\n"
    }
   },
   "outputs": [],
   "source": [
    "set_config(display='diagram')\n",
    "\n",
    "fs_pipe"
   ]
  },
  {
   "cell_type": "code",
   "execution_count": 146,
   "metadata": {
    "pycharm": {
     "is_executing": true,
     "name": "#%%\n"
    }
   },
   "outputs": [],
   "source": [
    "fs_pipe.fit(X_train, y_train)\n"
   ]
  },
  {
   "cell_type": "code",
   "execution_count": 147,
   "metadata": {
    "pycharm": {
     "is_executing": true,
     "name": "#%%\n"
    }
   },
   "outputs": [],
   "source": [
    "# fs_pipe.transform(X_test).shape[1]"
   ]
  },
  {
   "cell_type": "code",
   "execution_count": 148,
   "metadata": {
    "pycharm": {
     "is_executing": true,
     "name": "#%%\n"
    }
   },
   "outputs": [],
   "source": [
    "# joblib.dump(fs_pipe, 'models/data_pipeline.pkl', compress=9)"
   ]
  },
  {
   "cell_type": "code",
   "execution_count": 149,
   "metadata": {
    "pycharm": {
     "name": "#%%\n"
    }
   },
   "outputs": [],
   "source": [
    "# pipe_clone = joblib.load('models/data_pipeline.pkl')"
   ]
  },
  {
   "cell_type": "code",
   "execution_count": 150,
   "metadata": {
    "pycharm": {
     "name": "#%%\n"
    }
   },
   "outputs": [],
   "source": [
    "# type(pipe_clone)"
   ]
  },
  {
   "cell_type": "code",
   "execution_count": 151,
   "metadata": {
    "pycharm": {
     "name": "#%%\n"
    }
   },
   "outputs": [],
   "source": [
    "# if X_test:\n",
    "#     X_test = fs_pipe.transform(X_test)"
   ]
  },
  {
   "cell_type": "code",
   "execution_count": 152,
   "metadata": {},
   "outputs": [],
   "source": [
    "X_train = fs_pipe.transform(X_train)"
   ]
  },
  {
   "cell_type": "code",
   "execution_count": 153,
   "metadata": {},
   "outputs": [],
   "source": [
    "X_valid = fs_pipe.transform(X_valid)"
   ]
  },
  {
   "cell_type": "code",
   "execution_count": 154,
   "metadata": {},
   "outputs": [],
   "source": [
    "# type(X_train_transform)"
   ]
  },
  {
   "cell_type": "code",
   "execution_count": 155,
   "metadata": {},
   "outputs": [],
   "source": [
    "# X_train_transform.shape"
   ]
  },
  {
   "cell_type": "code",
   "execution_count": 156,
   "metadata": {},
   "outputs": [],
   "source": [
    "# joblib.dump(X_train_transform, 'data/changes/X_train_transform.pkl', compress=9)\n",
    "# joblib.dump(X_test_transform, 'data/changes/X_test_transform.pkl', compress=9)\n",
    "# joblib.dump(X_valid_transform, 'data/changes/X_valid_transform.pkl', compress=9)\n",
    "\n",
    "# joblib.dump(y_train, 'data/changes/y_train.pkl', compress=9)\n",
    "# joblib.dump(y_test, 'data/changes/y_test.pkl', compress=9)"
   ]
  },
  {
   "cell_type": "markdown",
   "metadata": {},
   "source": [
    "## Model"
   ]
  },
  {
   "cell_type": "markdown",
   "metadata": {},
   "source": [
    "Соберем финальный пайплайн.\n"
   ]
  },
  {
   "cell_type": "code",
   "execution_count": 157,
   "metadata": {},
   "outputs": [],
   "source": [
    "# model_pipe = Pipeline([\n",
    "#     ('fs_pipe', fs_pipe),\n",
    "#     ('ros', RandomOverSampler(random_state=RANDOM_STATE)),\n",
    "#     ('cbc', CatBoostClassifier(random_state=RANDOM_STATE)),\n",
    "# ])"
   ]
  },
  {
   "cell_type": "code",
   "execution_count": 159,
   "metadata": {},
   "outputs": [],
   "source": [
    "# model_pipe = make_pipeline_imblearn(\n",
    "#     transform_pipe,\n",
    "#     SelectKBest(k=64, score_func=f_classif),\n",
    "#     SelectFromModel(LogisticRegression(penalty='l1', solver='liblinear', random_state=RANDOM_STATE), threshold=1e-3),\n",
    "#     RandomOverSampler(random_state=42),\n",
    "#     CatBoostClassifier(random_state=RANDOM_STATE),\n",
    "# )"
   ]
  },
  {
   "cell_type": "code",
   "execution_count": null,
   "metadata": {},
   "outputs": [],
   "source": [
    "# model_pipe.fit(X_train, y_train)"
   ]
  },
  {
   "cell_type": "code",
   "execution_count": null,
   "metadata": {},
   "outputs": [],
   "source": [
    "# y_valid = model_pipe.predict(X_valid)\n",
    "# y_valid.shape"
   ]
  },
  {
   "cell_type": "code",
   "execution_count": null,
   "metadata": {},
   "outputs": [],
   "source": []
  },
  {
   "cell_type": "code",
   "execution_count": null,
   "metadata": {},
   "outputs": [],
   "source": []
  },
  {
   "cell_type": "code",
   "execution_count": null,
   "metadata": {},
   "outputs": [],
   "source": []
  },
  {
   "cell_type": "code",
   "execution_count": null,
   "metadata": {},
   "outputs": [],
   "source": [
    "# def get_classification_report(y_train_true, y_train_pred, y_test_true, y_test_pred, model, X_test, digits=3):\n",
    "#     print('TRAIN\\n\\n' + classification_report(y_train_true, y_train_pred, digits=digits))\n",
    "#     print('TEST\\n\\n' + classification_report(y_test_true, y_test_pred, digits=digits))\n",
    "#     print('CONFUSION MATRIX\\n')\n",
    "#     print(pd.crosstab(y_test_true, y_test_pred))\n",
    "#     plot_confusion_matrix(model, X_test, y_test_true, cmap=plt.cm.Blues, normalize='all')"
   ]
  },
  {
   "cell_type": "code",
   "execution_count": null,
   "metadata": {},
   "outputs": [],
   "source": [
    "# def test_model(X_train, y_train, model):\n",
    "#     start = time.time()\n",
    "#     model.fit(X_train, y_train)\n",
    "#     y_train_pred = model.predict(X_train)\n",
    "#     y_test_pred = model.predict(X_test)\n",
    "#     y_test_pred_proba = model.predict_proba(X_test)\n",
    "#     get_classification_report(y_train, y_train_pred, y_test, y_test_pred, model, X_test)\n",
    "#     train_time = time.time() - start\n",
    "#     print(f\"train time = {train_time}\")\n",
    "#     return model, y_test, y_test_pred_proba, f1_score(y_test, y_test_pred, average='macro')"
   ]
  },
  {
   "cell_type": "code",
   "execution_count": 160,
   "metadata": {},
   "outputs": [],
   "source": [
    "ros = RandomOverSampler(random_state=42)\n",
    "\n",
    "X_ros, y_ros = ros.fit_resample(X_train, y_train)"
   ]
  },
  {
   "cell_type": "code",
   "execution_count": 161,
   "metadata": {},
   "outputs": [],
   "source": [
    "model = CatBoostClassifier(random_state=RANDOM_STATE)\n"
   ]
  },
  {
   "cell_type": "code",
   "execution_count": 164,
   "metadata": {},
   "outputs": [
    {
     "name": "stderr",
     "output_type": "stream",
     "text": [
      "Custom logger is already specified. Specify more than one logger at same time is not thread safe."
     ]
    },
    {
     "name": "stdout",
     "output_type": "stream",
     "text": [
      "Learning rate set to 0.240211\n",
      "0:\tlearn: 0.5115008\ttotal: 1.02s\tremaining: 17m 1s\n",
      "1:\tlearn: 0.4230841\ttotal: 2.02s\tremaining: 16m 46s\n",
      "2:\tlearn: 0.3710476\ttotal: 3.01s\tremaining: 16m 41s\n",
      "3:\tlearn: 0.3485202\ttotal: 3.9s\tremaining: 16m 10s\n",
      "4:\tlearn: 0.3364511\ttotal: 4.91s\tremaining: 16m 16s\n",
      "5:\tlearn: 0.3307360\ttotal: 5.99s\tremaining: 16m 31s\n",
      "6:\tlearn: 0.3269573\ttotal: 7.02s\tremaining: 16m 36s\n",
      "7:\tlearn: 0.3240631\ttotal: 8.08s\tremaining: 16m 42s\n",
      "8:\tlearn: 0.3210473\ttotal: 8.97s\tremaining: 16m 28s\n",
      "9:\tlearn: 0.3196100\ttotal: 9.88s\tremaining: 16m 18s\n",
      "10:\tlearn: 0.3182116\ttotal: 10.7s\tremaining: 15m 58s\n",
      "11:\tlearn: 0.3175304\ttotal: 11.5s\tremaining: 15m 50s\n",
      "12:\tlearn: 0.3169771\ttotal: 12.2s\tremaining: 15m 28s\n",
      "13:\tlearn: 0.3156702\ttotal: 13.2s\tremaining: 15m 27s\n",
      "14:\tlearn: 0.3154386\ttotal: 14.1s\tremaining: 15m 24s\n",
      "15:\tlearn: 0.3150561\ttotal: 14.9s\tremaining: 15m 15s\n",
      "16:\tlearn: 0.3149295\ttotal: 15.6s\tremaining: 15m 2s\n",
      "17:\tlearn: 0.3146132\ttotal: 16.4s\tremaining: 14m 56s\n",
      "18:\tlearn: 0.3145004\ttotal: 17.1s\tremaining: 14m 42s\n",
      "19:\tlearn: 0.3143213\ttotal: 17.8s\tremaining: 14m 31s\n",
      "20:\tlearn: 0.3141806\ttotal: 18.6s\tremaining: 14m 25s\n",
      "21:\tlearn: 0.3140884\ttotal: 19.2s\tremaining: 14m 13s\n",
      "22:\tlearn: 0.3136811\ttotal: 20.1s\tremaining: 14m 14s\n",
      "23:\tlearn: 0.3135617\ttotal: 20.7s\tremaining: 14m 2s\n",
      "24:\tlearn: 0.3134771\ttotal: 21.4s\tremaining: 13m 55s\n",
      "25:\tlearn: 0.3133616\ttotal: 22.1s\tremaining: 13m 46s\n",
      "26:\tlearn: 0.3132212\ttotal: 22.6s\tremaining: 13m 35s\n",
      "27:\tlearn: 0.3131335\ttotal: 23.3s\tremaining: 13m 28s\n",
      "28:\tlearn: 0.3129358\ttotal: 23.9s\tremaining: 13m 21s\n",
      "29:\tlearn: 0.3128255\ttotal: 24.6s\tremaining: 13m 16s\n",
      "30:\tlearn: 0.3127440\ttotal: 25.3s\tremaining: 13m 12s\n",
      "31:\tlearn: 0.3126637\ttotal: 26s\tremaining: 13m 5s\n",
      "32:\tlearn: 0.3124208\ttotal: 26.9s\tremaining: 13m 7s\n",
      "33:\tlearn: 0.3123174\ttotal: 27.5s\tremaining: 13m\n",
      "34:\tlearn: 0.3121957\ttotal: 28.5s\tremaining: 13m 5s\n",
      "35:\tlearn: 0.3120696\ttotal: 30s\tremaining: 13m 22s\n",
      "36:\tlearn: 0.3119864\ttotal: 30.9s\tremaining: 13m 25s\n",
      "37:\tlearn: 0.3118897\ttotal: 32s\tremaining: 13m 29s\n",
      "38:\tlearn: 0.3117855\ttotal: 32.7s\tremaining: 13m 25s\n",
      "39:\tlearn: 0.3117190\ttotal: 33.3s\tremaining: 13m 18s\n",
      "40:\tlearn: 0.3116048\ttotal: 34.1s\tremaining: 13m 17s\n",
      "41:\tlearn: 0.3114764\ttotal: 34.8s\tremaining: 13m 12s\n",
      "42:\tlearn: 0.3113857\ttotal: 35.4s\tremaining: 13m 8s\n",
      "43:\tlearn: 0.3112929\ttotal: 36.3s\tremaining: 13m 8s\n",
      "44:\tlearn: 0.3112155\ttotal: 36.9s\tremaining: 13m 3s\n",
      "45:\tlearn: 0.3111050\ttotal: 37.7s\tremaining: 13m 1s\n",
      "46:\tlearn: 0.3110221\ttotal: 38.4s\tremaining: 12m 57s\n",
      "47:\tlearn: 0.3109286\ttotal: 38.9s\tremaining: 12m 51s\n",
      "48:\tlearn: 0.3108628\ttotal: 39.5s\tremaining: 12m 45s\n",
      "49:\tlearn: 0.3107975\ttotal: 40.2s\tremaining: 12m 43s\n",
      "50:\tlearn: 0.3107131\ttotal: 40.8s\tremaining: 12m 39s\n",
      "51:\tlearn: 0.3106544\ttotal: 41.4s\tremaining: 12m 34s\n",
      "52:\tlearn: 0.3105991\ttotal: 42.1s\tremaining: 12m 31s\n",
      "53:\tlearn: 0.3104719\ttotal: 42.8s\tremaining: 12m 29s\n",
      "54:\tlearn: 0.3103965\ttotal: 43.4s\tremaining: 12m 26s\n",
      "55:\tlearn: 0.3102973\ttotal: 44.3s\tremaining: 12m 26s\n",
      "56:\tlearn: 0.3101343\ttotal: 45.4s\tremaining: 12m 31s\n",
      "57:\tlearn: 0.3099827\ttotal: 46.1s\tremaining: 12m 29s\n",
      "58:\tlearn: 0.3099068\ttotal: 47s\tremaining: 12m 28s\n",
      "59:\tlearn: 0.3097854\ttotal: 47.6s\tremaining: 12m 26s\n",
      "60:\tlearn: 0.3097129\ttotal: 48.3s\tremaining: 12m 22s\n",
      "61:\tlearn: 0.3095859\ttotal: 48.9s\tremaining: 12m 20s\n",
      "62:\tlearn: 0.3095163\ttotal: 49.4s\tremaining: 12m 15s\n",
      "63:\tlearn: 0.3093951\ttotal: 50.1s\tremaining: 12m 12s\n",
      "64:\tlearn: 0.3092967\ttotal: 50.8s\tremaining: 12m 10s\n",
      "65:\tlearn: 0.3092153\ttotal: 51.3s\tremaining: 12m 6s\n",
      "66:\tlearn: 0.3091333\ttotal: 51.9s\tremaining: 12m 3s\n",
      "67:\tlearn: 0.3090467\ttotal: 52.4s\tremaining: 11m 58s\n",
      "68:\tlearn: 0.3089687\ttotal: 53s\tremaining: 11m 55s\n",
      "69:\tlearn: 0.3088839\ttotal: 53.6s\tremaining: 11m 52s\n",
      "70:\tlearn: 0.3088053\ttotal: 54.2s\tremaining: 11m 49s\n",
      "71:\tlearn: 0.3087433\ttotal: 54.8s\tremaining: 11m 46s\n",
      "72:\tlearn: 0.3086724\ttotal: 55.4s\tremaining: 11m 43s\n",
      "73:\tlearn: 0.3086012\ttotal: 56s\tremaining: 11m 40s\n",
      "74:\tlearn: 0.3085237\ttotal: 56.6s\tremaining: 11m 38s\n",
      "75:\tlearn: 0.3084208\ttotal: 57.3s\tremaining: 11m 36s\n",
      "76:\tlearn: 0.3082322\ttotal: 58.2s\tremaining: 11m 37s\n",
      "77:\tlearn: 0.3080718\ttotal: 59s\tremaining: 11m 37s\n",
      "78:\tlearn: 0.3079898\ttotal: 59.5s\tremaining: 11m 33s\n",
      "79:\tlearn: 0.3076795\ttotal: 1m\tremaining: 11m 36s\n",
      "80:\tlearn: 0.3076328\ttotal: 1m 1s\tremaining: 11m 34s\n",
      "81:\tlearn: 0.3075220\ttotal: 1m 2s\tremaining: 11m 34s\n",
      "82:\tlearn: 0.3074135\ttotal: 1m 2s\tremaining: 11m 33s\n",
      "83:\tlearn: 0.3073261\ttotal: 1m 3s\tremaining: 11m 31s\n",
      "84:\tlearn: 0.3072254\ttotal: 1m 4s\tremaining: 11m 31s\n",
      "85:\tlearn: 0.3070872\ttotal: 1m 5s\tremaining: 11m 31s\n",
      "86:\tlearn: 0.3069756\ttotal: 1m 5s\tremaining: 11m 30s\n",
      "87:\tlearn: 0.3069009\ttotal: 1m 6s\tremaining: 11m 28s\n",
      "88:\tlearn: 0.3068167\ttotal: 1m 7s\tremaining: 11m 26s\n",
      "89:\tlearn: 0.3067359\ttotal: 1m 7s\tremaining: 11m 24s\n",
      "90:\tlearn: 0.3066629\ttotal: 1m 8s\tremaining: 11m 23s\n",
      "91:\tlearn: 0.3064776\ttotal: 1m 9s\tremaining: 11m 24s\n",
      "92:\tlearn: 0.3063699\ttotal: 1m 9s\tremaining: 11m 22s\n",
      "93:\tlearn: 0.3062331\ttotal: 1m 10s\tremaining: 11m 21s\n",
      "94:\tlearn: 0.3061536\ttotal: 1m 11s\tremaining: 11m 19s\n",
      "95:\tlearn: 0.3060888\ttotal: 1m 11s\tremaining: 11m 17s\n",
      "96:\tlearn: 0.3060067\ttotal: 1m 12s\tremaining: 11m 16s\n",
      "97:\tlearn: 0.3058851\ttotal: 1m 13s\tremaining: 11m 15s\n",
      "98:\tlearn: 0.3057460\ttotal: 1m 14s\tremaining: 11m 14s\n",
      "99:\tlearn: 0.3056221\ttotal: 1m 14s\tremaining: 11m 13s\n",
      "100:\tlearn: 0.3055402\ttotal: 1m 15s\tremaining: 11m 12s\n",
      "101:\tlearn: 0.3054592\ttotal: 1m 16s\tremaining: 11m 9s\n",
      "102:\tlearn: 0.3053735\ttotal: 1m 16s\tremaining: 11m 7s\n",
      "103:\tlearn: 0.3052863\ttotal: 1m 17s\tremaining: 11m 5s\n",
      "104:\tlearn: 0.3052211\ttotal: 1m 17s\tremaining: 11m 3s\n",
      "105:\tlearn: 0.3051307\ttotal: 1m 18s\tremaining: 11m\n",
      "106:\tlearn: 0.3050295\ttotal: 1m 19s\tremaining: 11m 1s\n",
      "107:\tlearn: 0.3049376\ttotal: 1m 19s\tremaining: 10m 59s\n",
      "108:\tlearn: 0.3048778\ttotal: 1m 20s\tremaining: 10m 57s\n",
      "109:\tlearn: 0.3047772\ttotal: 1m 20s\tremaining: 10m 55s\n",
      "110:\tlearn: 0.3046872\ttotal: 1m 21s\tremaining: 10m 54s\n",
      "111:\tlearn: 0.3046016\ttotal: 1m 22s\tremaining: 10m 52s\n",
      "112:\tlearn: 0.3044957\ttotal: 1m 22s\tremaining: 10m 51s\n",
      "113:\tlearn: 0.3043971\ttotal: 1m 23s\tremaining: 10m 48s\n",
      "114:\tlearn: 0.3043178\ttotal: 1m 24s\tremaining: 10m 47s\n",
      "115:\tlearn: 0.3042335\ttotal: 1m 24s\tremaining: 10m 45s\n",
      "116:\tlearn: 0.3041456\ttotal: 1m 25s\tremaining: 10m 44s\n",
      "117:\tlearn: 0.3040654\ttotal: 1m 26s\tremaining: 10m 42s\n",
      "118:\tlearn: 0.3040018\ttotal: 1m 26s\tremaining: 10m 41s\n",
      "119:\tlearn: 0.3039174\ttotal: 1m 27s\tremaining: 10m 40s\n",
      "120:\tlearn: 0.3038303\ttotal: 1m 28s\tremaining: 10m 39s\n",
      "121:\tlearn: 0.3037358\ttotal: 1m 28s\tremaining: 10m 39s\n",
      "122:\tlearn: 0.3036310\ttotal: 1m 29s\tremaining: 10m 40s\n",
      "123:\tlearn: 0.3035180\ttotal: 1m 30s\tremaining: 10m 41s\n",
      "124:\tlearn: 0.3034136\ttotal: 1m 31s\tremaining: 10m 39s\n",
      "125:\tlearn: 0.3033145\ttotal: 1m 32s\tremaining: 10m 38s\n",
      "126:\tlearn: 0.3032395\ttotal: 1m 32s\tremaining: 10m 37s\n",
      "127:\tlearn: 0.3031593\ttotal: 1m 33s\tremaining: 10m 36s\n",
      "128:\tlearn: 0.3030619\ttotal: 1m 33s\tremaining: 10m 34s\n",
      "129:\tlearn: 0.3029356\ttotal: 1m 34s\tremaining: 10m 33s\n",
      "130:\tlearn: 0.3028823\ttotal: 1m 35s\tremaining: 10m 31s\n",
      "131:\tlearn: 0.3028065\ttotal: 1m 35s\tremaining: 10m 30s\n",
      "132:\tlearn: 0.3027270\ttotal: 1m 36s\tremaining: 10m 28s\n",
      "133:\tlearn: 0.3026181\ttotal: 1m 37s\tremaining: 10m 28s\n",
      "134:\tlearn: 0.3025667\ttotal: 1m 37s\tremaining: 10m 26s\n",
      "135:\tlearn: 0.3025189\ttotal: 1m 38s\tremaining: 10m 24s\n",
      "136:\tlearn: 0.3024389\ttotal: 1m 38s\tremaining: 10m 23s\n",
      "137:\tlearn: 0.3023186\ttotal: 1m 39s\tremaining: 10m 23s\n",
      "138:\tlearn: 0.3022492\ttotal: 1m 40s\tremaining: 10m 22s\n",
      "139:\tlearn: 0.3020895\ttotal: 1m 41s\tremaining: 10m 24s\n",
      "140:\tlearn: 0.3020265\ttotal: 1m 42s\tremaining: 10m 22s\n",
      "141:\tlearn: 0.3019228\ttotal: 1m 43s\tremaining: 10m 22s\n",
      "142:\tlearn: 0.3018109\ttotal: 1m 43s\tremaining: 10m 22s\n",
      "143:\tlearn: 0.3017173\ttotal: 1m 44s\tremaining: 10m 20s\n",
      "144:\tlearn: 0.3015928\ttotal: 1m 45s\tremaining: 10m 20s\n",
      "145:\tlearn: 0.3015105\ttotal: 1m 45s\tremaining: 10m 19s\n",
      "146:\tlearn: 0.3014250\ttotal: 1m 46s\tremaining: 10m 19s\n",
      "147:\tlearn: 0.3013652\ttotal: 1m 47s\tremaining: 10m 17s\n",
      "148:\tlearn: 0.3012794\ttotal: 1m 48s\tremaining: 10m 17s\n",
      "149:\tlearn: 0.3011725\ttotal: 1m 48s\tremaining: 10m 16s\n",
      "150:\tlearn: 0.3010835\ttotal: 1m 49s\tremaining: 10m 15s\n",
      "151:\tlearn: 0.3010216\ttotal: 1m 50s\tremaining: 10m 14s\n",
      "152:\tlearn: 0.3009091\ttotal: 1m 50s\tremaining: 10m 12s\n"
     ]
    },
    {
     "name": "stdout",
     "output_type": "stream",
     "text": [
      "153:\tlearn: 0.3008157\ttotal: 1m 51s\tremaining: 10m 13s\n",
      "154:\tlearn: 0.3007126\ttotal: 1m 52s\tremaining: 10m 13s\n",
      "155:\tlearn: 0.3006147\ttotal: 1m 53s\tremaining: 10m 13s\n",
      "156:\tlearn: 0.3005321\ttotal: 1m 54s\tremaining: 10m 12s\n",
      "157:\tlearn: 0.3004260\ttotal: 1m 55s\tremaining: 10m 12s\n",
      "158:\tlearn: 0.3003212\ttotal: 1m 55s\tremaining: 10m 12s\n",
      "159:\tlearn: 0.3002463\ttotal: 1m 56s\tremaining: 10m 11s\n",
      "160:\tlearn: 0.3001725\ttotal: 1m 57s\tremaining: 10m 10s\n",
      "161:\tlearn: 0.3000837\ttotal: 1m 57s\tremaining: 10m 10s\n",
      "162:\tlearn: 0.3000229\ttotal: 1m 58s\tremaining: 10m 9s\n",
      "163:\tlearn: 0.2999461\ttotal: 1m 59s\tremaining: 10m 8s\n",
      "164:\tlearn: 0.2998461\ttotal: 2m\tremaining: 10m 7s\n",
      "165:\tlearn: 0.2997396\ttotal: 2m\tremaining: 10m 6s\n",
      "166:\tlearn: 0.2996613\ttotal: 2m 1s\tremaining: 10m 5s\n",
      "167:\tlearn: 0.2995911\ttotal: 2m 2s\tremaining: 10m 4s\n",
      "168:\tlearn: 0.2995058\ttotal: 2m 2s\tremaining: 10m 3s\n",
      "169:\tlearn: 0.2994371\ttotal: 2m 3s\tremaining: 10m 2s\n",
      "170:\tlearn: 0.2993447\ttotal: 2m 4s\tremaining: 10m 1s\n",
      "171:\tlearn: 0.2992599\ttotal: 2m 4s\tremaining: 10m\n",
      "172:\tlearn: 0.2991970\ttotal: 2m 5s\tremaining: 9m 58s\n",
      "173:\tlearn: 0.2990984\ttotal: 2m 6s\tremaining: 9m 58s\n",
      "174:\tlearn: 0.2990085\ttotal: 2m 6s\tremaining: 9m 57s\n",
      "175:\tlearn: 0.2989564\ttotal: 2m 7s\tremaining: 9m 55s\n",
      "176:\tlearn: 0.2988714\ttotal: 2m 8s\tremaining: 9m 55s\n",
      "177:\tlearn: 0.2988209\ttotal: 2m 8s\tremaining: 9m 54s\n",
      "178:\tlearn: 0.2987297\ttotal: 2m 9s\tremaining: 9m 54s\n",
      "179:\tlearn: 0.2986294\ttotal: 2m 10s\tremaining: 9m 53s\n",
      "180:\tlearn: 0.2985660\ttotal: 2m 10s\tremaining: 9m 52s\n",
      "181:\tlearn: 0.2984610\ttotal: 2m 11s\tremaining: 9m 51s\n",
      "182:\tlearn: 0.2983777\ttotal: 2m 12s\tremaining: 9m 50s\n",
      "183:\tlearn: 0.2983115\ttotal: 2m 12s\tremaining: 9m 49s\n",
      "184:\tlearn: 0.2982047\ttotal: 2m 13s\tremaining: 9m 48s\n",
      "185:\tlearn: 0.2980976\ttotal: 2m 14s\tremaining: 9m 48s\n",
      "186:\tlearn: 0.2980004\ttotal: 2m 15s\tremaining: 9m 47s\n",
      "187:\tlearn: 0.2979459\ttotal: 2m 15s\tremaining: 9m 46s\n",
      "188:\tlearn: 0.2978516\ttotal: 2m 16s\tremaining: 9m 45s\n",
      "189:\tlearn: 0.2977325\ttotal: 2m 17s\tremaining: 9m 44s\n",
      "190:\tlearn: 0.2976537\ttotal: 2m 17s\tremaining: 9m 44s\n",
      "191:\tlearn: 0.2975774\ttotal: 2m 18s\tremaining: 9m 43s\n",
      "192:\tlearn: 0.2974883\ttotal: 2m 19s\tremaining: 9m 42s\n",
      "193:\tlearn: 0.2973870\ttotal: 2m 19s\tremaining: 9m 41s\n",
      "194:\tlearn: 0.2973081\ttotal: 2m 20s\tremaining: 9m 40s\n",
      "195:\tlearn: 0.2971614\ttotal: 2m 21s\tremaining: 9m 40s\n",
      "196:\tlearn: 0.2970982\ttotal: 2m 22s\tremaining: 9m 39s\n",
      "197:\tlearn: 0.2969822\ttotal: 2m 22s\tremaining: 9m 38s\n",
      "198:\tlearn: 0.2968798\ttotal: 2m 23s\tremaining: 9m 38s\n",
      "199:\tlearn: 0.2968009\ttotal: 2m 24s\tremaining: 9m 37s\n",
      "200:\tlearn: 0.2967157\ttotal: 2m 25s\tremaining: 9m 36s\n",
      "201:\tlearn: 0.2965921\ttotal: 2m 25s\tremaining: 9m 36s\n",
      "202:\tlearn: 0.2965312\ttotal: 2m 26s\tremaining: 9m 35s\n",
      "203:\tlearn: 0.2964330\ttotal: 2m 27s\tremaining: 9m 33s\n",
      "204:\tlearn: 0.2963354\ttotal: 2m 27s\tremaining: 9m 33s\n",
      "205:\tlearn: 0.2962605\ttotal: 2m 28s\tremaining: 9m 32s\n",
      "206:\tlearn: 0.2961970\ttotal: 2m 29s\tremaining: 9m 31s\n",
      "207:\tlearn: 0.2961500\ttotal: 2m 30s\tremaining: 9m 31s\n",
      "208:\tlearn: 0.2960828\ttotal: 2m 30s\tremaining: 9m 29s\n",
      "209:\tlearn: 0.2960016\ttotal: 2m 31s\tremaining: 9m 29s\n",
      "210:\tlearn: 0.2959243\ttotal: 2m 32s\tremaining: 9m 28s\n",
      "211:\tlearn: 0.2958453\ttotal: 2m 32s\tremaining: 9m 27s\n",
      "212:\tlearn: 0.2957589\ttotal: 2m 33s\tremaining: 9m 27s\n",
      "213:\tlearn: 0.2957181\ttotal: 2m 34s\tremaining: 9m 26s\n",
      "214:\tlearn: 0.2956237\ttotal: 2m 35s\tremaining: 9m 27s\n",
      "215:\tlearn: 0.2955494\ttotal: 2m 36s\tremaining: 9m 26s\n",
      "216:\tlearn: 0.2954870\ttotal: 2m 36s\tremaining: 9m 26s\n",
      "217:\tlearn: 0.2954393\ttotal: 2m 37s\tremaining: 9m 25s\n",
      "218:\tlearn: 0.2953407\ttotal: 2m 38s\tremaining: 9m 25s\n",
      "219:\tlearn: 0.2952513\ttotal: 2m 39s\tremaining: 9m 25s\n",
      "220:\tlearn: 0.2951329\ttotal: 2m 40s\tremaining: 9m 26s\n",
      "221:\tlearn: 0.2950480\ttotal: 2m 41s\tremaining: 9m 25s\n",
      "222:\tlearn: 0.2949655\ttotal: 2m 42s\tremaining: 9m 24s\n",
      "223:\tlearn: 0.2948654\ttotal: 2m 42s\tremaining: 9m 24s\n",
      "224:\tlearn: 0.2947701\ttotal: 2m 43s\tremaining: 9m 24s\n",
      "225:\tlearn: 0.2946556\ttotal: 2m 44s\tremaining: 9m 24s\n",
      "226:\tlearn: 0.2945785\ttotal: 2m 45s\tremaining: 9m 23s\n",
      "227:\tlearn: 0.2945055\ttotal: 2m 46s\tremaining: 9m 22s\n",
      "228:\tlearn: 0.2944432\ttotal: 2m 46s\tremaining: 9m 21s\n",
      "229:\tlearn: 0.2943328\ttotal: 2m 47s\tremaining: 9m 20s\n",
      "230:\tlearn: 0.2942336\ttotal: 2m 48s\tremaining: 9m 20s\n",
      "231:\tlearn: 0.2941564\ttotal: 2m 48s\tremaining: 9m 19s\n",
      "232:\tlearn: 0.2940769\ttotal: 2m 49s\tremaining: 9m 19s\n",
      "233:\tlearn: 0.2940051\ttotal: 2m 50s\tremaining: 9m 17s\n",
      "234:\tlearn: 0.2939267\ttotal: 2m 51s\tremaining: 9m 16s\n",
      "235:\tlearn: 0.2938461\ttotal: 2m 51s\tremaining: 9m 15s\n",
      "236:\tlearn: 0.2937311\ttotal: 2m 52s\tremaining: 9m 15s\n",
      "237:\tlearn: 0.2936592\ttotal: 2m 53s\tremaining: 9m 14s\n",
      "238:\tlearn: 0.2935732\ttotal: 2m 53s\tremaining: 9m 13s\n",
      "239:\tlearn: 0.2934702\ttotal: 2m 54s\tremaining: 9m 13s\n",
      "240:\tlearn: 0.2933865\ttotal: 2m 55s\tremaining: 9m 13s\n",
      "241:\tlearn: 0.2933078\ttotal: 2m 56s\tremaining: 9m 12s\n",
      "242:\tlearn: 0.2932459\ttotal: 2m 56s\tremaining: 9m 10s\n",
      "243:\tlearn: 0.2930960\ttotal: 2m 57s\tremaining: 9m 9s\n",
      "244:\tlearn: 0.2929995\ttotal: 2m 58s\tremaining: 9m 9s\n",
      "245:\tlearn: 0.2929114\ttotal: 2m 58s\tremaining: 9m 8s\n",
      "246:\tlearn: 0.2928383\ttotal: 2m 59s\tremaining: 9m 8s\n",
      "247:\tlearn: 0.2928017\ttotal: 3m\tremaining: 9m 7s\n",
      "248:\tlearn: 0.2927433\ttotal: 3m 1s\tremaining: 9m 6s\n",
      "249:\tlearn: 0.2926883\ttotal: 3m 1s\tremaining: 9m 5s\n",
      "250:\tlearn: 0.2926084\ttotal: 3m 2s\tremaining: 9m 5s\n",
      "251:\tlearn: 0.2925379\ttotal: 3m 3s\tremaining: 9m 5s\n",
      "252:\tlearn: 0.2924391\ttotal: 3m 4s\tremaining: 9m 4s\n",
      "253:\tlearn: 0.2923577\ttotal: 3m 5s\tremaining: 9m 4s\n",
      "254:\tlearn: 0.2923004\ttotal: 3m 6s\tremaining: 9m 4s\n",
      "255:\tlearn: 0.2922195\ttotal: 3m 7s\tremaining: 9m 3s\n",
      "256:\tlearn: 0.2921041\ttotal: 3m 7s\tremaining: 9m 3s\n",
      "257:\tlearn: 0.2919988\ttotal: 3m 8s\tremaining: 9m 2s\n",
      "258:\tlearn: 0.2919170\ttotal: 3m 9s\tremaining: 9m 1s\n",
      "259:\tlearn: 0.2918603\ttotal: 3m 10s\tremaining: 9m\n",
      "260:\tlearn: 0.2917697\ttotal: 3m 10s\tremaining: 9m\n",
      "261:\tlearn: 0.2917031\ttotal: 3m 11s\tremaining: 8m 59s\n",
      "262:\tlearn: 0.2915834\ttotal: 3m 12s\tremaining: 8m 59s\n",
      "263:\tlearn: 0.2914861\ttotal: 3m 13s\tremaining: 8m 59s\n",
      "264:\tlearn: 0.2914161\ttotal: 3m 14s\tremaining: 8m 58s\n",
      "265:\tlearn: 0.2913034\ttotal: 3m 15s\tremaining: 8m 58s\n",
      "266:\tlearn: 0.2912386\ttotal: 3m 15s\tremaining: 8m 57s\n",
      "267:\tlearn: 0.2911814\ttotal: 3m 16s\tremaining: 8m 56s\n",
      "268:\tlearn: 0.2911212\ttotal: 3m 17s\tremaining: 8m 55s\n",
      "269:\tlearn: 0.2910164\ttotal: 3m 18s\tremaining: 8m 55s\n",
      "270:\tlearn: 0.2909466\ttotal: 3m 18s\tremaining: 8m 54s\n",
      "271:\tlearn: 0.2908553\ttotal: 3m 19s\tremaining: 8m 54s\n",
      "272:\tlearn: 0.2907274\ttotal: 3m 20s\tremaining: 8m 54s\n",
      "273:\tlearn: 0.2906447\ttotal: 3m 21s\tremaining: 8m 53s\n",
      "274:\tlearn: 0.2905841\ttotal: 3m 21s\tremaining: 8m 51s\n",
      "275:\tlearn: 0.2904951\ttotal: 3m 22s\tremaining: 8m 51s\n",
      "276:\tlearn: 0.2904224\ttotal: 3m 23s\tremaining: 8m 50s\n",
      "277:\tlearn: 0.2903211\ttotal: 3m 24s\tremaining: 8m 49s\n",
      "278:\tlearn: 0.2902628\ttotal: 3m 24s\tremaining: 8m 49s\n",
      "279:\tlearn: 0.2901932\ttotal: 3m 25s\tremaining: 8m 48s\n",
      "280:\tlearn: 0.2901338\ttotal: 3m 26s\tremaining: 8m 47s\n",
      "281:\tlearn: 0.2900487\ttotal: 3m 26s\tremaining: 8m 46s\n",
      "282:\tlearn: 0.2899606\ttotal: 3m 27s\tremaining: 8m 46s\n",
      "283:\tlearn: 0.2898832\ttotal: 3m 28s\tremaining: 8m 45s\n",
      "284:\tlearn: 0.2897923\ttotal: 3m 29s\tremaining: 8m 44s\n",
      "285:\tlearn: 0.2897297\ttotal: 3m 29s\tremaining: 8m 43s\n",
      "286:\tlearn: 0.2896839\ttotal: 3m 30s\tremaining: 8m 42s\n",
      "287:\tlearn: 0.2895835\ttotal: 3m 31s\tremaining: 8m 42s\n",
      "288:\tlearn: 0.2894911\ttotal: 3m 32s\tremaining: 8m 42s\n",
      "289:\tlearn: 0.2894461\ttotal: 3m 33s\tremaining: 8m 41s\n",
      "290:\tlearn: 0.2893917\ttotal: 3m 33s\tremaining: 8m 41s\n",
      "291:\tlearn: 0.2893147\ttotal: 3m 34s\tremaining: 8m 39s\n",
      "292:\tlearn: 0.2892234\ttotal: 3m 35s\tremaining: 8m 39s\n",
      "293:\tlearn: 0.2891420\ttotal: 3m 35s\tremaining: 8m 38s\n",
      "294:\tlearn: 0.2890572\ttotal: 3m 36s\tremaining: 8m 37s\n",
      "295:\tlearn: 0.2889644\ttotal: 3m 37s\tremaining: 8m 36s\n",
      "296:\tlearn: 0.2889050\ttotal: 3m 37s\tremaining: 8m 35s\n",
      "297:\tlearn: 0.2888203\ttotal: 3m 38s\tremaining: 8m 34s\n",
      "298:\tlearn: 0.2887515\ttotal: 3m 39s\tremaining: 8m 34s\n",
      "299:\tlearn: 0.2886821\ttotal: 3m 40s\tremaining: 8m 33s\n",
      "300:\tlearn: 0.2885989\ttotal: 3m 40s\tremaining: 8m 32s\n",
      "301:\tlearn: 0.2884934\ttotal: 3m 41s\tremaining: 8m 32s\n",
      "302:\tlearn: 0.2883994\ttotal: 3m 42s\tremaining: 8m 31s\n",
      "303:\tlearn: 0.2883308\ttotal: 3m 43s\tremaining: 8m 30s\n",
      "304:\tlearn: 0.2882877\ttotal: 3m 43s\tremaining: 8m 29s\n",
      "305:\tlearn: 0.2881975\ttotal: 3m 44s\tremaining: 8m 29s\n"
     ]
    },
    {
     "name": "stdout",
     "output_type": "stream",
     "text": [
      "306:\tlearn: 0.2881151\ttotal: 3m 45s\tremaining: 8m 28s\n",
      "307:\tlearn: 0.2880220\ttotal: 3m 45s\tremaining: 8m 27s\n",
      "308:\tlearn: 0.2879540\ttotal: 3m 46s\tremaining: 8m 26s\n",
      "309:\tlearn: 0.2878798\ttotal: 3m 47s\tremaining: 8m 26s\n",
      "310:\tlearn: 0.2878070\ttotal: 3m 48s\tremaining: 8m 26s\n",
      "311:\tlearn: 0.2877361\ttotal: 3m 49s\tremaining: 8m 25s\n",
      "312:\tlearn: 0.2876290\ttotal: 3m 50s\tremaining: 8m 25s\n",
      "313:\tlearn: 0.2875614\ttotal: 3m 50s\tremaining: 8m 24s\n",
      "314:\tlearn: 0.2874693\ttotal: 3m 51s\tremaining: 8m 23s\n",
      "315:\tlearn: 0.2874043\ttotal: 3m 52s\tremaining: 8m 22s\n",
      "316:\tlearn: 0.2873231\ttotal: 3m 52s\tremaining: 8m 21s\n",
      "317:\tlearn: 0.2872499\ttotal: 3m 53s\tremaining: 8m 20s\n",
      "318:\tlearn: 0.2871562\ttotal: 3m 54s\tremaining: 8m 19s\n",
      "319:\tlearn: 0.2870578\ttotal: 3m 54s\tremaining: 8m 18s\n",
      "320:\tlearn: 0.2869664\ttotal: 3m 55s\tremaining: 8m 18s\n",
      "321:\tlearn: 0.2868758\ttotal: 3m 56s\tremaining: 8m 17s\n",
      "322:\tlearn: 0.2867950\ttotal: 3m 57s\tremaining: 8m 16s\n",
      "323:\tlearn: 0.2867373\ttotal: 3m 57s\tremaining: 8m 16s\n",
      "324:\tlearn: 0.2866817\ttotal: 3m 58s\tremaining: 8m 15s\n",
      "325:\tlearn: 0.2866347\ttotal: 3m 59s\tremaining: 8m 14s\n",
      "326:\tlearn: 0.2865745\ttotal: 3m 59s\tremaining: 8m 13s\n",
      "327:\tlearn: 0.2865350\ttotal: 4m\tremaining: 8m 12s\n",
      "328:\tlearn: 0.2864695\ttotal: 4m 1s\tremaining: 8m 11s\n",
      "329:\tlearn: 0.2863968\ttotal: 4m 1s\tremaining: 8m 10s\n",
      "330:\tlearn: 0.2863266\ttotal: 4m 2s\tremaining: 8m 10s\n",
      "331:\tlearn: 0.2862441\ttotal: 4m 3s\tremaining: 8m 9s\n",
      "332:\tlearn: 0.2861764\ttotal: 4m 3s\tremaining: 8m 8s\n",
      "333:\tlearn: 0.2860697\ttotal: 4m 4s\tremaining: 8m 7s\n",
      "334:\tlearn: 0.2860230\ttotal: 4m 5s\tremaining: 8m 6s\n",
      "335:\tlearn: 0.2859701\ttotal: 4m 5s\tremaining: 8m 5s\n",
      "336:\tlearn: 0.2858869\ttotal: 4m 6s\tremaining: 8m 4s\n",
      "337:\tlearn: 0.2858291\ttotal: 4m 7s\tremaining: 8m 3s\n",
      "338:\tlearn: 0.2857517\ttotal: 4m 7s\tremaining: 8m 2s\n",
      "339:\tlearn: 0.2856981\ttotal: 4m 8s\tremaining: 8m 2s\n",
      "340:\tlearn: 0.2856073\ttotal: 4m 9s\tremaining: 8m 1s\n",
      "341:\tlearn: 0.2855079\ttotal: 4m 9s\tremaining: 8m\n",
      "342:\tlearn: 0.2853811\ttotal: 4m 10s\tremaining: 7m 59s\n",
      "343:\tlearn: 0.2853005\ttotal: 4m 11s\tremaining: 7m 59s\n",
      "344:\tlearn: 0.2852222\ttotal: 4m 11s\tremaining: 7m 58s\n",
      "345:\tlearn: 0.2851645\ttotal: 4m 12s\tremaining: 7m 57s\n",
      "346:\tlearn: 0.2851064\ttotal: 4m 13s\tremaining: 7m 56s\n",
      "347:\tlearn: 0.2850445\ttotal: 4m 13s\tremaining: 7m 55s\n",
      "348:\tlearn: 0.2849277\ttotal: 4m 14s\tremaining: 7m 54s\n",
      "349:\tlearn: 0.2848620\ttotal: 4m 15s\tremaining: 7m 54s\n",
      "350:\tlearn: 0.2848107\ttotal: 4m 15s\tremaining: 7m 53s\n",
      "351:\tlearn: 0.2847325\ttotal: 4m 16s\tremaining: 7m 52s\n",
      "352:\tlearn: 0.2846586\ttotal: 4m 17s\tremaining: 7m 51s\n",
      "353:\tlearn: 0.2846022\ttotal: 4m 17s\tremaining: 7m 50s\n",
      "354:\tlearn: 0.2845383\ttotal: 4m 18s\tremaining: 7m 49s\n",
      "355:\tlearn: 0.2844618\ttotal: 4m 18s\tremaining: 7m 48s\n",
      "356:\tlearn: 0.2844207\ttotal: 4m 19s\tremaining: 7m 47s\n",
      "357:\tlearn: 0.2843234\ttotal: 4m 20s\tremaining: 7m 46s\n",
      "358:\tlearn: 0.2842416\ttotal: 4m 20s\tremaining: 7m 45s\n",
      "359:\tlearn: 0.2841790\ttotal: 4m 21s\tremaining: 7m 44s\n",
      "360:\tlearn: 0.2841201\ttotal: 4m 21s\tremaining: 7m 43s\n",
      "361:\tlearn: 0.2840555\ttotal: 4m 22s\tremaining: 7m 42s\n",
      "362:\tlearn: 0.2839957\ttotal: 4m 23s\tremaining: 7m 41s\n",
      "363:\tlearn: 0.2838980\ttotal: 4m 23s\tremaining: 7m 41s\n",
      "364:\tlearn: 0.2837757\ttotal: 4m 24s\tremaining: 7m 40s\n",
      "365:\tlearn: 0.2837168\ttotal: 4m 25s\tremaining: 7m 39s\n",
      "366:\tlearn: 0.2836654\ttotal: 4m 25s\tremaining: 7m 38s\n",
      "367:\tlearn: 0.2835897\ttotal: 4m 26s\tremaining: 7m 38s\n",
      "368:\tlearn: 0.2835069\ttotal: 4m 27s\tremaining: 7m 37s\n",
      "369:\tlearn: 0.2834587\ttotal: 4m 28s\tremaining: 7m 36s\n",
      "370:\tlearn: 0.2833955\ttotal: 4m 28s\tremaining: 7m 35s\n",
      "371:\tlearn: 0.2833082\ttotal: 4m 29s\tremaining: 7m 35s\n",
      "372:\tlearn: 0.2832038\ttotal: 4m 30s\tremaining: 7m 34s\n",
      "373:\tlearn: 0.2831750\ttotal: 4m 30s\tremaining: 7m 33s\n",
      "374:\tlearn: 0.2830980\ttotal: 4m 31s\tremaining: 7m 32s\n",
      "375:\tlearn: 0.2830270\ttotal: 4m 32s\tremaining: 7m 31s\n",
      "376:\tlearn: 0.2829629\ttotal: 4m 32s\tremaining: 7m 30s\n",
      "377:\tlearn: 0.2828782\ttotal: 4m 33s\tremaining: 7m 30s\n",
      "378:\tlearn: 0.2827905\ttotal: 4m 34s\tremaining: 7m 29s\n",
      "379:\tlearn: 0.2827332\ttotal: 4m 35s\tremaining: 7m 28s\n",
      "380:\tlearn: 0.2826574\ttotal: 4m 35s\tremaining: 7m 27s\n",
      "381:\tlearn: 0.2826061\ttotal: 4m 36s\tremaining: 7m 27s\n",
      "382:\tlearn: 0.2825126\ttotal: 4m 37s\tremaining: 7m 26s\n",
      "383:\tlearn: 0.2824258\ttotal: 4m 37s\tremaining: 7m 25s\n",
      "384:\tlearn: 0.2823486\ttotal: 4m 38s\tremaining: 7m 24s\n",
      "385:\tlearn: 0.2822545\ttotal: 4m 39s\tremaining: 7m 24s\n",
      "386:\tlearn: 0.2821607\ttotal: 4m 40s\tremaining: 7m 23s\n",
      "387:\tlearn: 0.2820751\ttotal: 4m 40s\tremaining: 7m 23s\n",
      "388:\tlearn: 0.2819992\ttotal: 4m 41s\tremaining: 7m 22s\n",
      "389:\tlearn: 0.2819014\ttotal: 4m 42s\tremaining: 7m 21s\n",
      "390:\tlearn: 0.2818264\ttotal: 4m 42s\tremaining: 7m 20s\n",
      "391:\tlearn: 0.2817603\ttotal: 4m 43s\tremaining: 7m 20s\n",
      "392:\tlearn: 0.2816963\ttotal: 4m 44s\tremaining: 7m 19s\n",
      "393:\tlearn: 0.2816417\ttotal: 4m 44s\tremaining: 7m 18s\n",
      "394:\tlearn: 0.2815487\ttotal: 4m 45s\tremaining: 7m 17s\n",
      "395:\tlearn: 0.2814820\ttotal: 4m 46s\tremaining: 7m 16s\n",
      "396:\tlearn: 0.2814317\ttotal: 4m 46s\tremaining: 7m 15s\n",
      "397:\tlearn: 0.2813483\ttotal: 4m 47s\tremaining: 7m 14s\n",
      "398:\tlearn: 0.2812720\ttotal: 4m 48s\tremaining: 7m 13s\n",
      "399:\tlearn: 0.2812194\ttotal: 4m 48s\tremaining: 7m 13s\n",
      "400:\tlearn: 0.2811346\ttotal: 4m 49s\tremaining: 7m 12s\n",
      "401:\tlearn: 0.2810742\ttotal: 4m 49s\tremaining: 7m 11s\n",
      "402:\tlearn: 0.2810010\ttotal: 4m 50s\tremaining: 7m 10s\n",
      "403:\tlearn: 0.2809502\ttotal: 4m 51s\tremaining: 7m 9s\n",
      "404:\tlearn: 0.2808634\ttotal: 4m 52s\tremaining: 7m 9s\n",
      "405:\tlearn: 0.2807915\ttotal: 4m 52s\tremaining: 7m 8s\n",
      "406:\tlearn: 0.2807476\ttotal: 4m 53s\tremaining: 7m 7s\n",
      "407:\tlearn: 0.2806770\ttotal: 4m 53s\tremaining: 7m 6s\n",
      "408:\tlearn: 0.2806045\ttotal: 4m 54s\tremaining: 7m 5s\n",
      "409:\tlearn: 0.2805064\ttotal: 4m 55s\tremaining: 7m 5s\n",
      "410:\tlearn: 0.2803904\ttotal: 4m 56s\tremaining: 7m 4s\n",
      "411:\tlearn: 0.2803207\ttotal: 4m 56s\tremaining: 7m 3s\n",
      "412:\tlearn: 0.2802381\ttotal: 4m 57s\tremaining: 7m 2s\n",
      "413:\tlearn: 0.2801392\ttotal: 4m 58s\tremaining: 7m 2s\n",
      "414:\tlearn: 0.2800518\ttotal: 4m 59s\tremaining: 7m 1s\n",
      "415:\tlearn: 0.2800018\ttotal: 4m 59s\tremaining: 7m\n",
      "416:\tlearn: 0.2799313\ttotal: 5m\tremaining: 6m 59s\n",
      "417:\tlearn: 0.2798613\ttotal: 5m\tremaining: 6m 59s\n",
      "418:\tlearn: 0.2798092\ttotal: 5m 1s\tremaining: 6m 58s\n",
      "419:\tlearn: 0.2797157\ttotal: 5m 2s\tremaining: 6m 57s\n",
      "420:\tlearn: 0.2796507\ttotal: 5m 2s\tremaining: 6m 56s\n",
      "421:\tlearn: 0.2795800\ttotal: 5m 3s\tremaining: 6m 55s\n",
      "422:\tlearn: 0.2794753\ttotal: 5m 4s\tremaining: 6m 54s\n",
      "423:\tlearn: 0.2793994\ttotal: 5m 4s\tremaining: 6m 54s\n",
      "424:\tlearn: 0.2792921\ttotal: 5m 5s\tremaining: 6m 53s\n",
      "425:\tlearn: 0.2792219\ttotal: 5m 6s\tremaining: 6m 52s\n",
      "426:\tlearn: 0.2791623\ttotal: 5m 6s\tremaining: 6m 51s\n",
      "427:\tlearn: 0.2790835\ttotal: 5m 7s\tremaining: 6m 50s\n",
      "428:\tlearn: 0.2789998\ttotal: 5m 8s\tremaining: 6m 50s\n",
      "429:\tlearn: 0.2789455\ttotal: 5m 8s\tremaining: 6m 49s\n",
      "430:\tlearn: 0.2788989\ttotal: 5m 9s\tremaining: 6m 48s\n",
      "431:\tlearn: 0.2788043\ttotal: 5m 10s\tremaining: 6m 47s\n",
      "432:\tlearn: 0.2787237\ttotal: 5m 10s\tremaining: 6m 47s\n",
      "433:\tlearn: 0.2786837\ttotal: 5m 11s\tremaining: 6m 46s\n",
      "434:\tlearn: 0.2786109\ttotal: 5m 12s\tremaining: 6m 45s\n",
      "435:\tlearn: 0.2785564\ttotal: 5m 12s\tremaining: 6m 44s\n",
      "436:\tlearn: 0.2784600\ttotal: 5m 13s\tremaining: 6m 44s\n",
      "437:\tlearn: 0.2784087\ttotal: 5m 14s\tremaining: 6m 43s\n",
      "438:\tlearn: 0.2783354\ttotal: 5m 14s\tremaining: 6m 42s\n",
      "439:\tlearn: 0.2782649\ttotal: 5m 15s\tremaining: 6m 41s\n",
      "440:\tlearn: 0.2781823\ttotal: 5m 16s\tremaining: 6m 41s\n",
      "441:\tlearn: 0.2781172\ttotal: 5m 17s\tremaining: 6m 40s\n",
      "442:\tlearn: 0.2780469\ttotal: 5m 17s\tremaining: 6m 39s\n",
      "443:\tlearn: 0.2779731\ttotal: 5m 18s\tremaining: 6m 38s\n",
      "444:\tlearn: 0.2778847\ttotal: 5m 19s\tremaining: 6m 38s\n",
      "445:\tlearn: 0.2778046\ttotal: 5m 20s\tremaining: 6m 37s\n",
      "446:\tlearn: 0.2777157\ttotal: 5m 20s\tremaining: 6m 36s\n",
      "447:\tlearn: 0.2776510\ttotal: 5m 21s\tremaining: 6m 35s\n",
      "448:\tlearn: 0.2775713\ttotal: 5m 22s\tremaining: 6m 35s\n",
      "449:\tlearn: 0.2775277\ttotal: 5m 22s\tremaining: 6m 34s\n",
      "450:\tlearn: 0.2774819\ttotal: 5m 23s\tremaining: 6m 33s\n",
      "451:\tlearn: 0.2774190\ttotal: 5m 23s\tremaining: 6m 32s\n",
      "452:\tlearn: 0.2773639\ttotal: 5m 24s\tremaining: 6m 31s\n",
      "453:\tlearn: 0.2773028\ttotal: 5m 25s\tremaining: 6m 30s\n",
      "454:\tlearn: 0.2772538\ttotal: 5m 25s\tremaining: 6m 30s\n",
      "455:\tlearn: 0.2772158\ttotal: 5m 26s\tremaining: 6m 29s\n",
      "456:\tlearn: 0.2771192\ttotal: 5m 27s\tremaining: 6m 28s\n",
      "457:\tlearn: 0.2770663\ttotal: 5m 27s\tremaining: 6m 27s\n",
      "458:\tlearn: 0.2769853\ttotal: 5m 28s\tremaining: 6m 27s\n"
     ]
    },
    {
     "name": "stdout",
     "output_type": "stream",
     "text": [
      "459:\tlearn: 0.2769297\ttotal: 5m 29s\tremaining: 6m 26s\n",
      "460:\tlearn: 0.2768920\ttotal: 5m 29s\tremaining: 6m 25s\n",
      "461:\tlearn: 0.2768239\ttotal: 5m 30s\tremaining: 6m 24s\n",
      "462:\tlearn: 0.2767356\ttotal: 5m 31s\tremaining: 6m 24s\n",
      "463:\tlearn: 0.2766566\ttotal: 5m 32s\tremaining: 6m 23s\n",
      "464:\tlearn: 0.2765813\ttotal: 5m 32s\tremaining: 6m 22s\n",
      "465:\tlearn: 0.2764832\ttotal: 5m 33s\tremaining: 6m 22s\n",
      "466:\tlearn: 0.2764229\ttotal: 5m 34s\tremaining: 6m 21s\n",
      "467:\tlearn: 0.2763482\ttotal: 5m 34s\tremaining: 6m 20s\n",
      "468:\tlearn: 0.2762632\ttotal: 5m 35s\tremaining: 6m 20s\n",
      "469:\tlearn: 0.2762065\ttotal: 5m 36s\tremaining: 6m 19s\n",
      "470:\tlearn: 0.2761204\ttotal: 5m 37s\tremaining: 6m 18s\n",
      "471:\tlearn: 0.2760493\ttotal: 5m 37s\tremaining: 6m 17s\n",
      "472:\tlearn: 0.2760044\ttotal: 5m 38s\tremaining: 6m 16s\n",
      "473:\tlearn: 0.2759561\ttotal: 5m 39s\tremaining: 6m 16s\n",
      "474:\tlearn: 0.2758998\ttotal: 5m 39s\tremaining: 6m 15s\n",
      "475:\tlearn: 0.2758500\ttotal: 5m 40s\tremaining: 6m 14s\n",
      "476:\tlearn: 0.2757759\ttotal: 5m 40s\tremaining: 6m 13s\n",
      "477:\tlearn: 0.2757040\ttotal: 5m 41s\tremaining: 6m 13s\n",
      "478:\tlearn: 0.2756219\ttotal: 5m 42s\tremaining: 6m 12s\n",
      "479:\tlearn: 0.2755746\ttotal: 5m 43s\tremaining: 6m 11s\n",
      "480:\tlearn: 0.2754900\ttotal: 5m 43s\tremaining: 6m 10s\n",
      "481:\tlearn: 0.2754544\ttotal: 5m 44s\tremaining: 6m 9s\n",
      "482:\tlearn: 0.2753931\ttotal: 5m 44s\tremaining: 6m 9s\n",
      "483:\tlearn: 0.2753047\ttotal: 5m 45s\tremaining: 6m 8s\n",
      "484:\tlearn: 0.2752684\ttotal: 5m 46s\tremaining: 6m 7s\n",
      "485:\tlearn: 0.2752056\ttotal: 5m 46s\tremaining: 6m 6s\n",
      "486:\tlearn: 0.2751379\ttotal: 5m 47s\tremaining: 6m 6s\n",
      "487:\tlearn: 0.2751158\ttotal: 5m 48s\tremaining: 6m 5s\n",
      "488:\tlearn: 0.2750383\ttotal: 5m 49s\tremaining: 6m 4s\n",
      "489:\tlearn: 0.2749652\ttotal: 5m 49s\tremaining: 6m 4s\n",
      "490:\tlearn: 0.2748776\ttotal: 5m 50s\tremaining: 6m 3s\n",
      "491:\tlearn: 0.2748208\ttotal: 5m 50s\tremaining: 6m 2s\n",
      "492:\tlearn: 0.2747631\ttotal: 5m 51s\tremaining: 6m 1s\n",
      "493:\tlearn: 0.2746909\ttotal: 5m 52s\tremaining: 6m\n",
      "494:\tlearn: 0.2746272\ttotal: 5m 53s\tremaining: 6m\n",
      "495:\tlearn: 0.2745385\ttotal: 5m 53s\tremaining: 5m 59s\n",
      "496:\tlearn: 0.2744768\ttotal: 5m 54s\tremaining: 5m 59s\n",
      "497:\tlearn: 0.2744152\ttotal: 5m 55s\tremaining: 5m 58s\n",
      "498:\tlearn: 0.2743444\ttotal: 5m 56s\tremaining: 5m 57s\n",
      "499:\tlearn: 0.2742684\ttotal: 5m 56s\tremaining: 5m 56s\n",
      "500:\tlearn: 0.2742006\ttotal: 5m 57s\tremaining: 5m 56s\n",
      "501:\tlearn: 0.2741443\ttotal: 5m 58s\tremaining: 5m 55s\n",
      "502:\tlearn: 0.2740933\ttotal: 5m 58s\tremaining: 5m 54s\n",
      "503:\tlearn: 0.2740584\ttotal: 5m 59s\tremaining: 5m 53s\n",
      "504:\tlearn: 0.2740044\ttotal: 6m\tremaining: 5m 52s\n",
      "505:\tlearn: 0.2738966\ttotal: 6m\tremaining: 5m 52s\n",
      "506:\tlearn: 0.2738526\ttotal: 6m 1s\tremaining: 5m 51s\n",
      "507:\tlearn: 0.2737816\ttotal: 6m 2s\tremaining: 5m 50s\n",
      "508:\tlearn: 0.2736999\ttotal: 6m 2s\tremaining: 5m 50s\n",
      "509:\tlearn: 0.2736279\ttotal: 6m 3s\tremaining: 5m 49s\n",
      "510:\tlearn: 0.2735761\ttotal: 6m 4s\tremaining: 5m 48s\n",
      "511:\tlearn: 0.2735251\ttotal: 6m 4s\tremaining: 5m 47s\n",
      "512:\tlearn: 0.2734436\ttotal: 6m 5s\tremaining: 5m 47s\n",
      "513:\tlearn: 0.2733837\ttotal: 6m 6s\tremaining: 5m 46s\n",
      "514:\tlearn: 0.2733332\ttotal: 6m 7s\tremaining: 5m 45s\n",
      "515:\tlearn: 0.2732698\ttotal: 6m 7s\tremaining: 5m 44s\n",
      "516:\tlearn: 0.2732048\ttotal: 6m 8s\tremaining: 5m 44s\n",
      "517:\tlearn: 0.2731578\ttotal: 6m 8s\tremaining: 5m 43s\n",
      "518:\tlearn: 0.2730864\ttotal: 6m 9s\tremaining: 5m 42s\n",
      "519:\tlearn: 0.2730160\ttotal: 6m 10s\tremaining: 5m 41s\n",
      "520:\tlearn: 0.2729490\ttotal: 6m 10s\tremaining: 5m 40s\n",
      "521:\tlearn: 0.2728688\ttotal: 6m 11s\tremaining: 5m 40s\n",
      "522:\tlearn: 0.2728277\ttotal: 6m 12s\tremaining: 5m 39s\n",
      "523:\tlearn: 0.2727503\ttotal: 6m 12s\tremaining: 5m 38s\n",
      "524:\tlearn: 0.2727149\ttotal: 6m 13s\tremaining: 5m 37s\n",
      "525:\tlearn: 0.2726605\ttotal: 6m 13s\tremaining: 5m 37s\n",
      "526:\tlearn: 0.2725973\ttotal: 6m 14s\tremaining: 5m 36s\n",
      "527:\tlearn: 0.2725371\ttotal: 6m 15s\tremaining: 5m 35s\n",
      "528:\tlearn: 0.2724569\ttotal: 6m 16s\tremaining: 5m 34s\n",
      "529:\tlearn: 0.2724030\ttotal: 6m 16s\tremaining: 5m 34s\n",
      "530:\tlearn: 0.2723332\ttotal: 6m 17s\tremaining: 5m 33s\n",
      "531:\tlearn: 0.2722787\ttotal: 6m 18s\tremaining: 5m 32s\n",
      "532:\tlearn: 0.2722335\ttotal: 6m 19s\tremaining: 5m 32s\n",
      "533:\tlearn: 0.2721750\ttotal: 6m 19s\tremaining: 5m 31s\n",
      "534:\tlearn: 0.2721102\ttotal: 6m 20s\tremaining: 5m 30s\n",
      "535:\tlearn: 0.2720675\ttotal: 6m 21s\tremaining: 5m 29s\n",
      "536:\tlearn: 0.2719921\ttotal: 6m 21s\tremaining: 5m 29s\n",
      "537:\tlearn: 0.2719119\ttotal: 6m 22s\tremaining: 5m 28s\n",
      "538:\tlearn: 0.2718607\ttotal: 6m 23s\tremaining: 5m 27s\n",
      "539:\tlearn: 0.2718033\ttotal: 6m 24s\tremaining: 5m 27s\n",
      "540:\tlearn: 0.2717545\ttotal: 6m 24s\tremaining: 5m 26s\n",
      "541:\tlearn: 0.2716841\ttotal: 6m 25s\tremaining: 5m 25s\n",
      "542:\tlearn: 0.2716012\ttotal: 6m 26s\tremaining: 5m 24s\n",
      "543:\tlearn: 0.2715324\ttotal: 6m 26s\tremaining: 5m 24s\n",
      "544:\tlearn: 0.2714549\ttotal: 6m 27s\tremaining: 5m 23s\n",
      "545:\tlearn: 0.2714097\ttotal: 6m 28s\tremaining: 5m 22s\n",
      "546:\tlearn: 0.2713489\ttotal: 6m 28s\tremaining: 5m 21s\n",
      "547:\tlearn: 0.2712651\ttotal: 6m 29s\tremaining: 5m 21s\n",
      "548:\tlearn: 0.2711913\ttotal: 6m 30s\tremaining: 5m 20s\n",
      "549:\tlearn: 0.2711293\ttotal: 6m 31s\tremaining: 5m 19s\n",
      "550:\tlearn: 0.2710536\ttotal: 6m 31s\tremaining: 5m 19s\n",
      "551:\tlearn: 0.2709940\ttotal: 6m 32s\tremaining: 5m 18s\n",
      "552:\tlearn: 0.2709075\ttotal: 6m 33s\tremaining: 5m 17s\n",
      "553:\tlearn: 0.2708610\ttotal: 6m 33s\tremaining: 5m 16s\n",
      "554:\tlearn: 0.2707866\ttotal: 6m 34s\tremaining: 5m 16s\n",
      "555:\tlearn: 0.2707120\ttotal: 6m 35s\tremaining: 5m 15s\n",
      "556:\tlearn: 0.2706314\ttotal: 6m 36s\tremaining: 5m 14s\n",
      "557:\tlearn: 0.2705787\ttotal: 6m 36s\tremaining: 5m 14s\n",
      "558:\tlearn: 0.2704817\ttotal: 6m 37s\tremaining: 5m 13s\n",
      "559:\tlearn: 0.2704135\ttotal: 6m 38s\tremaining: 5m 12s\n",
      "560:\tlearn: 0.2703550\ttotal: 6m 38s\tremaining: 5m 12s\n",
      "561:\tlearn: 0.2702984\ttotal: 6m 39s\tremaining: 5m 11s\n",
      "562:\tlearn: 0.2702291\ttotal: 6m 40s\tremaining: 5m 10s\n",
      "563:\tlearn: 0.2701754\ttotal: 6m 40s\tremaining: 5m 9s\n",
      "564:\tlearn: 0.2700859\ttotal: 6m 41s\tremaining: 5m 9s\n",
      "565:\tlearn: 0.2700121\ttotal: 6m 42s\tremaining: 5m 8s\n",
      "566:\tlearn: 0.2699519\ttotal: 6m 42s\tremaining: 5m 7s\n",
      "567:\tlearn: 0.2698775\ttotal: 6m 43s\tremaining: 5m 6s\n",
      "568:\tlearn: 0.2698043\ttotal: 6m 44s\tremaining: 5m 6s\n",
      "569:\tlearn: 0.2697204\ttotal: 6m 44s\tremaining: 5m 5s\n",
      "570:\tlearn: 0.2696565\ttotal: 6m 45s\tremaining: 5m 4s\n",
      "571:\tlearn: 0.2695645\ttotal: 6m 46s\tremaining: 5m 4s\n",
      "572:\tlearn: 0.2695151\ttotal: 6m 46s\tremaining: 5m 3s\n",
      "573:\tlearn: 0.2694547\ttotal: 6m 47s\tremaining: 5m 2s\n",
      "574:\tlearn: 0.2693499\ttotal: 6m 48s\tremaining: 5m 1s\n",
      "575:\tlearn: 0.2692903\ttotal: 6m 49s\tremaining: 5m 1s\n",
      "576:\tlearn: 0.2692126\ttotal: 6m 49s\tremaining: 5m\n",
      "577:\tlearn: 0.2691227\ttotal: 6m 50s\tremaining: 4m 59s\n",
      "578:\tlearn: 0.2690513\ttotal: 6m 51s\tremaining: 4m 59s\n",
      "579:\tlearn: 0.2689683\ttotal: 6m 52s\tremaining: 4m 58s\n",
      "580:\tlearn: 0.2688783\ttotal: 6m 53s\tremaining: 4m 57s\n",
      "581:\tlearn: 0.2688105\ttotal: 6m 53s\tremaining: 4m 57s\n",
      "582:\tlearn: 0.2687373\ttotal: 6m 54s\tremaining: 4m 56s\n",
      "583:\tlearn: 0.2686867\ttotal: 6m 55s\tremaining: 4m 55s\n",
      "584:\tlearn: 0.2686216\ttotal: 6m 55s\tremaining: 4m 54s\n",
      "585:\tlearn: 0.2685214\ttotal: 6m 56s\tremaining: 4m 54s\n",
      "586:\tlearn: 0.2684747\ttotal: 6m 57s\tremaining: 4m 53s\n",
      "587:\tlearn: 0.2684083\ttotal: 6m 57s\tremaining: 4m 52s\n",
      "588:\tlearn: 0.2683724\ttotal: 6m 58s\tremaining: 4m 51s\n",
      "589:\tlearn: 0.2682722\ttotal: 6m 59s\tremaining: 4m 51s\n",
      "590:\tlearn: 0.2682030\ttotal: 6m 59s\tremaining: 4m 50s\n",
      "591:\tlearn: 0.2681304\ttotal: 7m\tremaining: 4m 49s\n",
      "592:\tlearn: 0.2680312\ttotal: 7m 1s\tremaining: 4m 49s\n",
      "593:\tlearn: 0.2679903\ttotal: 7m 1s\tremaining: 4m 48s\n",
      "594:\tlearn: 0.2678992\ttotal: 7m 2s\tremaining: 4m 47s\n",
      "595:\tlearn: 0.2678043\ttotal: 7m 3s\tremaining: 4m 46s\n",
      "596:\tlearn: 0.2677525\ttotal: 7m 3s\tremaining: 4m 45s\n",
      "597:\tlearn: 0.2676852\ttotal: 7m 4s\tremaining: 4m 45s\n",
      "598:\tlearn: 0.2675949\ttotal: 7m 5s\tremaining: 4m 44s\n",
      "599:\tlearn: 0.2675084\ttotal: 7m 5s\tremaining: 4m 43s\n",
      "600:\tlearn: 0.2674477\ttotal: 7m 6s\tremaining: 4m 43s\n",
      "601:\tlearn: 0.2673758\ttotal: 7m 7s\tremaining: 4m 42s\n",
      "602:\tlearn: 0.2673277\ttotal: 7m 8s\tremaining: 4m 41s\n",
      "603:\tlearn: 0.2672619\ttotal: 7m 9s\tremaining: 4m 41s\n",
      "604:\tlearn: 0.2672220\ttotal: 7m 9s\tremaining: 4m 40s\n",
      "605:\tlearn: 0.2671511\ttotal: 7m 10s\tremaining: 4m 39s\n",
      "606:\tlearn: 0.2670929\ttotal: 7m 11s\tremaining: 4m 39s\n",
      "607:\tlearn: 0.2670471\ttotal: 7m 11s\tremaining: 4m 38s\n",
      "608:\tlearn: 0.2669871\ttotal: 7m 12s\tremaining: 4m 37s\n",
      "609:\tlearn: 0.2669313\ttotal: 7m 13s\tremaining: 4m 36s\n",
      "610:\tlearn: 0.2668916\ttotal: 7m 13s\tremaining: 4m 36s\n",
      "611:\tlearn: 0.2668456\ttotal: 7m 14s\tremaining: 4m 35s\n",
      "612:\tlearn: 0.2667547\ttotal: 7m 15s\tremaining: 4m 34s\n"
     ]
    },
    {
     "name": "stdout",
     "output_type": "stream",
     "text": [
      "613:\tlearn: 0.2666899\ttotal: 7m 15s\tremaining: 4m 34s\n",
      "614:\tlearn: 0.2666370\ttotal: 7m 16s\tremaining: 4m 33s\n",
      "615:\tlearn: 0.2665801\ttotal: 7m 17s\tremaining: 4m 32s\n",
      "616:\tlearn: 0.2665029\ttotal: 7m 18s\tremaining: 4m 31s\n",
      "617:\tlearn: 0.2664651\ttotal: 7m 18s\tremaining: 4m 31s\n",
      "618:\tlearn: 0.2664161\ttotal: 7m 19s\tremaining: 4m 30s\n",
      "619:\tlearn: 0.2663644\ttotal: 7m 20s\tremaining: 4m 29s\n",
      "620:\tlearn: 0.2663009\ttotal: 7m 21s\tremaining: 4m 29s\n",
      "621:\tlearn: 0.2662210\ttotal: 7m 21s\tremaining: 4m 28s\n",
      "622:\tlearn: 0.2661701\ttotal: 7m 22s\tremaining: 4m 27s\n",
      "623:\tlearn: 0.2660753\ttotal: 7m 23s\tremaining: 4m 26s\n",
      "624:\tlearn: 0.2660185\ttotal: 7m 23s\tremaining: 4m 26s\n",
      "625:\tlearn: 0.2659555\ttotal: 7m 24s\tremaining: 4m 25s\n",
      "626:\tlearn: 0.2658905\ttotal: 7m 24s\tremaining: 4m 24s\n",
      "627:\tlearn: 0.2658410\ttotal: 7m 25s\tremaining: 4m 23s\n",
      "628:\tlearn: 0.2657399\ttotal: 7m 26s\tremaining: 4m 23s\n",
      "629:\tlearn: 0.2656811\ttotal: 7m 26s\tremaining: 4m 22s\n",
      "630:\tlearn: 0.2655874\ttotal: 7m 27s\tremaining: 4m 21s\n",
      "631:\tlearn: 0.2655068\ttotal: 7m 28s\tremaining: 4m 21s\n",
      "632:\tlearn: 0.2654611\ttotal: 7m 29s\tremaining: 4m 20s\n",
      "633:\tlearn: 0.2654114\ttotal: 7m 29s\tremaining: 4m 19s\n",
      "634:\tlearn: 0.2653535\ttotal: 7m 30s\tremaining: 4m 18s\n",
      "635:\tlearn: 0.2652828\ttotal: 7m 30s\tremaining: 4m 18s\n",
      "636:\tlearn: 0.2652013\ttotal: 7m 31s\tremaining: 4m 17s\n",
      "637:\tlearn: 0.2651542\ttotal: 7m 32s\tremaining: 4m 16s\n",
      "638:\tlearn: 0.2650761\ttotal: 7m 32s\tremaining: 4m 15s\n",
      "639:\tlearn: 0.2650258\ttotal: 7m 33s\tremaining: 4m 15s\n",
      "640:\tlearn: 0.2649277\ttotal: 7m 34s\tremaining: 4m 14s\n",
      "641:\tlearn: 0.2648830\ttotal: 7m 35s\tremaining: 4m 13s\n",
      "642:\tlearn: 0.2648222\ttotal: 7m 35s\tremaining: 4m 13s\n",
      "643:\tlearn: 0.2647840\ttotal: 7m 36s\tremaining: 4m 12s\n",
      "644:\tlearn: 0.2647130\ttotal: 7m 37s\tremaining: 4m 11s\n",
      "645:\tlearn: 0.2646640\ttotal: 7m 37s\tremaining: 4m 10s\n",
      "646:\tlearn: 0.2646143\ttotal: 7m 38s\tremaining: 4m 10s\n",
      "647:\tlearn: 0.2645284\ttotal: 7m 39s\tremaining: 4m 9s\n",
      "648:\tlearn: 0.2644529\ttotal: 7m 39s\tremaining: 4m 8s\n",
      "649:\tlearn: 0.2643879\ttotal: 7m 40s\tremaining: 4m 8s\n",
      "650:\tlearn: 0.2643346\ttotal: 7m 41s\tremaining: 4m 7s\n",
      "651:\tlearn: 0.2642704\ttotal: 7m 42s\tremaining: 4m 6s\n",
      "652:\tlearn: 0.2641953\ttotal: 7m 42s\tremaining: 4m 5s\n",
      "653:\tlearn: 0.2641595\ttotal: 7m 43s\tremaining: 4m 5s\n",
      "654:\tlearn: 0.2641113\ttotal: 7m 44s\tremaining: 4m 4s\n",
      "655:\tlearn: 0.2640376\ttotal: 7m 44s\tremaining: 4m 3s\n",
      "656:\tlearn: 0.2639701\ttotal: 7m 45s\tremaining: 4m 2s\n",
      "657:\tlearn: 0.2639206\ttotal: 7m 46s\tremaining: 4m 2s\n",
      "658:\tlearn: 0.2638375\ttotal: 7m 47s\tremaining: 4m 1s\n",
      "659:\tlearn: 0.2637902\ttotal: 7m 47s\tremaining: 4m\n",
      "660:\tlearn: 0.2637323\ttotal: 7m 48s\tremaining: 4m\n",
      "661:\tlearn: 0.2636798\ttotal: 7m 49s\tremaining: 3m 59s\n",
      "662:\tlearn: 0.2636331\ttotal: 7m 49s\tremaining: 3m 58s\n",
      "663:\tlearn: 0.2636081\ttotal: 7m 50s\tremaining: 3m 57s\n",
      "664:\tlearn: 0.2635564\ttotal: 7m 50s\tremaining: 3m 57s\n",
      "665:\tlearn: 0.2634841\ttotal: 7m 51s\tremaining: 3m 56s\n",
      "666:\tlearn: 0.2634133\ttotal: 7m 52s\tremaining: 3m 55s\n",
      "667:\tlearn: 0.2633545\ttotal: 7m 52s\tremaining: 3m 54s\n",
      "668:\tlearn: 0.2633101\ttotal: 7m 53s\tremaining: 3m 54s\n",
      "669:\tlearn: 0.2632528\ttotal: 7m 53s\tremaining: 3m 53s\n",
      "670:\tlearn: 0.2631947\ttotal: 7m 54s\tremaining: 3m 52s\n",
      "671:\tlearn: 0.2631245\ttotal: 7m 55s\tremaining: 3m 52s\n",
      "672:\tlearn: 0.2630454\ttotal: 7m 56s\tremaining: 3m 51s\n",
      "673:\tlearn: 0.2630095\ttotal: 7m 56s\tremaining: 3m 50s\n",
      "674:\tlearn: 0.2629213\ttotal: 7m 57s\tremaining: 3m 49s\n",
      "675:\tlearn: 0.2628625\ttotal: 7m 58s\tremaining: 3m 49s\n",
      "676:\tlearn: 0.2628005\ttotal: 7m 58s\tremaining: 3m 48s\n",
      "677:\tlearn: 0.2627236\ttotal: 7m 59s\tremaining: 3m 47s\n",
      "678:\tlearn: 0.2626752\ttotal: 8m\tremaining: 3m 47s\n",
      "679:\tlearn: 0.2626153\ttotal: 8m\tremaining: 3m 46s\n",
      "680:\tlearn: 0.2625542\ttotal: 8m 1s\tremaining: 3m 45s\n",
      "681:\tlearn: 0.2624897\ttotal: 8m 2s\tremaining: 3m 44s\n",
      "682:\tlearn: 0.2624485\ttotal: 8m 2s\tremaining: 3m 44s\n",
      "683:\tlearn: 0.2623762\ttotal: 8m 3s\tremaining: 3m 43s\n",
      "684:\tlearn: 0.2622931\ttotal: 8m 4s\tremaining: 3m 42s\n",
      "685:\tlearn: 0.2622111\ttotal: 8m 5s\tremaining: 3m 42s\n",
      "686:\tlearn: 0.2621358\ttotal: 8m 6s\tremaining: 3m 41s\n",
      "687:\tlearn: 0.2620710\ttotal: 8m 6s\tremaining: 3m 40s\n",
      "688:\tlearn: 0.2620235\ttotal: 8m 7s\tremaining: 3m 40s\n",
      "689:\tlearn: 0.2619975\ttotal: 8m 8s\tremaining: 3m 39s\n",
      "690:\tlearn: 0.2619300\ttotal: 8m 8s\tremaining: 3m 38s\n",
      "691:\tlearn: 0.2618527\ttotal: 8m 9s\tremaining: 3m 37s\n",
      "692:\tlearn: 0.2617794\ttotal: 8m 10s\tremaining: 3m 37s\n",
      "693:\tlearn: 0.2617204\ttotal: 8m 11s\tremaining: 3m 36s\n",
      "694:\tlearn: 0.2616606\ttotal: 8m 11s\tremaining: 3m 35s\n",
      "695:\tlearn: 0.2615832\ttotal: 8m 12s\tremaining: 3m 35s\n",
      "696:\tlearn: 0.2615323\ttotal: 8m 13s\tremaining: 3m 34s\n",
      "697:\tlearn: 0.2615049\ttotal: 8m 13s\tremaining: 3m 33s\n",
      "698:\tlearn: 0.2614407\ttotal: 8m 14s\tremaining: 3m 33s\n",
      "699:\tlearn: 0.2613745\ttotal: 8m 15s\tremaining: 3m 32s\n",
      "700:\tlearn: 0.2613029\ttotal: 8m 16s\tremaining: 3m 31s\n",
      "701:\tlearn: 0.2612320\ttotal: 8m 16s\tremaining: 3m 30s\n",
      "702:\tlearn: 0.2611746\ttotal: 8m 17s\tremaining: 3m 30s\n",
      "703:\tlearn: 0.2611274\ttotal: 8m 18s\tremaining: 3m 29s\n",
      "704:\tlearn: 0.2610884\ttotal: 8m 18s\tremaining: 3m 28s\n",
      "705:\tlearn: 0.2610077\ttotal: 8m 19s\tremaining: 3m 28s\n",
      "706:\tlearn: 0.2609536\ttotal: 8m 20s\tremaining: 3m 27s\n",
      "707:\tlearn: 0.2609099\ttotal: 8m 20s\tremaining: 3m 26s\n",
      "708:\tlearn: 0.2608598\ttotal: 8m 21s\tremaining: 3m 25s\n",
      "709:\tlearn: 0.2607994\ttotal: 8m 21s\tremaining: 3m 25s\n",
      "710:\tlearn: 0.2607193\ttotal: 8m 22s\tremaining: 3m 24s\n",
      "711:\tlearn: 0.2606501\ttotal: 8m 23s\tremaining: 3m 23s\n",
      "712:\tlearn: 0.2605646\ttotal: 8m 24s\tremaining: 3m 22s\n",
      "713:\tlearn: 0.2604888\ttotal: 8m 24s\tremaining: 3m 22s\n",
      "714:\tlearn: 0.2604411\ttotal: 8m 25s\tremaining: 3m 21s\n",
      "715:\tlearn: 0.2604030\ttotal: 8m 26s\tremaining: 3m 20s\n",
      "716:\tlearn: 0.2603128\ttotal: 8m 26s\tremaining: 3m 20s\n",
      "717:\tlearn: 0.2602314\ttotal: 8m 27s\tremaining: 3m 19s\n",
      "718:\tlearn: 0.2601502\ttotal: 8m 28s\tremaining: 3m 18s\n",
      "719:\tlearn: 0.2600963\ttotal: 8m 29s\tremaining: 3m 17s\n",
      "720:\tlearn: 0.2600563\ttotal: 8m 29s\tremaining: 3m 17s\n",
      "721:\tlearn: 0.2599997\ttotal: 8m 30s\tremaining: 3m 16s\n",
      "722:\tlearn: 0.2599657\ttotal: 8m 31s\tremaining: 3m 15s\n",
      "723:\tlearn: 0.2598924\ttotal: 8m 31s\tremaining: 3m 15s\n",
      "724:\tlearn: 0.2598393\ttotal: 8m 32s\tremaining: 3m 14s\n",
      "725:\tlearn: 0.2597789\ttotal: 8m 33s\tremaining: 3m 13s\n",
      "726:\tlearn: 0.2597313\ttotal: 8m 33s\tremaining: 3m 12s\n",
      "727:\tlearn: 0.2596818\ttotal: 8m 34s\tremaining: 3m 12s\n",
      "728:\tlearn: 0.2596156\ttotal: 8m 35s\tremaining: 3m 11s\n",
      "729:\tlearn: 0.2595699\ttotal: 8m 35s\tremaining: 3m 10s\n",
      "730:\tlearn: 0.2595055\ttotal: 8m 36s\tremaining: 3m 10s\n",
      "731:\tlearn: 0.2594529\ttotal: 8m 37s\tremaining: 3m 9s\n",
      "732:\tlearn: 0.2593727\ttotal: 8m 38s\tremaining: 3m 8s\n",
      "733:\tlearn: 0.2593174\ttotal: 8m 39s\tremaining: 3m 8s\n",
      "734:\tlearn: 0.2592551\ttotal: 8m 39s\tremaining: 3m 7s\n",
      "735:\tlearn: 0.2592094\ttotal: 8m 40s\tremaining: 3m 6s\n",
      "736:\tlearn: 0.2591301\ttotal: 8m 41s\tremaining: 3m 6s\n",
      "737:\tlearn: 0.2590776\ttotal: 8m 42s\tremaining: 3m 5s\n",
      "738:\tlearn: 0.2590037\ttotal: 8m 43s\tremaining: 3m 4s\n",
      "739:\tlearn: 0.2589253\ttotal: 8m 43s\tremaining: 3m 4s\n",
      "740:\tlearn: 0.2588874\ttotal: 8m 44s\tremaining: 3m 3s\n",
      "741:\tlearn: 0.2588401\ttotal: 8m 45s\tremaining: 3m 2s\n",
      "742:\tlearn: 0.2588009\ttotal: 8m 45s\tremaining: 3m 1s\n",
      "743:\tlearn: 0.2587723\ttotal: 8m 46s\tremaining: 3m 1s\n",
      "744:\tlearn: 0.2586879\ttotal: 8m 46s\tremaining: 3m\n",
      "745:\tlearn: 0.2586019\ttotal: 8m 47s\tremaining: 2m 59s\n",
      "746:\tlearn: 0.2585393\ttotal: 8m 48s\tremaining: 2m 58s\n",
      "747:\tlearn: 0.2585034\ttotal: 8m 49s\tremaining: 2m 58s\n",
      "748:\tlearn: 0.2584462\ttotal: 8m 49s\tremaining: 2m 57s\n",
      "749:\tlearn: 0.2583742\ttotal: 8m 50s\tremaining: 2m 56s\n",
      "750:\tlearn: 0.2583250\ttotal: 8m 51s\tremaining: 2m 56s\n",
      "751:\tlearn: 0.2582689\ttotal: 8m 51s\tremaining: 2m 55s\n",
      "752:\tlearn: 0.2582124\ttotal: 8m 52s\tremaining: 2m 54s\n",
      "753:\tlearn: 0.2581228\ttotal: 8m 53s\tremaining: 2m 53s\n",
      "754:\tlearn: 0.2580509\ttotal: 8m 53s\tremaining: 2m 53s\n",
      "755:\tlearn: 0.2579872\ttotal: 8m 54s\tremaining: 2m 52s\n",
      "756:\tlearn: 0.2579187\ttotal: 8m 55s\tremaining: 2m 51s\n",
      "757:\tlearn: 0.2578593\ttotal: 8m 56s\tremaining: 2m 51s\n",
      "758:\tlearn: 0.2577967\ttotal: 8m 56s\tremaining: 2m 50s\n",
      "759:\tlearn: 0.2577465\ttotal: 8m 57s\tremaining: 2m 49s\n",
      "760:\tlearn: 0.2576973\ttotal: 8m 58s\tremaining: 2m 48s\n",
      "761:\tlearn: 0.2576309\ttotal: 8m 58s\tremaining: 2m 48s\n",
      "762:\tlearn: 0.2575711\ttotal: 8m 59s\tremaining: 2m 47s\n",
      "763:\tlearn: 0.2575320\ttotal: 9m\tremaining: 2m 46s\n",
      "764:\tlearn: 0.2574797\ttotal: 9m\tremaining: 2m 46s\n",
      "765:\tlearn: 0.2574362\ttotal: 9m 1s\tremaining: 2m 45s\n"
     ]
    },
    {
     "name": "stdout",
     "output_type": "stream",
     "text": [
      "766:\tlearn: 0.2573779\ttotal: 9m 2s\tremaining: 2m 44s\n",
      "767:\tlearn: 0.2573170\ttotal: 9m 2s\tremaining: 2m 44s\n",
      "768:\tlearn: 0.2572591\ttotal: 9m 3s\tremaining: 2m 43s\n",
      "769:\tlearn: 0.2572068\ttotal: 9m 4s\tremaining: 2m 42s\n",
      "770:\tlearn: 0.2571600\ttotal: 9m 5s\tremaining: 2m 41s\n",
      "771:\tlearn: 0.2571097\ttotal: 9m 5s\tremaining: 2m 41s\n",
      "772:\tlearn: 0.2570530\ttotal: 9m 6s\tremaining: 2m 40s\n",
      "773:\tlearn: 0.2569941\ttotal: 9m 7s\tremaining: 2m 39s\n",
      "774:\tlearn: 0.2569028\ttotal: 9m 7s\tremaining: 2m 39s\n",
      "775:\tlearn: 0.2568298\ttotal: 9m 8s\tremaining: 2m 38s\n",
      "776:\tlearn: 0.2567800\ttotal: 9m 9s\tremaining: 2m 37s\n",
      "777:\tlearn: 0.2567370\ttotal: 9m 10s\tremaining: 2m 36s\n",
      "778:\tlearn: 0.2566712\ttotal: 9m 10s\tremaining: 2m 36s\n",
      "779:\tlearn: 0.2566292\ttotal: 9m 11s\tremaining: 2m 35s\n",
      "780:\tlearn: 0.2565714\ttotal: 9m 11s\tremaining: 2m 34s\n",
      "781:\tlearn: 0.2565115\ttotal: 9m 12s\tremaining: 2m 34s\n",
      "782:\tlearn: 0.2564777\ttotal: 9m 13s\tremaining: 2m 33s\n",
      "783:\tlearn: 0.2564178\ttotal: 9m 13s\tremaining: 2m 32s\n",
      "784:\tlearn: 0.2563737\ttotal: 9m 14s\tremaining: 2m 31s\n",
      "785:\tlearn: 0.2562874\ttotal: 9m 15s\tremaining: 2m 31s\n",
      "786:\tlearn: 0.2562275\ttotal: 9m 16s\tremaining: 2m 30s\n",
      "787:\tlearn: 0.2561591\ttotal: 9m 16s\tremaining: 2m 29s\n",
      "788:\tlearn: 0.2561126\ttotal: 9m 17s\tremaining: 2m 29s\n",
      "789:\tlearn: 0.2560791\ttotal: 9m 18s\tremaining: 2m 28s\n",
      "790:\tlearn: 0.2560061\ttotal: 9m 18s\tremaining: 2m 27s\n",
      "791:\tlearn: 0.2559561\ttotal: 9m 19s\tremaining: 2m 26s\n",
      "792:\tlearn: 0.2559040\ttotal: 9m 20s\tremaining: 2m 26s\n",
      "793:\tlearn: 0.2558588\ttotal: 9m 20s\tremaining: 2m 25s\n",
      "794:\tlearn: 0.2557832\ttotal: 9m 21s\tremaining: 2m 24s\n",
      "795:\tlearn: 0.2557191\ttotal: 9m 22s\tremaining: 2m 24s\n",
      "796:\tlearn: 0.2556859\ttotal: 9m 22s\tremaining: 2m 23s\n",
      "797:\tlearn: 0.2556538\ttotal: 9m 23s\tremaining: 2m 22s\n",
      "798:\tlearn: 0.2556137\ttotal: 9m 23s\tremaining: 2m 21s\n",
      "799:\tlearn: 0.2555713\ttotal: 9m 24s\tremaining: 2m 21s\n",
      "800:\tlearn: 0.2555194\ttotal: 9m 25s\tremaining: 2m 20s\n",
      "801:\tlearn: 0.2554273\ttotal: 9m 26s\tremaining: 2m 19s\n",
      "802:\tlearn: 0.2553837\ttotal: 9m 26s\tremaining: 2m 19s\n",
      "803:\tlearn: 0.2553200\ttotal: 9m 27s\tremaining: 2m 18s\n",
      "804:\tlearn: 0.2552657\ttotal: 9m 28s\tremaining: 2m 17s\n",
      "805:\tlearn: 0.2552162\ttotal: 9m 28s\tremaining: 2m 16s\n",
      "806:\tlearn: 0.2551529\ttotal: 9m 29s\tremaining: 2m 16s\n",
      "807:\tlearn: 0.2550955\ttotal: 9m 30s\tremaining: 2m 15s\n",
      "808:\tlearn: 0.2550677\ttotal: 9m 30s\tremaining: 2m 14s\n",
      "809:\tlearn: 0.2550293\ttotal: 9m 31s\tremaining: 2m 14s\n",
      "810:\tlearn: 0.2549845\ttotal: 9m 32s\tremaining: 2m 13s\n",
      "811:\tlearn: 0.2549444\ttotal: 9m 32s\tremaining: 2m 12s\n",
      "812:\tlearn: 0.2548816\ttotal: 9m 33s\tremaining: 2m 11s\n",
      "813:\tlearn: 0.2548354\ttotal: 9m 34s\tremaining: 2m 11s\n",
      "814:\tlearn: 0.2547765\ttotal: 9m 34s\tremaining: 2m 10s\n",
      "815:\tlearn: 0.2547391\ttotal: 9m 35s\tremaining: 2m 9s\n",
      "816:\tlearn: 0.2546971\ttotal: 9m 35s\tremaining: 2m 9s\n",
      "817:\tlearn: 0.2546333\ttotal: 9m 36s\tremaining: 2m 8s\n",
      "818:\tlearn: 0.2545881\ttotal: 9m 37s\tremaining: 2m 7s\n",
      "819:\tlearn: 0.2545370\ttotal: 9m 38s\tremaining: 2m 6s\n",
      "820:\tlearn: 0.2544830\ttotal: 9m 38s\tremaining: 2m 6s\n",
      "821:\tlearn: 0.2544408\ttotal: 9m 39s\tremaining: 2m 5s\n",
      "822:\tlearn: 0.2543621\ttotal: 9m 40s\tremaining: 2m 4s\n",
      "823:\tlearn: 0.2542858\ttotal: 9m 41s\tremaining: 2m 4s\n",
      "824:\tlearn: 0.2542532\ttotal: 9m 41s\tremaining: 2m 3s\n",
      "825:\tlearn: 0.2542108\ttotal: 9m 42s\tremaining: 2m 2s\n",
      "826:\tlearn: 0.2541513\ttotal: 9m 43s\tremaining: 2m 2s\n",
      "827:\tlearn: 0.2540972\ttotal: 9m 43s\tremaining: 2m 1s\n",
      "828:\tlearn: 0.2540371\ttotal: 9m 44s\tremaining: 2m\n",
      "829:\tlearn: 0.2539816\ttotal: 9m 45s\tremaining: 1m 59s\n",
      "830:\tlearn: 0.2539217\ttotal: 9m 46s\tremaining: 1m 59s\n",
      "831:\tlearn: 0.2538630\ttotal: 9m 46s\tremaining: 1m 58s\n",
      "832:\tlearn: 0.2538277\ttotal: 9m 47s\tremaining: 1m 57s\n",
      "833:\tlearn: 0.2537312\ttotal: 9m 48s\tremaining: 1m 57s\n",
      "834:\tlearn: 0.2536587\ttotal: 9m 48s\tremaining: 1m 56s\n",
      "835:\tlearn: 0.2536008\ttotal: 9m 49s\tremaining: 1m 55s\n",
      "836:\tlearn: 0.2535495\ttotal: 9m 50s\tremaining: 1m 54s\n",
      "837:\tlearn: 0.2534883\ttotal: 9m 51s\tremaining: 1m 54s\n",
      "838:\tlearn: 0.2534267\ttotal: 9m 52s\tremaining: 1m 53s\n",
      "839:\tlearn: 0.2533739\ttotal: 9m 53s\tremaining: 1m 53s\n",
      "840:\tlearn: 0.2533181\ttotal: 9m 54s\tremaining: 1m 52s\n",
      "841:\tlearn: 0.2532642\ttotal: 9m 55s\tremaining: 1m 51s\n",
      "842:\tlearn: 0.2532111\ttotal: 9m 55s\tremaining: 1m 50s\n",
      "843:\tlearn: 0.2531391\ttotal: 9m 56s\tremaining: 1m 50s\n",
      "844:\tlearn: 0.2531017\ttotal: 9m 57s\tremaining: 1m 49s\n",
      "845:\tlearn: 0.2530191\ttotal: 9m 58s\tremaining: 1m 48s\n",
      "846:\tlearn: 0.2529687\ttotal: 9m 59s\tremaining: 1m 48s\n",
      "847:\tlearn: 0.2529248\ttotal: 10m\tremaining: 1m 47s\n",
      "848:\tlearn: 0.2528387\ttotal: 10m 1s\tremaining: 1m 46s\n",
      "849:\tlearn: 0.2527692\ttotal: 10m 2s\tremaining: 1m 46s\n",
      "850:\tlearn: 0.2527213\ttotal: 10m 2s\tremaining: 1m 45s\n",
      "851:\tlearn: 0.2526415\ttotal: 10m 4s\tremaining: 1m 44s\n",
      "852:\tlearn: 0.2525648\ttotal: 10m 4s\tremaining: 1m 44s\n",
      "853:\tlearn: 0.2525095\ttotal: 10m 6s\tremaining: 1m 43s\n",
      "854:\tlearn: 0.2524638\ttotal: 10m 7s\tremaining: 1m 42s\n",
      "855:\tlearn: 0.2524225\ttotal: 10m 7s\tremaining: 1m 42s\n",
      "856:\tlearn: 0.2523457\ttotal: 10m 9s\tremaining: 1m 41s\n",
      "857:\tlearn: 0.2522932\ttotal: 10m 10s\tremaining: 1m 41s\n",
      "858:\tlearn: 0.2522299\ttotal: 10m 11s\tremaining: 1m 40s\n",
      "859:\tlearn: 0.2521847\ttotal: 10m 12s\tremaining: 1m 39s\n",
      "860:\tlearn: 0.2521275\ttotal: 10m 14s\tremaining: 1m 39s\n",
      "861:\tlearn: 0.2520817\ttotal: 10m 15s\tremaining: 1m 38s\n",
      "862:\tlearn: 0.2520426\ttotal: 10m 16s\tremaining: 1m 37s\n",
      "863:\tlearn: 0.2519903\ttotal: 10m 18s\tremaining: 1m 37s\n",
      "864:\tlearn: 0.2519313\ttotal: 10m 19s\tremaining: 1m 36s\n",
      "865:\tlearn: 0.2518868\ttotal: 10m 20s\tremaining: 1m 35s\n",
      "866:\tlearn: 0.2518406\ttotal: 10m 20s\tremaining: 1m 35s\n",
      "867:\tlearn: 0.2517862\ttotal: 10m 21s\tremaining: 1m 34s\n",
      "868:\tlearn: 0.2517296\ttotal: 10m 22s\tremaining: 1m 33s\n",
      "869:\tlearn: 0.2516731\ttotal: 10m 23s\tremaining: 1m 33s\n",
      "870:\tlearn: 0.2516100\ttotal: 10m 23s\tremaining: 1m 32s\n",
      "871:\tlearn: 0.2515394\ttotal: 10m 24s\tremaining: 1m 31s\n",
      "872:\tlearn: 0.2514675\ttotal: 10m 25s\tremaining: 1m 30s\n",
      "873:\tlearn: 0.2514249\ttotal: 10m 26s\tremaining: 1m 30s\n",
      "874:\tlearn: 0.2513871\ttotal: 10m 27s\tremaining: 1m 29s\n",
      "875:\tlearn: 0.2513326\ttotal: 10m 28s\tremaining: 1m 28s\n",
      "876:\tlearn: 0.2512658\ttotal: 10m 29s\tremaining: 1m 28s\n",
      "877:\tlearn: 0.2512054\ttotal: 10m 31s\tremaining: 1m 27s\n",
      "878:\tlearn: 0.2511300\ttotal: 10m 32s\tremaining: 1m 27s\n",
      "879:\tlearn: 0.2510852\ttotal: 10m 33s\tremaining: 1m 26s\n",
      "880:\tlearn: 0.2509877\ttotal: 10m 35s\tremaining: 1m 25s\n",
      "881:\tlearn: 0.2509164\ttotal: 10m 36s\tremaining: 1m 25s\n",
      "882:\tlearn: 0.2508548\ttotal: 10m 37s\tremaining: 1m 24s\n",
      "883:\tlearn: 0.2508142\ttotal: 10m 38s\tremaining: 1m 23s\n",
      "884:\tlearn: 0.2507511\ttotal: 10m 39s\tremaining: 1m 23s\n",
      "885:\tlearn: 0.2506970\ttotal: 10m 40s\tremaining: 1m 22s\n",
      "886:\tlearn: 0.2506352\ttotal: 10m 41s\tremaining: 1m 21s\n",
      "887:\tlearn: 0.2505563\ttotal: 10m 41s\tremaining: 1m 20s\n",
      "888:\tlearn: 0.2505004\ttotal: 10m 42s\tremaining: 1m 20s\n",
      "889:\tlearn: 0.2504510\ttotal: 10m 43s\tremaining: 1m 19s\n",
      "890:\tlearn: 0.2503921\ttotal: 10m 44s\tremaining: 1m 18s\n",
      "891:\tlearn: 0.2503286\ttotal: 10m 44s\tremaining: 1m 18s\n",
      "892:\tlearn: 0.2502559\ttotal: 10m 46s\tremaining: 1m 17s\n",
      "893:\tlearn: 0.2502110\ttotal: 10m 46s\tremaining: 1m 16s\n",
      "894:\tlearn: 0.2501469\ttotal: 10m 48s\tremaining: 1m 16s\n",
      "895:\tlearn: 0.2500951\ttotal: 10m 49s\tremaining: 1m 15s\n",
      "896:\tlearn: 0.2500426\ttotal: 10m 51s\tremaining: 1m 14s\n",
      "897:\tlearn: 0.2500023\ttotal: 10m 52s\tremaining: 1m 14s\n",
      "898:\tlearn: 0.2499443\ttotal: 10m 54s\tremaining: 1m 13s\n",
      "899:\tlearn: 0.2498658\ttotal: 10m 55s\tremaining: 1m 12s\n",
      "900:\tlearn: 0.2498113\ttotal: 10m 56s\tremaining: 1m 12s\n",
      "901:\tlearn: 0.2497572\ttotal: 10m 57s\tremaining: 1m 11s\n",
      "902:\tlearn: 0.2496950\ttotal: 10m 59s\tremaining: 1m 10s\n",
      "903:\tlearn: 0.2496215\ttotal: 11m\tremaining: 1m 10s\n",
      "904:\tlearn: 0.2495677\ttotal: 11m 1s\tremaining: 1m 9s\n",
      "905:\tlearn: 0.2495044\ttotal: 11m 3s\tremaining: 1m 8s\n",
      "906:\tlearn: 0.2494414\ttotal: 11m 4s\tremaining: 1m 8s\n",
      "907:\tlearn: 0.2493836\ttotal: 11m 5s\tremaining: 1m 7s\n",
      "908:\tlearn: 0.2493151\ttotal: 11m 6s\tremaining: 1m 6s\n",
      "909:\tlearn: 0.2492616\ttotal: 11m 8s\tremaining: 1m 6s\n",
      "910:\tlearn: 0.2492015\ttotal: 11m 9s\tremaining: 1m 5s\n",
      "911:\tlearn: 0.2491400\ttotal: 11m 11s\tremaining: 1m 4s\n",
      "912:\tlearn: 0.2490751\ttotal: 11m 12s\tremaining: 1m 4s\n",
      "913:\tlearn: 0.2490411\ttotal: 11m 13s\tremaining: 1m 3s\n",
      "914:\tlearn: 0.2489686\ttotal: 11m 14s\tremaining: 1m 2s\n",
      "915:\tlearn: 0.2489242\ttotal: 11m 15s\tremaining: 1m 1s\n",
      "916:\tlearn: 0.2488568\ttotal: 11m 16s\tremaining: 1m 1s\n",
      "917:\tlearn: 0.2487977\ttotal: 11m 16s\tremaining: 1m\n"
     ]
    },
    {
     "name": "stdout",
     "output_type": "stream",
     "text": [
      "918:\tlearn: 0.2487597\ttotal: 11m 17s\tremaining: 59.7s\n",
      "919:\tlearn: 0.2487088\ttotal: 11m 18s\tremaining: 59s\n",
      "920:\tlearn: 0.2486634\ttotal: 11m 18s\tremaining: 58.2s\n",
      "921:\tlearn: 0.2486010\ttotal: 11m 19s\tremaining: 57.5s\n",
      "922:\tlearn: 0.2485611\ttotal: 11m 20s\tremaining: 56.8s\n",
      "923:\tlearn: 0.2485083\ttotal: 11m 21s\tremaining: 56s\n",
      "924:\tlearn: 0.2484406\ttotal: 11m 22s\tremaining: 55.3s\n",
      "925:\tlearn: 0.2483969\ttotal: 11m 23s\tremaining: 54.6s\n",
      "926:\tlearn: 0.2483395\ttotal: 11m 23s\tremaining: 53.8s\n",
      "927:\tlearn: 0.2482591\ttotal: 11m 24s\tremaining: 53.1s\n",
      "928:\tlearn: 0.2481866\ttotal: 11m 25s\tremaining: 52.4s\n",
      "929:\tlearn: 0.2481357\ttotal: 11m 25s\tremaining: 51.6s\n",
      "930:\tlearn: 0.2480910\ttotal: 11m 26s\tremaining: 50.9s\n",
      "931:\tlearn: 0.2480248\ttotal: 11m 27s\tremaining: 50.2s\n",
      "932:\tlearn: 0.2479702\ttotal: 11m 28s\tremaining: 49.4s\n",
      "933:\tlearn: 0.2478965\ttotal: 11m 28s\tremaining: 48.7s\n",
      "934:\tlearn: 0.2478453\ttotal: 11m 29s\tremaining: 47.9s\n",
      "935:\tlearn: 0.2478099\ttotal: 11m 30s\tremaining: 47.2s\n",
      "936:\tlearn: 0.2477754\ttotal: 11m 30s\tremaining: 46.5s\n",
      "937:\tlearn: 0.2477397\ttotal: 11m 31s\tremaining: 45.7s\n",
      "938:\tlearn: 0.2476892\ttotal: 11m 32s\tremaining: 45s\n",
      "939:\tlearn: 0.2476317\ttotal: 11m 32s\tremaining: 44.2s\n",
      "940:\tlearn: 0.2475816\ttotal: 11m 33s\tremaining: 43.5s\n",
      "941:\tlearn: 0.2475295\ttotal: 11m 34s\tremaining: 42.7s\n",
      "942:\tlearn: 0.2474864\ttotal: 11m 34s\tremaining: 42s\n",
      "943:\tlearn: 0.2474174\ttotal: 11m 35s\tremaining: 41.3s\n",
      "944:\tlearn: 0.2473539\ttotal: 11m 36s\tremaining: 40.5s\n",
      "945:\tlearn: 0.2472895\ttotal: 11m 36s\tremaining: 39.8s\n",
      "946:\tlearn: 0.2472400\ttotal: 11m 37s\tremaining: 39s\n",
      "947:\tlearn: 0.2471917\ttotal: 11m 38s\tremaining: 38.3s\n",
      "948:\tlearn: 0.2471303\ttotal: 11m 38s\tremaining: 37.6s\n",
      "949:\tlearn: 0.2470544\ttotal: 11m 39s\tremaining: 36.8s\n",
      "950:\tlearn: 0.2470274\ttotal: 11m 40s\tremaining: 36.1s\n",
      "951:\tlearn: 0.2469583\ttotal: 11m 40s\tremaining: 35.3s\n",
      "952:\tlearn: 0.2469070\ttotal: 11m 41s\tremaining: 34.6s\n",
      "953:\tlearn: 0.2468367\ttotal: 11m 42s\tremaining: 33.9s\n",
      "954:\tlearn: 0.2467846\ttotal: 11m 43s\tremaining: 33.1s\n",
      "955:\tlearn: 0.2467441\ttotal: 11m 43s\tremaining: 32.4s\n",
      "956:\tlearn: 0.2466993\ttotal: 11m 44s\tremaining: 31.6s\n",
      "957:\tlearn: 0.2466668\ttotal: 11m 44s\tremaining: 30.9s\n",
      "958:\tlearn: 0.2466257\ttotal: 11m 45s\tremaining: 30.2s\n",
      "959:\tlearn: 0.2465650\ttotal: 11m 46s\tremaining: 29.4s\n",
      "960:\tlearn: 0.2465063\ttotal: 11m 47s\tremaining: 28.7s\n",
      "961:\tlearn: 0.2464558\ttotal: 11m 47s\tremaining: 28s\n",
      "962:\tlearn: 0.2463996\ttotal: 11m 48s\tremaining: 27.2s\n",
      "963:\tlearn: 0.2463429\ttotal: 11m 49s\tremaining: 26.5s\n",
      "964:\tlearn: 0.2463113\ttotal: 11m 50s\tremaining: 25.8s\n",
      "965:\tlearn: 0.2462346\ttotal: 11m 50s\tremaining: 25s\n",
      "966:\tlearn: 0.2461692\ttotal: 11m 51s\tremaining: 24.3s\n",
      "967:\tlearn: 0.2460855\ttotal: 11m 52s\tremaining: 23.6s\n",
      "968:\tlearn: 0.2460321\ttotal: 11m 53s\tremaining: 22.8s\n",
      "969:\tlearn: 0.2459830\ttotal: 11m 54s\tremaining: 22.1s\n",
      "970:\tlearn: 0.2459225\ttotal: 11m 54s\tremaining: 21.4s\n",
      "971:\tlearn: 0.2458785\ttotal: 11m 55s\tremaining: 20.6s\n",
      "972:\tlearn: 0.2458263\ttotal: 11m 56s\tremaining: 19.9s\n",
      "973:\tlearn: 0.2457504\ttotal: 11m 57s\tremaining: 19.1s\n",
      "974:\tlearn: 0.2456907\ttotal: 11m 57s\tremaining: 18.4s\n",
      "975:\tlearn: 0.2456348\ttotal: 11m 58s\tremaining: 17.7s\n",
      "976:\tlearn: 0.2455636\ttotal: 11m 59s\tremaining: 16.9s\n",
      "977:\tlearn: 0.2455217\ttotal: 12m\tremaining: 16.2s\n",
      "978:\tlearn: 0.2454669\ttotal: 12m\tremaining: 15.5s\n",
      "979:\tlearn: 0.2454226\ttotal: 12m 1s\tremaining: 14.7s\n",
      "980:\tlearn: 0.2453843\ttotal: 12m 1s\tremaining: 14s\n",
      "981:\tlearn: 0.2453127\ttotal: 12m 2s\tremaining: 13.2s\n",
      "982:\tlearn: 0.2452430\ttotal: 12m 3s\tremaining: 12.5s\n",
      "983:\tlearn: 0.2451907\ttotal: 12m 3s\tremaining: 11.8s\n",
      "984:\tlearn: 0.2451216\ttotal: 12m 4s\tremaining: 11s\n",
      "985:\tlearn: 0.2450793\ttotal: 12m 5s\tremaining: 10.3s\n",
      "986:\tlearn: 0.2450183\ttotal: 12m 6s\tremaining: 9.57s\n",
      "987:\tlearn: 0.2449710\ttotal: 12m 6s\tremaining: 8.83s\n",
      "988:\tlearn: 0.2449193\ttotal: 12m 7s\tremaining: 8.09s\n",
      "989:\tlearn: 0.2448535\ttotal: 12m 8s\tremaining: 7.36s\n",
      "990:\tlearn: 0.2448066\ttotal: 12m 9s\tremaining: 6.62s\n",
      "991:\tlearn: 0.2447343\ttotal: 12m 10s\tremaining: 5.89s\n",
      "992:\tlearn: 0.2446605\ttotal: 12m 10s\tremaining: 5.15s\n",
      "993:\tlearn: 0.2446074\ttotal: 12m 11s\tremaining: 4.41s\n",
      "994:\tlearn: 0.2445618\ttotal: 12m 11s\tremaining: 3.68s\n",
      "995:\tlearn: 0.2445236\ttotal: 12m 12s\tremaining: 2.94s\n",
      "996:\tlearn: 0.2444556\ttotal: 12m 13s\tremaining: 2.21s\n",
      "997:\tlearn: 0.2443755\ttotal: 12m 14s\tremaining: 1.47s\n",
      "998:\tlearn: 0.2443377\ttotal: 12m 14s\tremaining: 736ms\n",
      "999:\tlearn: 0.2442719\ttotal: 12m 15s\tremaining: 0us\n"
     ]
    },
    {
     "data": {
      "text/plain": [
       "<catboost.core.CatBoostClassifier at 0x7f097eb8cb10>"
      ]
     },
     "execution_count": 164,
     "metadata": {},
     "output_type": "execute_result"
    }
   ],
   "source": [
    "model.fit(X_ros, y_ros)\n"
   ]
  },
  {
   "cell_type": "code",
   "execution_count": null,
   "metadata": {},
   "outputs": [],
   "source": [
    "# y_test_pred = model.predict(X_test)\n",
    "# f1_score(y_test, y_test_pred, average='macro')"
   ]
  },
  {
   "cell_type": "code",
   "execution_count": 166,
   "metadata": {},
   "outputs": [],
   "source": [
    "y_valid = model.predict(X_valid)"
   ]
  },
  {
   "cell_type": "markdown",
   "metadata": {},
   "source": [
    "## Сохраняем answers_test.csv"
   ]
  },
  {
   "cell_type": "code",
   "execution_count": 167,
   "metadata": {},
   "outputs": [],
   "source": [
    "answers_test['target'] = y_valid"
   ]
  },
  {
   "cell_type": "code",
   "execution_count": 170,
   "metadata": {},
   "outputs": [],
   "source": [
    "answers_test.to_csv('answers_test.csv', index=False,)"
   ]
  },
  {
   "cell_type": "code",
   "execution_count": 171,
   "metadata": {},
   "outputs": [],
   "source": [
    "answers_test_loaded = pd.read_csv('answers_test.csv')"
   ]
  },
  {
   "cell_type": "code",
   "execution_count": 173,
   "metadata": {},
   "outputs": [
    {
     "data": {
      "text/html": [
       "<div>\n",
       "<style scoped>\n",
       "    .dataframe tbody tr th:only-of-type {\n",
       "        vertical-align: middle;\n",
       "    }\n",
       "\n",
       "    .dataframe tbody tr th {\n",
       "        vertical-align: top;\n",
       "    }\n",
       "\n",
       "    .dataframe thead th {\n",
       "        text-align: right;\n",
       "    }\n",
       "</style>\n",
       "<table border=\"1\" class=\"dataframe\">\n",
       "  <thead>\n",
       "    <tr style=\"text-align: right;\">\n",
       "      <th></th>\n",
       "      <th>id</th>\n",
       "      <th>vas_id</th>\n",
       "      <th>buy_time</th>\n",
       "      <th>target</th>\n",
       "    </tr>\n",
       "  </thead>\n",
       "  <tbody>\n",
       "    <tr>\n",
       "      <th>0</th>\n",
       "      <td>3130519</td>\n",
       "      <td>2.0</td>\n",
       "      <td>1548018000</td>\n",
       "      <td>0.0</td>\n",
       "    </tr>\n",
       "    <tr>\n",
       "      <th>1</th>\n",
       "      <td>2000860</td>\n",
       "      <td>4.0</td>\n",
       "      <td>1548018000</td>\n",
       "      <td>1.0</td>\n",
       "    </tr>\n",
       "    <tr>\n",
       "      <th>2</th>\n",
       "      <td>1099444</td>\n",
       "      <td>2.0</td>\n",
       "      <td>1546808400</td>\n",
       "      <td>0.0</td>\n",
       "    </tr>\n",
       "    <tr>\n",
       "      <th>3</th>\n",
       "      <td>1343255</td>\n",
       "      <td>5.0</td>\n",
       "      <td>1547413200</td>\n",
       "      <td>0.0</td>\n",
       "    </tr>\n",
       "    <tr>\n",
       "      <th>4</th>\n",
       "      <td>1277040</td>\n",
       "      <td>2.0</td>\n",
       "      <td>1546808400</td>\n",
       "      <td>0.0</td>\n",
       "    </tr>\n",
       "  </tbody>\n",
       "</table>\n",
       "</div>"
      ],
      "text/plain": [
       "        id  vas_id    buy_time  target\n",
       "0  3130519     2.0  1548018000     0.0\n",
       "1  2000860     4.0  1548018000     1.0\n",
       "2  1099444     2.0  1546808400     0.0\n",
       "3  1343255     5.0  1547413200     0.0\n",
       "4  1277040     2.0  1546808400     0.0"
      ]
     },
     "execution_count": 173,
     "metadata": {},
     "output_type": "execute_result"
    }
   ],
   "source": [
    "answers_test_loaded.head()"
   ]
  },
  {
   "cell_type": "markdown",
   "metadata": {},
   "source": [
    "## Сохраняем модель."
   ]
  },
  {
   "cell_type": "code",
   "execution_count": 174,
   "metadata": {},
   "outputs": [],
   "source": [
    "import pickle\n",
    "\n",
    "# save\n",
    "with open('model.pkl','wb') as f:\n",
    "    pickle.dump(model,f)\n"
   ]
  },
  {
   "cell_type": "code",
   "execution_count": 175,
   "metadata": {},
   "outputs": [],
   "source": [
    "with open('model.pkl', 'rb') as f:\n",
    "    loaded_model = pickle.load(f)"
   ]
  },
  {
   "cell_type": "code",
   "execution_count": 176,
   "metadata": {},
   "outputs": [
    {
     "data": {
      "text/plain": [
       "array([0., 1., 0., ..., 0., 0., 0.])"
      ]
     },
     "execution_count": 176,
     "metadata": {},
     "output_type": "execute_result"
    }
   ],
   "source": [
    "loaded_model.predict(X_valid)"
   ]
  },
  {
   "cell_type": "code",
   "execution_count": null,
   "metadata": {},
   "outputs": [],
   "source": []
  }
 ],
 "metadata": {
  "celltoolbar": "Отсутствует",
  "kernelspec": {
   "display_name": "Python 3",
   "language": "python",
   "name": "python3"
  },
  "language_info": {
   "codemirror_mode": {
    "name": "ipython",
    "version": 3
   },
   "file_extension": ".py",
   "mimetype": "text/x-python",
   "name": "python",
   "nbconvert_exporter": "python",
   "pygments_lexer": "ipython3",
   "version": "3.7.7"
  }
 },
 "nbformat": 4,
 "nbformat_minor": 1
}
