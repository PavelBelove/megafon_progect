{
 "cells": [
  {
   "cell_type": "code",
   "execution_count": 2,
   "metadata": {},
   "outputs": [],
   "source": [
    "\n",
    "import pandas as pd\n",
    "import numpy as np\n",
    "import dask.dataframe as dd\n",
    "import luigi\n",
    "import warnings\n",
    "import joblib\n",
    "import seaborn as sns\n",
    "import matplotlib.pyplot as plt\n",
    "from tqdm.auto import tqdm\n",
    "from datetime import datetime, date, time, timedelta\n",
    "from functions import reduce_mem_usage\n",
    "\n",
    "from sklearn.base import BaseEstimator, TransformerMixin\n",
    "from sklearn.pipeline import FeatureUnion, make_pipeline\n",
    "from sklearn.preprocessing import StandardScaler, OneHotEncoder\n",
    "from sklearn.impute import SimpleImputer\n",
    "from sklearn.feature_selection import SelectFromModel, SelectKBest, f_classif\n",
    "\n",
    "# from sklearn.ensemble import GradientBoostingClassifier\n",
    "from sklearn.model_selection import TimeSeriesSplit, train_test_split\n",
    "from sklearn.metrics import f1_score, classification_report, plot_confusion_matrix\n",
    "from sklearn.metrics import precision_recall_curve, roc_curve, auc\n",
    "\n",
    "from sklearn.compose import ColumnTransformer\n",
    "from sklearn.pipeline import Pipeline\n",
    "from sklearn.preprocessing import StandardScaler, OneHotEncoder\n",
    "from sklearn.linear_model import LogisticRegression\n",
    "from sklearn.ensemble import RandomForestClassifier\n",
    "from sklearn.ensemble import GradientBoostingClassifier\n",
    "\n",
    "# from lightgbm import LGBMClassifier\n",
    "#\n",
    "# from imblearn.over_sampling import RandomOverSampler\n",
    "# from collections import Counter\n",
    "#\n",
    "# from boruta import BorutaPy\n",
    "\n",
    "import time"
   ]
  },
  {
   "cell_type": "code",
   "execution_count": 3,
   "metadata": {
    "pycharm": {
     "name": "#%%\n"
    }
   },
   "outputs": [],
   "source": [
    "%matplotlib inline\n",
    "\n",
    "warnings.simplefilter(\"ignore\")\n",
    "pd.set_option(\"display.max_columns\", 999)"
   ]
  },
  {
   "cell_type": "code",
   "execution_count": 4,
   "metadata": {
    "pycharm": {
     "name": "#%%\n"
    }
   },
   "outputs": [],
   "source": [
    "RANDOM_STATE = 42"
   ]
  },
  {
   "cell_type": "code",
   "execution_count": 5,
   "metadata": {},
   "outputs": [],
   "source": [
    "TRAIN_PATH = \"data/data_train.csv\"\n",
    "TEST_PATH = \"data/data_test.csv\"\n",
    "FEATURES_PATH = \"data/features.csv\"\n",
    "\n",
    "data_train = pd.read_csv(TRAIN_PATH)\n",
    "data_test = pd.read_csv(TEST_PATH)"
   ]
  },
  {
   "cell_type": "code",
   "execution_count": 6,
   "metadata": {},
   "outputs": [
    {
     "name": "stdout",
     "output_type": "stream",
     "text": [
      "Memory usage of the dataframe is 31.73 MB\n",
      "Memory usage after optimization is: 15.86 MB\n",
      "Decreased by 50.0%\n",
      "Memory usage of the dataframe is 2.17 MB\n",
      "Memory usage after optimization is: 1.09 MB\n",
      "Decreased by 50.0%\n"
     ]
    }
   ],
   "source": [
    "data_train = reduce_mem_usage(data_train)\n",
    "data_test = reduce_mem_usage(data_test)"
   ]
  },
  {
   "cell_type": "code",
   "execution_count": 7,
   "metadata": {},
   "outputs": [],
   "source": [
    "def process_featues(data_features, train, test):\n",
    "    ids = np.unique(train['id'].append(test['id']))\n",
    "    # Возьмем id только тех пользователей, что встречаются в трейн и тест выборках.\n",
    "    data_features = data_features[data_features['id'].isin(ids)]\n",
    "    # Дропнем Unnamed\n",
    "    if 'Unnamed: 0' in data_features:\n",
    "        data_features = data_features.drop(columns='Unnamed: 0')\n",
    "\n",
    "    data_features = data_features.compute()\n",
    "    # удалим признаки с единственным значением\n",
    "    df_nunique = data_features.apply(lambda x: x.nunique(dropna=False))\n",
    "    const = df_nunique[df_nunique ==1].index.tolist()\n",
    "    data_features = data_features.drop(columns = const)\n",
    "    # функция сжатия данных\n",
    "    data_features = reduce_mem_usage(data_features)\n",
    "    return data_features"
   ]
  },
  {
   "cell_type": "code",
   "execution_count": 8,
   "metadata": {},
   "outputs": [
    {
     "name": "stdout",
     "output_type": "stream",
     "text": [
      "Memory usage of the dataframe is 1728.06 MB\n"
     ]
    },
    {
     "ename": "KeyboardInterrupt",
     "evalue": "",
     "output_type": "error",
     "traceback": [
      "\u001b[0;31m---------------------------------------------------------------------------\u001b[0m",
      "\u001b[0;31mKeyboardInterrupt\u001b[0m                         Traceback (most recent call last)",
      "\u001b[0;32m<ipython-input-8-5ccd8c82e333>\u001b[0m in \u001b[0;36m<module>\u001b[0;34m\u001b[0m\n\u001b[1;32m      3\u001b[0m \u001b[0mdata_features\u001b[0m \u001b[0;34m=\u001b[0m \u001b[0mdd\u001b[0m\u001b[0;34m.\u001b[0m\u001b[0mread_csv\u001b[0m\u001b[0;34m(\u001b[0m\u001b[0mFEATURES_PATH\u001b[0m\u001b[0;34m,\u001b[0m \u001b[0msep\u001b[0m \u001b[0;34m=\u001b[0m\u001b[0;34m'\\t'\u001b[0m\u001b[0;34m)\u001b[0m\u001b[0;34m\u001b[0m\u001b[0;34m\u001b[0m\u001b[0m\n\u001b[1;32m      4\u001b[0m \u001b[0;34m\u001b[0m\u001b[0m\n\u001b[0;32m----> 5\u001b[0;31m \u001b[0mdata_features\u001b[0m \u001b[0;34m=\u001b[0m\u001b[0mprocess_featues\u001b[0m\u001b[0;34m(\u001b[0m\u001b[0mdata_features\u001b[0m\u001b[0;34m,\u001b[0m \u001b[0mdata_train\u001b[0m\u001b[0;34m,\u001b[0m \u001b[0mdata_test\u001b[0m\u001b[0;34m)\u001b[0m\u001b[0;34m\u001b[0m\u001b[0;34m\u001b[0m\u001b[0m\n\u001b[0m",
      "\u001b[0;32m<ipython-input-7-18bfefd726a0>\u001b[0m in \u001b[0;36mprocess_featues\u001b[0;34m(data_features, train, test)\u001b[0m\n\u001b[1;32m     13\u001b[0m     \u001b[0mdata_features\u001b[0m \u001b[0;34m=\u001b[0m \u001b[0mdata_features\u001b[0m\u001b[0;34m.\u001b[0m\u001b[0mdrop\u001b[0m\u001b[0;34m(\u001b[0m\u001b[0mcolumns\u001b[0m \u001b[0;34m=\u001b[0m \u001b[0mconst\u001b[0m\u001b[0;34m)\u001b[0m\u001b[0;34m\u001b[0m\u001b[0;34m\u001b[0m\u001b[0m\n\u001b[1;32m     14\u001b[0m     \u001b[0;31m# функция сжатия данных\u001b[0m\u001b[0;34m\u001b[0m\u001b[0;34m\u001b[0m\u001b[0;34m\u001b[0m\u001b[0m\n\u001b[0;32m---> 15\u001b[0;31m     \u001b[0mdata_features\u001b[0m \u001b[0;34m=\u001b[0m \u001b[0mreduce_mem_usage\u001b[0m\u001b[0;34m(\u001b[0m\u001b[0mdata_features\u001b[0m\u001b[0;34m)\u001b[0m\u001b[0;34m\u001b[0m\u001b[0;34m\u001b[0m\u001b[0m\n\u001b[0m\u001b[1;32m     16\u001b[0m     \u001b[0;32mreturn\u001b[0m \u001b[0mdata_features\u001b[0m\u001b[0;34m\u001b[0m\u001b[0;34m\u001b[0m\u001b[0m\n",
      "\u001b[0;32m~/DataspellProjects/megafon_progect/functions/reduce_mem_usage.py\u001b[0m in \u001b[0;36mreduce_mem_usage\u001b[0;34m(df)\u001b[0m\n\u001b[1;32m     31\u001b[0m \u001b[0;34m\u001b[0m\u001b[0m\n\u001b[1;32m     32\u001b[0m                 \u001b[0;32mif\u001b[0m \u001b[0mc_min\u001b[0m \u001b[0;34m>\u001b[0m \u001b[0mnp\u001b[0m\u001b[0;34m.\u001b[0m\u001b[0mfinfo\u001b[0m\u001b[0;34m(\u001b[0m\u001b[0mnp\u001b[0m\u001b[0;34m.\u001b[0m\u001b[0mfloat32\u001b[0m\u001b[0;34m)\u001b[0m\u001b[0;34m.\u001b[0m\u001b[0mmin\u001b[0m \u001b[0;32mand\u001b[0m \u001b[0mc_max\u001b[0m \u001b[0;34m<\u001b[0m \u001b[0mnp\u001b[0m\u001b[0;34m.\u001b[0m\u001b[0mfinfo\u001b[0m\u001b[0;34m(\u001b[0m\u001b[0mnp\u001b[0m\u001b[0;34m.\u001b[0m\u001b[0mfloat32\u001b[0m\u001b[0;34m)\u001b[0m\u001b[0;34m.\u001b[0m\u001b[0mmax\u001b[0m\u001b[0;34m:\u001b[0m\u001b[0;34m\u001b[0m\u001b[0;34m\u001b[0m\u001b[0m\n\u001b[0;32m---> 33\u001b[0;31m                     \u001b[0mdf\u001b[0m\u001b[0;34m[\u001b[0m\u001b[0mcol\u001b[0m\u001b[0;34m]\u001b[0m \u001b[0;34m=\u001b[0m \u001b[0mdf\u001b[0m\u001b[0;34m[\u001b[0m\u001b[0mcol\u001b[0m\u001b[0;34m]\u001b[0m\u001b[0;34m.\u001b[0m\u001b[0mastype\u001b[0m\u001b[0;34m(\u001b[0m\u001b[0mnp\u001b[0m\u001b[0;34m.\u001b[0m\u001b[0mfloat32\u001b[0m\u001b[0;34m)\u001b[0m\u001b[0;34m\u001b[0m\u001b[0;34m\u001b[0m\u001b[0m\n\u001b[0m\u001b[1;32m     34\u001b[0m                 \u001b[0;32melse\u001b[0m\u001b[0;34m:\u001b[0m\u001b[0;34m\u001b[0m\u001b[0;34m\u001b[0m\u001b[0m\n\u001b[1;32m     35\u001b[0m                     \u001b[0mdf\u001b[0m\u001b[0;34m[\u001b[0m\u001b[0mcol\u001b[0m\u001b[0;34m]\u001b[0m \u001b[0;34m=\u001b[0m \u001b[0mdf\u001b[0m\u001b[0;34m[\u001b[0m\u001b[0mcol\u001b[0m\u001b[0;34m]\u001b[0m\u001b[0;34m.\u001b[0m\u001b[0mastype\u001b[0m\u001b[0;34m(\u001b[0m\u001b[0mnp\u001b[0m\u001b[0;34m.\u001b[0m\u001b[0mfloat64\u001b[0m\u001b[0;34m)\u001b[0m\u001b[0;34m\u001b[0m\u001b[0;34m\u001b[0m\u001b[0m\n",
      "\u001b[0;32m~/anaconda3/lib/python3.7/site-packages/pandas/core/frame.py\u001b[0m in \u001b[0;36m__setitem__\u001b[0;34m(self, key, value)\u001b[0m\n\u001b[1;32m   3610\u001b[0m         \u001b[0;32melse\u001b[0m\u001b[0;34m:\u001b[0m\u001b[0;34m\u001b[0m\u001b[0;34m\u001b[0m\u001b[0m\n\u001b[1;32m   3611\u001b[0m             \u001b[0;31m# set column\u001b[0m\u001b[0;34m\u001b[0m\u001b[0;34m\u001b[0m\u001b[0;34m\u001b[0m\u001b[0m\n\u001b[0;32m-> 3612\u001b[0;31m             \u001b[0mself\u001b[0m\u001b[0;34m.\u001b[0m\u001b[0m_set_item\u001b[0m\u001b[0;34m(\u001b[0m\u001b[0mkey\u001b[0m\u001b[0;34m,\u001b[0m \u001b[0mvalue\u001b[0m\u001b[0;34m)\u001b[0m\u001b[0;34m\u001b[0m\u001b[0;34m\u001b[0m\u001b[0m\n\u001b[0m\u001b[1;32m   3613\u001b[0m \u001b[0;34m\u001b[0m\u001b[0m\n\u001b[1;32m   3614\u001b[0m     \u001b[0;32mdef\u001b[0m \u001b[0m_setitem_slice\u001b[0m\u001b[0;34m(\u001b[0m\u001b[0mself\u001b[0m\u001b[0;34m,\u001b[0m \u001b[0mkey\u001b[0m\u001b[0;34m:\u001b[0m \u001b[0mslice\u001b[0m\u001b[0;34m,\u001b[0m \u001b[0mvalue\u001b[0m\u001b[0;34m)\u001b[0m\u001b[0;34m:\u001b[0m\u001b[0;34m\u001b[0m\u001b[0;34m\u001b[0m\u001b[0m\n",
      "\u001b[0;32m~/anaconda3/lib/python3.7/site-packages/pandas/core/frame.py\u001b[0m in \u001b[0;36m_set_item\u001b[0;34m(self, key, value)\u001b[0m\n\u001b[1;32m   3795\u001b[0m                     \u001b[0mvalue\u001b[0m \u001b[0;34m=\u001b[0m \u001b[0mnp\u001b[0m\u001b[0;34m.\u001b[0m\u001b[0mtile\u001b[0m\u001b[0;34m(\u001b[0m\u001b[0mvalue\u001b[0m\u001b[0;34m,\u001b[0m \u001b[0;34m(\u001b[0m\u001b[0mlen\u001b[0m\u001b[0;34m(\u001b[0m\u001b[0mexisting_piece\u001b[0m\u001b[0;34m.\u001b[0m\u001b[0mcolumns\u001b[0m\u001b[0;34m)\u001b[0m\u001b[0;34m,\u001b[0m \u001b[0;36m1\u001b[0m\u001b[0;34m)\u001b[0m\u001b[0;34m)\u001b[0m\u001b[0;34m.\u001b[0m\u001b[0mT\u001b[0m\u001b[0;34m\u001b[0m\u001b[0;34m\u001b[0m\u001b[0m\n\u001b[1;32m   3796\u001b[0m \u001b[0;34m\u001b[0m\u001b[0m\n\u001b[0;32m-> 3797\u001b[0;31m         \u001b[0mself\u001b[0m\u001b[0;34m.\u001b[0m\u001b[0m_set_item_mgr\u001b[0m\u001b[0;34m(\u001b[0m\u001b[0mkey\u001b[0m\u001b[0;34m,\u001b[0m \u001b[0mvalue\u001b[0m\u001b[0;34m)\u001b[0m\u001b[0;34m\u001b[0m\u001b[0;34m\u001b[0m\u001b[0m\n\u001b[0m\u001b[1;32m   3798\u001b[0m \u001b[0;34m\u001b[0m\u001b[0m\n\u001b[1;32m   3799\u001b[0m     def _set_value(\n",
      "\u001b[0;32m~/anaconda3/lib/python3.7/site-packages/pandas/core/frame.py\u001b[0m in \u001b[0;36m_set_item_mgr\u001b[0;34m(self, key, value)\u001b[0m\n\u001b[1;32m   3754\u001b[0m             \u001b[0mself\u001b[0m\u001b[0;34m.\u001b[0m\u001b[0m_mgr\u001b[0m\u001b[0;34m.\u001b[0m\u001b[0minsert\u001b[0m\u001b[0;34m(\u001b[0m\u001b[0mlen\u001b[0m\u001b[0;34m(\u001b[0m\u001b[0mself\u001b[0m\u001b[0;34m.\u001b[0m\u001b[0m_info_axis\u001b[0m\u001b[0;34m)\u001b[0m\u001b[0;34m,\u001b[0m \u001b[0mkey\u001b[0m\u001b[0;34m,\u001b[0m \u001b[0mvalue\u001b[0m\u001b[0;34m)\u001b[0m\u001b[0;34m\u001b[0m\u001b[0;34m\u001b[0m\u001b[0m\n\u001b[1;32m   3755\u001b[0m         \u001b[0;32melse\u001b[0m\u001b[0;34m:\u001b[0m\u001b[0;34m\u001b[0m\u001b[0;34m\u001b[0m\u001b[0m\n\u001b[0;32m-> 3756\u001b[0;31m             \u001b[0mself\u001b[0m\u001b[0;34m.\u001b[0m\u001b[0m_iset_item_mgr\u001b[0m\u001b[0;34m(\u001b[0m\u001b[0mloc\u001b[0m\u001b[0;34m,\u001b[0m \u001b[0mvalue\u001b[0m\u001b[0;34m)\u001b[0m\u001b[0;34m\u001b[0m\u001b[0;34m\u001b[0m\u001b[0m\n\u001b[0m\u001b[1;32m   3757\u001b[0m \u001b[0;34m\u001b[0m\u001b[0m\n\u001b[1;32m   3758\u001b[0m         \u001b[0;31m# check if we are modifying a copy\u001b[0m\u001b[0;34m\u001b[0m\u001b[0;34m\u001b[0m\u001b[0;34m\u001b[0m\u001b[0m\n",
      "\u001b[0;32m~/anaconda3/lib/python3.7/site-packages/pandas/core/frame.py\u001b[0m in \u001b[0;36m_iset_item_mgr\u001b[0;34m(self, loc, value)\u001b[0m\n\u001b[1;32m   3744\u001b[0m     \u001b[0;32mdef\u001b[0m \u001b[0m_iset_item_mgr\u001b[0m\u001b[0;34m(\u001b[0m\u001b[0mself\u001b[0m\u001b[0;34m,\u001b[0m \u001b[0mloc\u001b[0m\u001b[0;34m:\u001b[0m \u001b[0mint\u001b[0m \u001b[0;34m|\u001b[0m \u001b[0mslice\u001b[0m \u001b[0;34m|\u001b[0m \u001b[0mnp\u001b[0m\u001b[0;34m.\u001b[0m\u001b[0mndarray\u001b[0m\u001b[0;34m,\u001b[0m \u001b[0mvalue\u001b[0m\u001b[0;34m)\u001b[0m \u001b[0;34m->\u001b[0m \u001b[0;32mNone\u001b[0m\u001b[0;34m:\u001b[0m\u001b[0;34m\u001b[0m\u001b[0;34m\u001b[0m\u001b[0m\n\u001b[1;32m   3745\u001b[0m         \u001b[0;31m# when called from _set_item_mgr loc can be anything returned from get_loc\u001b[0m\u001b[0;34m\u001b[0m\u001b[0;34m\u001b[0m\u001b[0;34m\u001b[0m\u001b[0m\n\u001b[0;32m-> 3746\u001b[0;31m         \u001b[0mself\u001b[0m\u001b[0;34m.\u001b[0m\u001b[0m_mgr\u001b[0m\u001b[0;34m.\u001b[0m\u001b[0miset\u001b[0m\u001b[0;34m(\u001b[0m\u001b[0mloc\u001b[0m\u001b[0;34m,\u001b[0m \u001b[0mvalue\u001b[0m\u001b[0;34m)\u001b[0m\u001b[0;34m\u001b[0m\u001b[0;34m\u001b[0m\u001b[0m\n\u001b[0m\u001b[1;32m   3747\u001b[0m         \u001b[0mself\u001b[0m\u001b[0;34m.\u001b[0m\u001b[0m_clear_item_cache\u001b[0m\u001b[0;34m(\u001b[0m\u001b[0;34m)\u001b[0m\u001b[0;34m\u001b[0m\u001b[0;34m\u001b[0m\u001b[0m\n\u001b[1;32m   3748\u001b[0m \u001b[0;34m\u001b[0m\u001b[0m\n",
      "\u001b[0;32m~/anaconda3/lib/python3.7/site-packages/pandas/core/internals/managers.py\u001b[0m in \u001b[0;36miset\u001b[0;34m(self, loc, value)\u001b[0m\n\u001b[1;32m   1085\u001b[0m                     \u001b[0mremoved_blknos\u001b[0m\u001b[0;34m.\u001b[0m\u001b[0mappend\u001b[0m\u001b[0;34m(\u001b[0m\u001b[0mblkno\u001b[0m\u001b[0;34m)\u001b[0m\u001b[0;34m\u001b[0m\u001b[0;34m\u001b[0m\u001b[0m\n\u001b[1;32m   1086\u001b[0m                 \u001b[0;32melse\u001b[0m\u001b[0;34m:\u001b[0m\u001b[0;34m\u001b[0m\u001b[0;34m\u001b[0m\u001b[0m\n\u001b[0;32m-> 1087\u001b[0;31m                     \u001b[0mblk\u001b[0m\u001b[0;34m.\u001b[0m\u001b[0mdelete\u001b[0m\u001b[0;34m(\u001b[0m\u001b[0mblk_locs\u001b[0m\u001b[0;34m)\u001b[0m\u001b[0;34m\u001b[0m\u001b[0;34m\u001b[0m\u001b[0m\n\u001b[0m\u001b[1;32m   1088\u001b[0m                     \u001b[0mself\u001b[0m\u001b[0;34m.\u001b[0m\u001b[0m_blklocs\u001b[0m\u001b[0;34m[\u001b[0m\u001b[0mblk\u001b[0m\u001b[0;34m.\u001b[0m\u001b[0mmgr_locs\u001b[0m\u001b[0;34m.\u001b[0m\u001b[0mindexer\u001b[0m\u001b[0;34m]\u001b[0m \u001b[0;34m=\u001b[0m \u001b[0mnp\u001b[0m\u001b[0;34m.\u001b[0m\u001b[0marange\u001b[0m\u001b[0;34m(\u001b[0m\u001b[0mlen\u001b[0m\u001b[0;34m(\u001b[0m\u001b[0mblk\u001b[0m\u001b[0;34m)\u001b[0m\u001b[0;34m)\u001b[0m\u001b[0;34m\u001b[0m\u001b[0;34m\u001b[0m\u001b[0m\n\u001b[1;32m   1089\u001b[0m \u001b[0;34m\u001b[0m\u001b[0m\n",
      "\u001b[0;32m~/anaconda3/lib/python3.7/site-packages/pandas/core/internals/blocks.py\u001b[0m in \u001b[0;36mdelete\u001b[0;34m(self, loc)\u001b[0m\n\u001b[1;32m    364\u001b[0m         \u001b[0mDelete\u001b[0m \u001b[0mgiven\u001b[0m \u001b[0mloc\u001b[0m\u001b[0;34m(\u001b[0m\u001b[0;34m-\u001b[0m\u001b[0ms\u001b[0m\u001b[0;34m)\u001b[0m \u001b[0;32mfrom\u001b[0m \u001b[0mblock\u001b[0m \u001b[0;32min\u001b[0m\u001b[0;34m-\u001b[0m\u001b[0mplace\u001b[0m\u001b[0;34m.\u001b[0m\u001b[0;34m\u001b[0m\u001b[0;34m\u001b[0m\u001b[0m\n\u001b[1;32m    365\u001b[0m         \"\"\"\n\u001b[0;32m--> 366\u001b[0;31m         \u001b[0mself\u001b[0m\u001b[0;34m.\u001b[0m\u001b[0mvalues\u001b[0m \u001b[0;34m=\u001b[0m \u001b[0mnp\u001b[0m\u001b[0;34m.\u001b[0m\u001b[0mdelete\u001b[0m\u001b[0;34m(\u001b[0m\u001b[0mself\u001b[0m\u001b[0;34m.\u001b[0m\u001b[0mvalues\u001b[0m\u001b[0;34m,\u001b[0m \u001b[0mloc\u001b[0m\u001b[0;34m,\u001b[0m \u001b[0;36m0\u001b[0m\u001b[0;34m)\u001b[0m\u001b[0;34m\u001b[0m\u001b[0;34m\u001b[0m\u001b[0m\n\u001b[0m\u001b[1;32m    367\u001b[0m         \u001b[0mself\u001b[0m\u001b[0;34m.\u001b[0m\u001b[0mmgr_locs\u001b[0m \u001b[0;34m=\u001b[0m \u001b[0mself\u001b[0m\u001b[0;34m.\u001b[0m\u001b[0m_mgr_locs\u001b[0m\u001b[0;34m.\u001b[0m\u001b[0mdelete\u001b[0m\u001b[0;34m(\u001b[0m\u001b[0mloc\u001b[0m\u001b[0;34m)\u001b[0m\u001b[0;34m\u001b[0m\u001b[0;34m\u001b[0m\u001b[0m\n\u001b[1;32m    368\u001b[0m         \u001b[0;32mtry\u001b[0m\u001b[0;34m:\u001b[0m\u001b[0;34m\u001b[0m\u001b[0;34m\u001b[0m\u001b[0m\n",
      "\u001b[0;32m<__array_function__ internals>\u001b[0m in \u001b[0;36mdelete\u001b[0;34m(*args, **kwargs)\u001b[0m\n",
      "\u001b[0;32m~/anaconda3/lib/python3.7/site-packages/numpy/lib/function_base.py\u001b[0m in \u001b[0;36mdelete\u001b[0;34m(arr, obj, axis)\u001b[0m\n\u001b[1;32m   4553\u001b[0m \u001b[0;34m\u001b[0m\u001b[0m\n\u001b[1;32m   4554\u001b[0m         \u001b[0mslobj\u001b[0m\u001b[0;34m[\u001b[0m\u001b[0maxis\u001b[0m\u001b[0;34m]\u001b[0m \u001b[0;34m=\u001b[0m \u001b[0mkeep\u001b[0m\u001b[0;34m\u001b[0m\u001b[0;34m\u001b[0m\u001b[0m\n\u001b[0;32m-> 4555\u001b[0;31m         \u001b[0mnew\u001b[0m \u001b[0;34m=\u001b[0m \u001b[0marr\u001b[0m\u001b[0;34m[\u001b[0m\u001b[0mtuple\u001b[0m\u001b[0;34m(\u001b[0m\u001b[0mslobj\u001b[0m\u001b[0;34m)\u001b[0m\u001b[0;34m]\u001b[0m\u001b[0;34m\u001b[0m\u001b[0;34m\u001b[0m\u001b[0m\n\u001b[0m\u001b[1;32m   4556\u001b[0m \u001b[0;34m\u001b[0m\u001b[0m\n\u001b[1;32m   4557\u001b[0m     \u001b[0;32mif\u001b[0m \u001b[0mwrap\u001b[0m\u001b[0;34m:\u001b[0m\u001b[0;34m\u001b[0m\u001b[0;34m\u001b[0m\u001b[0m\n",
      "\u001b[0;31mKeyboardInterrupt\u001b[0m: "
     ]
    }
   ],
   "source": [
    "import dask.dataframe as dd\n",
    "\n",
    "data_features = dd.read_csv(FEATURES_PATH, sep ='\\t')\n",
    "\n",
    "data_features =process_featues(data_features, data_train, data_test)"
   ]
  },
  {
   "cell_type": "code",
   "execution_count": null,
   "metadata": {},
   "outputs": [],
   "source": [
    "features = [f for f in data_features.columns if f not in ['buy_time','id']]\n"
   ]
  },
  {
   "cell_type": "code",
   "execution_count": null,
   "metadata": {},
   "outputs": [],
   "source": [
    "train = data_train.merge(data_features, on='id', how = 'left')\n",
    "test = data_test.merge(data_features, on='id', how = 'left')\n",
    "del train_merge['Unnamed: 0']\n",
    "del test_merge['Unnamed: 0']"
   ]
  },
  {
   "cell_type": "code",
   "execution_count": null,
   "metadata": {
    "pycharm": {
     "name": "#%%\n"
    }
   },
   "outputs": [],
   "source": [
    "# TRAIN_PATH = \"data/train_merge.csv\"\n",
    "# TEST_PATH = \"data/test_merge.csv\""
   ]
  },
  {
   "cell_type": "code",
   "execution_count": null,
   "metadata": {
    "pycharm": {
     "name": "#%%\n"
    }
   },
   "outputs": [],
   "source": [
    "# train = reduce_mem_usage(pd.read_csv(TRAIN_PATH))\n",
    "# test = reduce_mem_usage(pd.read_csv(TEST_PATH))"
   ]
  },
  {
   "cell_type": "code",
   "execution_count": null,
   "metadata": {
    "pycharm": {
     "name": "#%%\n"
    }
   },
   "outputs": [],
   "source": [
    "train.head(20)"
   ]
  },
  {
   "cell_type": "markdown",
   "metadata": {
    "pycharm": {
     "name": "#%% md\n"
    }
   },
   "source": []
  },
  {
   "cell_type": "code",
   "execution_count": 7,
   "metadata": {
    "pycharm": {
     "name": "#%%\n"
    }
   },
   "outputs": [],
   "source": [
    "# train['interval'] = train['buy_time_y'] - train['buy_time_x']\n",
    "# test['interval'] = test['buy_time_y'] - test['buy_time_x']"
   ]
  },
  {
   "cell_type": "code",
   "execution_count": 8,
   "metadata": {
    "pycharm": {
     "name": "#%%\n"
    }
   },
   "outputs": [
    {
     "data": {
      "text/plain": [
       "251"
      ]
     },
     "execution_count": 8,
     "metadata": {},
     "output_type": "execute_result"
    }
   ],
   "source": [
    "features = [f for f in train.columns if f not in ['target','id']]\n",
    "len(features)"
   ]
  },
  {
   "cell_type": "markdown",
   "metadata": {
    "pycharm": {
     "name": "#%% md\n"
    }
   },
   "source": [
    "Разделим данные на X и y"
   ]
  },
  {
   "cell_type": "code",
   "execution_count": 9,
   "metadata": {
    "pycharm": {
     "name": "#%%\n"
    }
   },
   "outputs": [],
   "source": [
    "X = train.drop('target', axis='columns')\n",
    "y = train.target\n",
    "X_valid = test"
   ]
  },
  {
   "cell_type": "code",
   "execution_count": 10,
   "metadata": {
    "pycharm": {
     "name": "#%%\n"
    }
   },
   "outputs": [],
   "source": [
    "X_train, X_test, y_train, y_test = train_test_split(X, y, test_size=0.2, random_state=42)"
   ]
  },
  {
   "cell_type": "markdown",
   "metadata": {},
   "source": [
    "Разделим признаки на бинарные, категориальные и вещественные."
   ]
  },
  {
   "cell_type": "code",
   "execution_count": 11,
   "metadata": {
    "pycharm": {
     "name": "#%%\n"
    }
   },
   "outputs": [],
   "source": [
    "boolean_features = []\n",
    "categorical_features = []\n",
    "numeric_features = []\n",
    "for col in X[features].fillna(0):\n",
    "    val_count = len(X[col].unique())\n",
    "    if val_count == 2:\n",
    "        boolean_features.append(col)\n",
    "    elif val_count <= 10:\n",
    "        categorical_features.append(col)\n",
    "    else:\n",
    "        numeric_features.append(col)\n"
   ]
  },
  {
   "cell_type": "markdown",
   "metadata": {
    "pycharm": {
     "name": "#%% md\n"
    }
   },
   "source": [
    "Селектор колонок"
   ]
  },
  {
   "cell_type": "code",
   "execution_count": 12,
   "metadata": {
    "pycharm": {
     "name": "#%%\n"
    }
   },
   "outputs": [],
   "source": [
    "class ColumnSelector(BaseEstimator, TransformerMixin):\n",
    "    def __init__(self, columns):\n",
    "        self.columns = columns\n",
    "\n",
    "    def fit(self, X, y=None):\n",
    "        return self\n",
    "\n",
    "    def transform(self, X):\n",
    "        assert isinstance(X, pd.DataFrame)\n",
    "\n",
    "        try:\n",
    "            return X[self.columns]\n",
    "        except KeyError:\n",
    "            cols_error = list(set(self.columns) - set(X.columns))\n",
    "            raise KeyError(\"DataFrame не содердит следующие колонки: %s\" % cols_error)"
   ]
  },
  {
   "cell_type": "markdown",
   "metadata": {
    "pycharm": {
     "name": "#%% md\n"
    }
   },
   "source": [
    "Генератор новых фич\n",
    "Поскольку данные обезличены и их много, скорее для примера.\n",
    "Датасеты имеют две колонки даты - подключения услуги и некого другого действия (покупки сим карты?). Вероятно, имеет смысл сгенерировать новый признак как разницу между этими значениями. Условно, время с подключения сим до подключения услуги."
   ]
  },
  {
   "cell_type": "code",
   "execution_count": 13,
   "metadata": {
    "pycharm": {
     "name": "#%%\n"
    }
   },
   "outputs": [],
   "source": [
    "new_features_list = ['interval']"
   ]
  },
  {
   "cell_type": "code",
   "execution_count": 14,
   "metadata": {
    "pycharm": {
     "name": "#%%\n"
    }
   },
   "outputs": [],
   "source": [
    "class FeaturesGenerator(BaseEstimator, TransformerMixin):\n",
    "    def __init__(self, features_list):\n",
    "        self.features_list = features_list\n",
    "\n",
    "    def fit(self, X, y=None):\n",
    "        return self\n",
    "\n",
    "    def transform(self, X, y=None):\n",
    "        # assert isinstance(X, pd.DataFrame)\n",
    "\n",
    "        try:\n",
    "            if 'interval' in self.features_list:\n",
    "                X['interval'] = X['buy_time_y'] - X['buy_time_x']\n",
    "\n",
    "            return X\n",
    "        except KeyError:\n",
    "            cols_error = list(set(self.columns) - set(X.columns))\n",
    "            raise KeyError(\"DataFrame не содердит следующие колонки: %s\" % cols_error)"
   ]
  },
  {
   "cell_type": "markdown",
   "metadata": {
    "pycharm": {
     "name": "#%% md\n"
    }
   },
   "source": [
    "Обработчик вещественных признаков\n",
    "Поскольку вещественных признаков много больше чем предполагается оставить в конце, и чем остальных признаков, откинем менее значимые из них до объединения с другими признаками."
   ]
  },
  {
   "cell_type": "code",
   "execution_count": 15,
   "metadata": {
    "pycharm": {
     "name": "#%%\n"
    }
   },
   "outputs": [],
   "source": [
    "num_pipe = Pipeline([\n",
    "    ('ncs', ColumnSelector(columns=numeric_features)),\n",
    "    ('nsi', SimpleImputer(strategy=\"mean\")),\n",
    "    ('nss', StandardScaler()),\n",
    "    ('nskb', SelectKBest(k=128, score_func=f_classif)),\n",
    "])"
   ]
  },
  {
   "cell_type": "markdown",
   "metadata": {
    "pycharm": {
     "name": "#%% md\n"
    }
   },
   "source": [
    "Обработчик категориальных признаков"
   ]
  },
  {
   "cell_type": "code",
   "execution_count": 16,
   "metadata": {
    "pycharm": {
     "name": "#%%\n"
    }
   },
   "outputs": [],
   "source": [
    "cat_pipe = Pipeline([\n",
    "    ('ccs', ColumnSelector(columns=categorical_features)),\n",
    "    ('csi', SimpleImputer(strategy=\"most_frequent\")),\n",
    "    ('coe', OneHotEncoder(handle_unknown='ignore')),\n",
    "])"
   ]
  },
  {
   "cell_type": "markdown",
   "metadata": {
    "pycharm": {
     "name": "#%% md\n"
    }
   },
   "source": [
    "Обработчик булевых признаков"
   ]
  },
  {
   "cell_type": "code",
   "execution_count": 17,
   "metadata": {
    "pycharm": {
     "name": "#%%\n"
    }
   },
   "outputs": [],
   "source": [
    "bool_pipe = Pipeline([\n",
    "    ('bcs', ColumnSelector(columns=boolean_features)),\n",
    "    ('bsi', SimpleImputer(strategy=\"most_frequent\")),\n",
    "])"
   ]
  },
  {
   "cell_type": "markdown",
   "metadata": {
    "pycharm": {
     "name": "#%% md\n"
    }
   },
   "source": [
    "Собираем в общий пайплайн"
   ]
  },
  {
   "cell_type": "code",
   "execution_count": 18,
   "metadata": {
    "pycharm": {
     "name": "#%%\n"
    }
   },
   "outputs": [],
   "source": [
    "transformer_list = [('num_pipe', num_pipe), ('cat_pipe', cat_pipe), ('bool_pipe', bool_pipe)]"
   ]
  },
  {
   "cell_type": "code",
   "execution_count": 19,
   "metadata": {
    "pycharm": {
     "name": "#%%\n"
    }
   },
   "outputs": [],
   "source": [
    "transform_pipe = Pipeline([\n",
    "    ('cs', ColumnSelector(columns=features)),\n",
    "    ('fg', FeaturesGenerator(features_list=['interval'])),\n",
    "    ('fu', FeatureUnion(transformer_list=transformer_list)),\n",
    "])\n"
   ]
  },
  {
   "cell_type": "markdown",
   "metadata": {
    "pycharm": {
     "name": "#%% md\n"
    }
   },
   "source": [
    "Отберем признаки с помощью SelectKBest и логистической регрессии с регуляризацией L1 (было 298 признаков)\n",
    "\n",
    "upd: Логистическая регрессия, даже с большим трешхолдом занулила всего 4 признака, однако сильно увеличила время работы пайплайна, поэтому принял решение ее исключить."
   ]
  },
  {
   "cell_type": "code",
   "execution_count": 33,
   "metadata": {
    "pycharm": {
     "name": "#%%\n"
    }
   },
   "outputs": [],
   "source": [
    "fs_pipe = make_pipeline(\n",
    "    transform_pipe,\n",
    "    SelectKBest(k=64, score_func=f_classif),\n",
    "    SelectFromModel(LogisticRegression(penalty='l1', solver='liblinear', random_state=RANDOM_STATE), threshold=1e-3),\n",
    ")"
   ]
  },
  {
   "cell_type": "code",
   "execution_count": 34,
   "metadata": {
    "pycharm": {
     "name": "#%%\n"
    }
   },
   "outputs": [
    {
     "data": {
      "text/html": [
       "<style>#sk-f1184bc2-6178-47a3-99d4-52fccdd13f5d {color: black;background-color: white;}#sk-f1184bc2-6178-47a3-99d4-52fccdd13f5d pre{padding: 0;}#sk-f1184bc2-6178-47a3-99d4-52fccdd13f5d div.sk-toggleable {background-color: white;}#sk-f1184bc2-6178-47a3-99d4-52fccdd13f5d label.sk-toggleable__label {cursor: pointer;display: block;width: 100%;margin-bottom: 0;padding: 0.3em;box-sizing: border-box;text-align: center;}#sk-f1184bc2-6178-47a3-99d4-52fccdd13f5d div.sk-toggleable__content {max-height: 0;max-width: 0;overflow: hidden;text-align: left;background-color: #f0f8ff;}#sk-f1184bc2-6178-47a3-99d4-52fccdd13f5d div.sk-toggleable__content pre {margin: 0.2em;color: black;border-radius: 0.25em;background-color: #f0f8ff;}#sk-f1184bc2-6178-47a3-99d4-52fccdd13f5d input.sk-toggleable__control:checked~div.sk-toggleable__content {max-height: 200px;max-width: 100%;overflow: auto;}#sk-f1184bc2-6178-47a3-99d4-52fccdd13f5d div.sk-estimator input.sk-toggleable__control:checked~label.sk-toggleable__label {background-color: #d4ebff;}#sk-f1184bc2-6178-47a3-99d4-52fccdd13f5d div.sk-label input.sk-toggleable__control:checked~label.sk-toggleable__label {background-color: #d4ebff;}#sk-f1184bc2-6178-47a3-99d4-52fccdd13f5d input.sk-hidden--visually {border: 0;clip: rect(1px 1px 1px 1px);clip: rect(1px, 1px, 1px, 1px);height: 1px;margin: -1px;overflow: hidden;padding: 0;position: absolute;width: 1px;}#sk-f1184bc2-6178-47a3-99d4-52fccdd13f5d div.sk-estimator {font-family: monospace;background-color: #f0f8ff;border: 1px dotted black;border-radius: 0.25em;box-sizing: border-box;margin-bottom: 0.5em;}#sk-f1184bc2-6178-47a3-99d4-52fccdd13f5d div.sk-estimator:hover {background-color: #d4ebff;}#sk-f1184bc2-6178-47a3-99d4-52fccdd13f5d div.sk-parallel-item::after {content: \"\";width: 100%;border-bottom: 1px solid gray;flex-grow: 1;}#sk-f1184bc2-6178-47a3-99d4-52fccdd13f5d div.sk-label:hover label.sk-toggleable__label {background-color: #d4ebff;}#sk-f1184bc2-6178-47a3-99d4-52fccdd13f5d div.sk-serial::before {content: \"\";position: absolute;border-left: 1px solid gray;box-sizing: border-box;top: 2em;bottom: 0;left: 50%;}#sk-f1184bc2-6178-47a3-99d4-52fccdd13f5d div.sk-serial {display: flex;flex-direction: column;align-items: center;background-color: white;padding-right: 0.2em;padding-left: 0.2em;}#sk-f1184bc2-6178-47a3-99d4-52fccdd13f5d div.sk-item {z-index: 1;}#sk-f1184bc2-6178-47a3-99d4-52fccdd13f5d div.sk-parallel {display: flex;align-items: stretch;justify-content: center;background-color: white;}#sk-f1184bc2-6178-47a3-99d4-52fccdd13f5d div.sk-parallel::before {content: \"\";position: absolute;border-left: 1px solid gray;box-sizing: border-box;top: 2em;bottom: 0;left: 50%;}#sk-f1184bc2-6178-47a3-99d4-52fccdd13f5d div.sk-parallel-item {display: flex;flex-direction: column;position: relative;background-color: white;}#sk-f1184bc2-6178-47a3-99d4-52fccdd13f5d div.sk-parallel-item:first-child::after {align-self: flex-end;width: 50%;}#sk-f1184bc2-6178-47a3-99d4-52fccdd13f5d div.sk-parallel-item:last-child::after {align-self: flex-start;width: 50%;}#sk-f1184bc2-6178-47a3-99d4-52fccdd13f5d div.sk-parallel-item:only-child::after {width: 0;}#sk-f1184bc2-6178-47a3-99d4-52fccdd13f5d div.sk-dashed-wrapped {border: 1px dashed gray;margin: 0 0.4em 0.5em 0.4em;box-sizing: border-box;padding-bottom: 0.4em;background-color: white;position: relative;}#sk-f1184bc2-6178-47a3-99d4-52fccdd13f5d div.sk-label label {font-family: monospace;font-weight: bold;background-color: white;display: inline-block;line-height: 1.2em;}#sk-f1184bc2-6178-47a3-99d4-52fccdd13f5d div.sk-label-container {position: relative;z-index: 2;text-align: center;}#sk-f1184bc2-6178-47a3-99d4-52fccdd13f5d div.sk-container {display: inline-block;position: relative;}</style><div id=\"sk-f1184bc2-6178-47a3-99d4-52fccdd13f5d\" class\"sk-top-container\"><div class=\"sk-container\"><div class=\"sk-item sk-dashed-wrapped\"><div class=\"sk-label-container\"><div class=\"sk-label sk-toggleable\"><input class=\"sk-toggleable__control sk-hidden--visually\" id=\"f32146eb-02cf-4fad-a32a-0ecd771bd896\" type=\"checkbox\" ><label class=\"sk-toggleable__label\" for=\"f32146eb-02cf-4fad-a32a-0ecd771bd896\">Pipeline</label><div class=\"sk-toggleable__content\"><pre>Pipeline(steps=[('pipeline',\n",
       "                 Pipeline(steps=[('cs',\n",
       "                                  ColumnSelector(columns=['vas_id',\n",
       "                                                          'buy_time_x',\n",
       "                                                          'buy_time_y', '0',\n",
       "                                                          '1', '2', '3', '4',\n",
       "                                                          '5', '6', '7', '8',\n",
       "                                                          '9', '10', '11', '12',\n",
       "                                                          '13', '14', '15',\n",
       "                                                          '16', '17', '18',\n",
       "                                                          '19', '20', '21',\n",
       "                                                          '22', '23', '24',\n",
       "                                                          '25', '26', ...])),\n",
       "                                 ('fg',\n",
       "                                  FeaturesGenerator(features_list=['interval'])),\n",
       "                                 ('fu',\n",
       "                                  FeatureUnion(transformer_list=[('num_pipe',\n",
       "                                                                  Pipelin...\n",
       "                                                                                   ColumnSelector(columns=['26',\n",
       "                                                                                                           '27',\n",
       "                                                                                                           '31',\n",
       "                                                                                                           '32',\n",
       "                                                                                                           '33',\n",
       "                                                                                                           '57',\n",
       "                                                                                                           '132',\n",
       "                                                                                                           '192',\n",
       "                                                                                                           '194',\n",
       "                                                                                                           '195',\n",
       "                                                                                                           '196',\n",
       "                                                                                                           '197',\n",
       "                                                                                                           '198',\n",
       "                                                                                                           '199',\n",
       "                                                                                                           '200',\n",
       "                                                                                                           '201',\n",
       "                                                                                                           '202',\n",
       "                                                                                                           '204',\n",
       "                                                                                                           '205',\n",
       "                                                                                                           '206'])),\n",
       "                                                                                  ('bsi',\n",
       "                                                                                   SimpleImputer(strategy='most_frequent'))]))]))])),\n",
       "                ('selectkbest', SelectKBest(k=64)),\n",
       "                ('selectfrommodel',\n",
       "                 SelectFromModel(estimator=LogisticRegression(penalty='l1',\n",
       "                                                              random_state=42,\n",
       "                                                              solver='liblinear'),\n",
       "                                 threshold=0.001))])</pre></div></div></div><div class=\"sk-serial\"><div class=\"sk-item\"><div class=\"sk-label-container\"><div class=\"sk-label sk-toggleable\"><input class=\"sk-toggleable__control sk-hidden--visually\" id=\"63a0f97e-4a1b-4a0a-b076-f1e177fad94f\" type=\"checkbox\" ><label class=\"sk-toggleable__label\" for=\"63a0f97e-4a1b-4a0a-b076-f1e177fad94f\">pipeline: Pipeline</label><div class=\"sk-toggleable__content\"><pre>Pipeline(steps=[('cs',\n",
       "                 ColumnSelector(columns=['vas_id', 'buy_time_x', 'buy_time_y',\n",
       "                                         '0', '1', '2', '3', '4', '5', '6', '7',\n",
       "                                         '8', '9', '10', '11', '12', '13', '14',\n",
       "                                         '15', '16', '17', '18', '19', '20',\n",
       "                                         '21', '22', '23', '24', '25', '26', ...])),\n",
       "                ('fg', FeaturesGenerator(features_list=['interval'])),\n",
       "                ('fu',\n",
       "                 FeatureUnion(transformer_list=[('num_pipe',\n",
       "                                                 Pipeline(steps=[('ncs',\n",
       "                                                                  ColumnSelect...\n",
       "                                                                                          '154',\n",
       "                                                                                          '216',\n",
       "                                                                                          '218'])),\n",
       "                                                                 ('csi',\n",
       "                                                                  SimpleImputer(strategy='most_frequent')),\n",
       "                                                                 ('coe',\n",
       "                                                                  OneHotEncoder(handle_unknown='ignore'))])),\n",
       "                                                ('bool_pipe',\n",
       "                                                 Pipeline(steps=[('bcs',\n",
       "                                                                  ColumnSelector(columns=['26',\n",
       "                                                                                          '27',\n",
       "                                                                                          '31',\n",
       "                                                                                          '32',\n",
       "                                                                                          '33',\n",
       "                                                                                          '57',\n",
       "                                                                                          '132',\n",
       "                                                                                          '192',\n",
       "                                                                                          '194',\n",
       "                                                                                          '195',\n",
       "                                                                                          '196',\n",
       "                                                                                          '197',\n",
       "                                                                                          '198',\n",
       "                                                                                          '199',\n",
       "                                                                                          '200',\n",
       "                                                                                          '201',\n",
       "                                                                                          '202',\n",
       "                                                                                          '204',\n",
       "                                                                                          '205',\n",
       "                                                                                          '206'])),\n",
       "                                                                 ('bsi',\n",
       "                                                                  SimpleImputer(strategy='most_frequent'))]))]))])</pre></div></div></div><div class=\"sk-serial\"><div class=\"sk-item\"><div class=\"sk-estimator sk-toggleable\"><input class=\"sk-toggleable__control sk-hidden--visually\" id=\"d7e6e788-7bc6-44ac-a00d-ec107a788370\" type=\"checkbox\" ><label class=\"sk-toggleable__label\" for=\"d7e6e788-7bc6-44ac-a00d-ec107a788370\">ColumnSelector</label><div class=\"sk-toggleable__content\"><pre>ColumnSelector(columns=['vas_id', 'buy_time_x', 'buy_time_y', '0', '1', '2',\n",
       "                        '3', '4', '5', '6', '7', '8', '9', '10', '11', '12',\n",
       "                        '13', '14', '15', '16', '17', '18', '19', '20', '21',\n",
       "                        '22', '23', '24', '25', '26', ...])</pre></div></div></div><div class=\"sk-item\"><div class=\"sk-estimator sk-toggleable\"><input class=\"sk-toggleable__control sk-hidden--visually\" id=\"5b1f6dda-6991-4d9a-9e9a-3dbce2cebae2\" type=\"checkbox\" ><label class=\"sk-toggleable__label\" for=\"5b1f6dda-6991-4d9a-9e9a-3dbce2cebae2\">FeaturesGenerator</label><div class=\"sk-toggleable__content\"><pre>FeaturesGenerator(features_list=['interval'])</pre></div></div></div><div class=\"sk-item sk-dashed-wrapped\"><div class=\"sk-label-container\"><div class=\"sk-label sk-toggleable\"><input class=\"sk-toggleable__control sk-hidden--visually\" id=\"59d692de-1f0a-4fea-875f-fbc60d5fd613\" type=\"checkbox\" ><label class=\"sk-toggleable__label\" for=\"59d692de-1f0a-4fea-875f-fbc60d5fd613\">fu: FeatureUnion</label><div class=\"sk-toggleable__content\"><pre>FeatureUnion(transformer_list=[('num_pipe',\n",
       "                                Pipeline(steps=[('ncs',\n",
       "                                                 ColumnSelector(columns=['buy_time_x',\n",
       "                                                                         'buy_time_y',\n",
       "                                                                         '0',\n",
       "                                                                         '1',\n",
       "                                                                         '2',\n",
       "                                                                         '3',\n",
       "                                                                         '4',\n",
       "                                                                         '5',\n",
       "                                                                         '6',\n",
       "                                                                         '7',\n",
       "                                                                         '8',\n",
       "                                                                         '9',\n",
       "                                                                         '10',\n",
       "                                                                         '11',\n",
       "                                                                         '12',\n",
       "                                                                         '13',\n",
       "                                                                         '14',\n",
       "                                                                         '16',\n",
       "                                                                         '17',\n",
       "                                                                         '18',\n",
       "                                                                         '19',\n",
       "                                                                         '20',\n",
       "                                                                         '21',\n",
       "                                                                         '22',\n",
       "                                                                         '24',\n",
       "                                                                         '25',\n",
       "                                                                         '28',\n",
       "                                                                         '34',\n",
       "                                                                         '35',\n",
       "                                                                         '36', ...])),\n",
       "                                                ('nsi', SimpleImputer()),\n",
       "                                                ('nss', StandardScaler()),\n",
       "                                                ('nskb', SelectKBest(k=128))])),\n",
       "                               ('cat_pipe',\n",
       "                                Pipel...\n",
       "                                                                         '131',\n",
       "                                                                         '154',\n",
       "                                                                         '216',\n",
       "                                                                         '218'])),\n",
       "                                                ('csi',\n",
       "                                                 SimpleImputer(strategy='most_frequent')),\n",
       "                                                ('coe',\n",
       "                                                 OneHotEncoder(handle_unknown='ignore'))])),\n",
       "                               ('bool_pipe',\n",
       "                                Pipeline(steps=[('bcs',\n",
       "                                                 ColumnSelector(columns=['26',\n",
       "                                                                         '27',\n",
       "                                                                         '31',\n",
       "                                                                         '32',\n",
       "                                                                         '33',\n",
       "                                                                         '57',\n",
       "                                                                         '132',\n",
       "                                                                         '192',\n",
       "                                                                         '194',\n",
       "                                                                         '195',\n",
       "                                                                         '196',\n",
       "                                                                         '197',\n",
       "                                                                         '198',\n",
       "                                                                         '199',\n",
       "                                                                         '200',\n",
       "                                                                         '201',\n",
       "                                                                         '202',\n",
       "                                                                         '204',\n",
       "                                                                         '205',\n",
       "                                                                         '206'])),\n",
       "                                                ('bsi',\n",
       "                                                 SimpleImputer(strategy='most_frequent'))]))])</pre></div></div></div><div class=\"sk-parallel\"><div class=\"sk-parallel-item\"><div class=\"sk-item\"><div class=\"sk-label-container\"><div class=\"sk-label sk-toggleable\"><label>num_pipe</label></div></div><div class=\"sk-serial\"><div class=\"sk-item\"><div class=\"sk-serial\"><div class=\"sk-item\"><div class=\"sk-estimator sk-toggleable\"><input class=\"sk-toggleable__control sk-hidden--visually\" id=\"7be07afd-af13-44b9-bed3-e4819d3d2302\" type=\"checkbox\" ><label class=\"sk-toggleable__label\" for=\"7be07afd-af13-44b9-bed3-e4819d3d2302\">ColumnSelector</label><div class=\"sk-toggleable__content\"><pre>ColumnSelector(columns=['buy_time_x', 'buy_time_y', '0', '1', '2', '3', '4',\n",
       "                        '5', '6', '7', '8', '9', '10', '11', '12', '13', '14',\n",
       "                        '16', '17', '18', '19', '20', '21', '22', '24', '25',\n",
       "                        '28', '34', '35', '36', ...])</pre></div></div></div><div class=\"sk-item\"><div class=\"sk-estimator sk-toggleable\"><input class=\"sk-toggleable__control sk-hidden--visually\" id=\"e80d5b13-4218-4bce-a944-ce8f422faa3c\" type=\"checkbox\" ><label class=\"sk-toggleable__label\" for=\"e80d5b13-4218-4bce-a944-ce8f422faa3c\">SimpleImputer</label><div class=\"sk-toggleable__content\"><pre>SimpleImputer()</pre></div></div></div><div class=\"sk-item\"><div class=\"sk-estimator sk-toggleable\"><input class=\"sk-toggleable__control sk-hidden--visually\" id=\"28676799-a7c8-4187-a335-3dad65b48db3\" type=\"checkbox\" ><label class=\"sk-toggleable__label\" for=\"28676799-a7c8-4187-a335-3dad65b48db3\">StandardScaler</label><div class=\"sk-toggleable__content\"><pre>StandardScaler()</pre></div></div></div><div class=\"sk-item\"><div class=\"sk-estimator sk-toggleable\"><input class=\"sk-toggleable__control sk-hidden--visually\" id=\"a2d3786b-0699-46f3-9903-1f8dcda16552\" type=\"checkbox\" ><label class=\"sk-toggleable__label\" for=\"a2d3786b-0699-46f3-9903-1f8dcda16552\">SelectKBest</label><div class=\"sk-toggleable__content\"><pre>SelectKBest(k=128)</pre></div></div></div></div></div></div></div></div><div class=\"sk-parallel-item\"><div class=\"sk-item\"><div class=\"sk-label-container\"><div class=\"sk-label sk-toggleable\"><label>cat_pipe</label></div></div><div class=\"sk-serial\"><div class=\"sk-item\"><div class=\"sk-serial\"><div class=\"sk-item\"><div class=\"sk-estimator sk-toggleable\"><input class=\"sk-toggleable__control sk-hidden--visually\" id=\"0d28568b-0930-4d3a-b00b-584876b8bdec\" type=\"checkbox\" ><label class=\"sk-toggleable__label\" for=\"0d28568b-0930-4d3a-b00b-584876b8bdec\">ColumnSelector</label><div class=\"sk-toggleable__content\"><pre>ColumnSelector(columns=['vas_id', '15', '23', '29', '30', '95', '131', '154',\n",
       "                        '216', '218'])</pre></div></div></div><div class=\"sk-item\"><div class=\"sk-estimator sk-toggleable\"><input class=\"sk-toggleable__control sk-hidden--visually\" id=\"5cc60345-ca77-47a1-aa06-0662afe981c2\" type=\"checkbox\" ><label class=\"sk-toggleable__label\" for=\"5cc60345-ca77-47a1-aa06-0662afe981c2\">SimpleImputer</label><div class=\"sk-toggleable__content\"><pre>SimpleImputer(strategy='most_frequent')</pre></div></div></div><div class=\"sk-item\"><div class=\"sk-estimator sk-toggleable\"><input class=\"sk-toggleable__control sk-hidden--visually\" id=\"924d20ba-6841-4edb-900e-a58631638fd3\" type=\"checkbox\" ><label class=\"sk-toggleable__label\" for=\"924d20ba-6841-4edb-900e-a58631638fd3\">OneHotEncoder</label><div class=\"sk-toggleable__content\"><pre>OneHotEncoder(handle_unknown='ignore')</pre></div></div></div></div></div></div></div></div><div class=\"sk-parallel-item\"><div class=\"sk-item\"><div class=\"sk-label-container\"><div class=\"sk-label sk-toggleable\"><label>bool_pipe</label></div></div><div class=\"sk-serial\"><div class=\"sk-item\"><div class=\"sk-serial\"><div class=\"sk-item\"><div class=\"sk-estimator sk-toggleable\"><input class=\"sk-toggleable__control sk-hidden--visually\" id=\"4b1ed920-9323-440a-97af-9f0aff758fbe\" type=\"checkbox\" ><label class=\"sk-toggleable__label\" for=\"4b1ed920-9323-440a-97af-9f0aff758fbe\">ColumnSelector</label><div class=\"sk-toggleable__content\"><pre>ColumnSelector(columns=['26', '27', '31', '32', '33', '57', '132', '192', '194',\n",
       "                        '195', '196', '197', '198', '199', '200', '201', '202',\n",
       "                        '204', '205', '206'])</pre></div></div></div><div class=\"sk-item\"><div class=\"sk-estimator sk-toggleable\"><input class=\"sk-toggleable__control sk-hidden--visually\" id=\"ff6601f9-c9be-4540-b867-3995b1c86f1b\" type=\"checkbox\" ><label class=\"sk-toggleable__label\" for=\"ff6601f9-c9be-4540-b867-3995b1c86f1b\">SimpleImputer</label><div class=\"sk-toggleable__content\"><pre>SimpleImputer(strategy='most_frequent')</pre></div></div></div></div></div></div></div></div></div></div></div></div><div class=\"sk-item\"><div class=\"sk-estimator sk-toggleable\"><input class=\"sk-toggleable__control sk-hidden--visually\" id=\"3c5c2d6c-31f1-46ec-9af3-2c97fc0385cb\" type=\"checkbox\" ><label class=\"sk-toggleable__label\" for=\"3c5c2d6c-31f1-46ec-9af3-2c97fc0385cb\">SelectKBest</label><div class=\"sk-toggleable__content\"><pre>SelectKBest(k=64)</pre></div></div></div><div class=\"sk-item sk-dashed-wrapped\"><div class=\"sk-label-container\"><div class=\"sk-label sk-toggleable\"><input class=\"sk-toggleable__control sk-hidden--visually\" id=\"af7548ba-40b2-4a69-9470-f75e67ee7fb1\" type=\"checkbox\" ><label class=\"sk-toggleable__label\" for=\"af7548ba-40b2-4a69-9470-f75e67ee7fb1\">selectfrommodel: SelectFromModel</label><div class=\"sk-toggleable__content\"><pre>SelectFromModel(estimator=LogisticRegression(penalty='l1', random_state=42,\n",
       "                                             solver='liblinear'),\n",
       "                threshold=0.001)</pre></div></div></div><div class=\"sk-parallel\"><div class=\"sk-parallel-item\"><div class=\"sk-item\"><div class=\"sk-serial\"><div class=\"sk-item\"><div class=\"sk-estimator sk-toggleable\"><input class=\"sk-toggleable__control sk-hidden--visually\" id=\"9ef3c295-c580-4cb9-b643-27dba7f904de\" type=\"checkbox\" ><label class=\"sk-toggleable__label\" for=\"9ef3c295-c580-4cb9-b643-27dba7f904de\">LogisticRegression</label><div class=\"sk-toggleable__content\"><pre>LogisticRegression(penalty='l1', random_state=42, solver='liblinear')</pre></div></div></div></div></div></div></div></div></div></div></div></div>"
      ],
      "text/plain": [
       "Pipeline(steps=[('pipeline',\n",
       "                 Pipeline(steps=[('cs',\n",
       "                                  ColumnSelector(columns=['vas_id',\n",
       "                                                          'buy_time_x',\n",
       "                                                          'buy_time_y', '0',\n",
       "                                                          '1', '2', '3', '4',\n",
       "                                                          '5', '6', '7', '8',\n",
       "                                                          '9', '10', '11', '12',\n",
       "                                                          '13', '14', '15',\n",
       "                                                          '16', '17', '18',\n",
       "                                                          '19', '20', '21',\n",
       "                                                          '22', '23', '24',\n",
       "                                                          '25', '26', ...])),\n",
       "                                 ('fg',\n",
       "                                  FeaturesGenerator(features_list=['interval'])),\n",
       "                                 ('fu',\n",
       "                                  FeatureUnion(transformer_list=[('num_pipe',\n",
       "                                                                  Pipelin...\n",
       "                                                                                   ColumnSelector(columns=['26',\n",
       "                                                                                                           '27',\n",
       "                                                                                                           '31',\n",
       "                                                                                                           '32',\n",
       "                                                                                                           '33',\n",
       "                                                                                                           '57',\n",
       "                                                                                                           '132',\n",
       "                                                                                                           '192',\n",
       "                                                                                                           '194',\n",
       "                                                                                                           '195',\n",
       "                                                                                                           '196',\n",
       "                                                                                                           '197',\n",
       "                                                                                                           '198',\n",
       "                                                                                                           '199',\n",
       "                                                                                                           '200',\n",
       "                                                                                                           '201',\n",
       "                                                                                                           '202',\n",
       "                                                                                                           '204',\n",
       "                                                                                                           '205',\n",
       "                                                                                                           '206'])),\n",
       "                                                                                  ('bsi',\n",
       "                                                                                   SimpleImputer(strategy='most_frequent'))]))]))])),\n",
       "                ('selectkbest', SelectKBest(k=64)),\n",
       "                ('selectfrommodel',\n",
       "                 SelectFromModel(estimator=LogisticRegression(penalty='l1',\n",
       "                                                              random_state=42,\n",
       "                                                              solver='liblinear'),\n",
       "                                 threshold=0.001))])"
      ]
     },
     "execution_count": 34,
     "metadata": {},
     "output_type": "execute_result"
    }
   ],
   "source": [
    "from sklearn import set_config\n",
    "\n",
    "set_config(display='diagram')\n",
    "\n",
    "fs_pipe"
   ]
  },
  {
   "cell_type": "code",
   "execution_count": 35,
   "metadata": {
    "pycharm": {
     "is_executing": true,
     "name": "#%%\n"
    }
   },
   "outputs": [
    {
     "data": {
      "text/html": [
       "<style>#sk-2f08f17b-5deb-47a2-b435-8e6b7f63daab {color: black;background-color: white;}#sk-2f08f17b-5deb-47a2-b435-8e6b7f63daab pre{padding: 0;}#sk-2f08f17b-5deb-47a2-b435-8e6b7f63daab div.sk-toggleable {background-color: white;}#sk-2f08f17b-5deb-47a2-b435-8e6b7f63daab label.sk-toggleable__label {cursor: pointer;display: block;width: 100%;margin-bottom: 0;padding: 0.3em;box-sizing: border-box;text-align: center;}#sk-2f08f17b-5deb-47a2-b435-8e6b7f63daab div.sk-toggleable__content {max-height: 0;max-width: 0;overflow: hidden;text-align: left;background-color: #f0f8ff;}#sk-2f08f17b-5deb-47a2-b435-8e6b7f63daab div.sk-toggleable__content pre {margin: 0.2em;color: black;border-radius: 0.25em;background-color: #f0f8ff;}#sk-2f08f17b-5deb-47a2-b435-8e6b7f63daab input.sk-toggleable__control:checked~div.sk-toggleable__content {max-height: 200px;max-width: 100%;overflow: auto;}#sk-2f08f17b-5deb-47a2-b435-8e6b7f63daab div.sk-estimator input.sk-toggleable__control:checked~label.sk-toggleable__label {background-color: #d4ebff;}#sk-2f08f17b-5deb-47a2-b435-8e6b7f63daab div.sk-label input.sk-toggleable__control:checked~label.sk-toggleable__label {background-color: #d4ebff;}#sk-2f08f17b-5deb-47a2-b435-8e6b7f63daab input.sk-hidden--visually {border: 0;clip: rect(1px 1px 1px 1px);clip: rect(1px, 1px, 1px, 1px);height: 1px;margin: -1px;overflow: hidden;padding: 0;position: absolute;width: 1px;}#sk-2f08f17b-5deb-47a2-b435-8e6b7f63daab div.sk-estimator {font-family: monospace;background-color: #f0f8ff;border: 1px dotted black;border-radius: 0.25em;box-sizing: border-box;margin-bottom: 0.5em;}#sk-2f08f17b-5deb-47a2-b435-8e6b7f63daab div.sk-estimator:hover {background-color: #d4ebff;}#sk-2f08f17b-5deb-47a2-b435-8e6b7f63daab div.sk-parallel-item::after {content: \"\";width: 100%;border-bottom: 1px solid gray;flex-grow: 1;}#sk-2f08f17b-5deb-47a2-b435-8e6b7f63daab div.sk-label:hover label.sk-toggleable__label {background-color: #d4ebff;}#sk-2f08f17b-5deb-47a2-b435-8e6b7f63daab div.sk-serial::before {content: \"\";position: absolute;border-left: 1px solid gray;box-sizing: border-box;top: 2em;bottom: 0;left: 50%;}#sk-2f08f17b-5deb-47a2-b435-8e6b7f63daab div.sk-serial {display: flex;flex-direction: column;align-items: center;background-color: white;padding-right: 0.2em;padding-left: 0.2em;}#sk-2f08f17b-5deb-47a2-b435-8e6b7f63daab div.sk-item {z-index: 1;}#sk-2f08f17b-5deb-47a2-b435-8e6b7f63daab div.sk-parallel {display: flex;align-items: stretch;justify-content: center;background-color: white;}#sk-2f08f17b-5deb-47a2-b435-8e6b7f63daab div.sk-parallel::before {content: \"\";position: absolute;border-left: 1px solid gray;box-sizing: border-box;top: 2em;bottom: 0;left: 50%;}#sk-2f08f17b-5deb-47a2-b435-8e6b7f63daab div.sk-parallel-item {display: flex;flex-direction: column;position: relative;background-color: white;}#sk-2f08f17b-5deb-47a2-b435-8e6b7f63daab div.sk-parallel-item:first-child::after {align-self: flex-end;width: 50%;}#sk-2f08f17b-5deb-47a2-b435-8e6b7f63daab div.sk-parallel-item:last-child::after {align-self: flex-start;width: 50%;}#sk-2f08f17b-5deb-47a2-b435-8e6b7f63daab div.sk-parallel-item:only-child::after {width: 0;}#sk-2f08f17b-5deb-47a2-b435-8e6b7f63daab div.sk-dashed-wrapped {border: 1px dashed gray;margin: 0 0.4em 0.5em 0.4em;box-sizing: border-box;padding-bottom: 0.4em;background-color: white;position: relative;}#sk-2f08f17b-5deb-47a2-b435-8e6b7f63daab div.sk-label label {font-family: monospace;font-weight: bold;background-color: white;display: inline-block;line-height: 1.2em;}#sk-2f08f17b-5deb-47a2-b435-8e6b7f63daab div.sk-label-container {position: relative;z-index: 2;text-align: center;}#sk-2f08f17b-5deb-47a2-b435-8e6b7f63daab div.sk-container {display: inline-block;position: relative;}</style><div id=\"sk-2f08f17b-5deb-47a2-b435-8e6b7f63daab\" class\"sk-top-container\"><div class=\"sk-container\"><div class=\"sk-item sk-dashed-wrapped\"><div class=\"sk-label-container\"><div class=\"sk-label sk-toggleable\"><input class=\"sk-toggleable__control sk-hidden--visually\" id=\"250a0794-db1b-4d17-990b-22bd9620f258\" type=\"checkbox\" ><label class=\"sk-toggleable__label\" for=\"250a0794-db1b-4d17-990b-22bd9620f258\">Pipeline</label><div class=\"sk-toggleable__content\"><pre>Pipeline(steps=[('pipeline',\n",
       "                 Pipeline(steps=[('cs',\n",
       "                                  ColumnSelector(columns=['vas_id',\n",
       "                                                          'buy_time_x',\n",
       "                                                          'buy_time_y', '0',\n",
       "                                                          '1', '2', '3', '4',\n",
       "                                                          '5', '6', '7', '8',\n",
       "                                                          '9', '10', '11', '12',\n",
       "                                                          '13', '14', '15',\n",
       "                                                          '16', '17', '18',\n",
       "                                                          '19', '20', '21',\n",
       "                                                          '22', '23', '24',\n",
       "                                                          '25', '26', ...])),\n",
       "                                 ('fg',\n",
       "                                  FeaturesGenerator(features_list=['interval'])),\n",
       "                                 ('fu',\n",
       "                                  FeatureUnion(transformer_list=[('num_pipe',\n",
       "                                                                  Pipelin...\n",
       "                                                                                   ColumnSelector(columns=['26',\n",
       "                                                                                                           '27',\n",
       "                                                                                                           '31',\n",
       "                                                                                                           '32',\n",
       "                                                                                                           '33',\n",
       "                                                                                                           '57',\n",
       "                                                                                                           '132',\n",
       "                                                                                                           '192',\n",
       "                                                                                                           '194',\n",
       "                                                                                                           '195',\n",
       "                                                                                                           '196',\n",
       "                                                                                                           '197',\n",
       "                                                                                                           '198',\n",
       "                                                                                                           '199',\n",
       "                                                                                                           '200',\n",
       "                                                                                                           '201',\n",
       "                                                                                                           '202',\n",
       "                                                                                                           '204',\n",
       "                                                                                                           '205',\n",
       "                                                                                                           '206'])),\n",
       "                                                                                  ('bsi',\n",
       "                                                                                   SimpleImputer(strategy='most_frequent'))]))]))])),\n",
       "                ('selectkbest', SelectKBest(k=64)),\n",
       "                ('selectfrommodel',\n",
       "                 SelectFromModel(estimator=LogisticRegression(penalty='l1',\n",
       "                                                              random_state=42,\n",
       "                                                              solver='liblinear'),\n",
       "                                 threshold=0.001))])</pre></div></div></div><div class=\"sk-serial\"><div class=\"sk-item\"><div class=\"sk-label-container\"><div class=\"sk-label sk-toggleable\"><input class=\"sk-toggleable__control sk-hidden--visually\" id=\"722c8171-1333-4ea8-9bc6-942cde285d7c\" type=\"checkbox\" ><label class=\"sk-toggleable__label\" for=\"722c8171-1333-4ea8-9bc6-942cde285d7c\">pipeline: Pipeline</label><div class=\"sk-toggleable__content\"><pre>Pipeline(steps=[('cs',\n",
       "                 ColumnSelector(columns=['vas_id', 'buy_time_x', 'buy_time_y',\n",
       "                                         '0', '1', '2', '3', '4', '5', '6', '7',\n",
       "                                         '8', '9', '10', '11', '12', '13', '14',\n",
       "                                         '15', '16', '17', '18', '19', '20',\n",
       "                                         '21', '22', '23', '24', '25', '26', ...])),\n",
       "                ('fg', FeaturesGenerator(features_list=['interval'])),\n",
       "                ('fu',\n",
       "                 FeatureUnion(transformer_list=[('num_pipe',\n",
       "                                                 Pipeline(steps=[('ncs',\n",
       "                                                                  ColumnSelect...\n",
       "                                                                                          '154',\n",
       "                                                                                          '216',\n",
       "                                                                                          '218'])),\n",
       "                                                                 ('csi',\n",
       "                                                                  SimpleImputer(strategy='most_frequent')),\n",
       "                                                                 ('coe',\n",
       "                                                                  OneHotEncoder(handle_unknown='ignore'))])),\n",
       "                                                ('bool_pipe',\n",
       "                                                 Pipeline(steps=[('bcs',\n",
       "                                                                  ColumnSelector(columns=['26',\n",
       "                                                                                          '27',\n",
       "                                                                                          '31',\n",
       "                                                                                          '32',\n",
       "                                                                                          '33',\n",
       "                                                                                          '57',\n",
       "                                                                                          '132',\n",
       "                                                                                          '192',\n",
       "                                                                                          '194',\n",
       "                                                                                          '195',\n",
       "                                                                                          '196',\n",
       "                                                                                          '197',\n",
       "                                                                                          '198',\n",
       "                                                                                          '199',\n",
       "                                                                                          '200',\n",
       "                                                                                          '201',\n",
       "                                                                                          '202',\n",
       "                                                                                          '204',\n",
       "                                                                                          '205',\n",
       "                                                                                          '206'])),\n",
       "                                                                 ('bsi',\n",
       "                                                                  SimpleImputer(strategy='most_frequent'))]))]))])</pre></div></div></div><div class=\"sk-serial\"><div class=\"sk-item\"><div class=\"sk-estimator sk-toggleable\"><input class=\"sk-toggleable__control sk-hidden--visually\" id=\"a18e5337-da0e-40be-8ea7-37e10969dff1\" type=\"checkbox\" ><label class=\"sk-toggleable__label\" for=\"a18e5337-da0e-40be-8ea7-37e10969dff1\">ColumnSelector</label><div class=\"sk-toggleable__content\"><pre>ColumnSelector(columns=['vas_id', 'buy_time_x', 'buy_time_y', '0', '1', '2',\n",
       "                        '3', '4', '5', '6', '7', '8', '9', '10', '11', '12',\n",
       "                        '13', '14', '15', '16', '17', '18', '19', '20', '21',\n",
       "                        '22', '23', '24', '25', '26', ...])</pre></div></div></div><div class=\"sk-item\"><div class=\"sk-estimator sk-toggleable\"><input class=\"sk-toggleable__control sk-hidden--visually\" id=\"89b39dd6-1e9c-424d-9232-67af36f1a3a8\" type=\"checkbox\" ><label class=\"sk-toggleable__label\" for=\"89b39dd6-1e9c-424d-9232-67af36f1a3a8\">FeaturesGenerator</label><div class=\"sk-toggleable__content\"><pre>FeaturesGenerator(features_list=['interval'])</pre></div></div></div><div class=\"sk-item sk-dashed-wrapped\"><div class=\"sk-label-container\"><div class=\"sk-label sk-toggleable\"><input class=\"sk-toggleable__control sk-hidden--visually\" id=\"65c6cf46-c694-4bd9-a06a-5559e6531308\" type=\"checkbox\" ><label class=\"sk-toggleable__label\" for=\"65c6cf46-c694-4bd9-a06a-5559e6531308\">fu: FeatureUnion</label><div class=\"sk-toggleable__content\"><pre>FeatureUnion(transformer_list=[('num_pipe',\n",
       "                                Pipeline(steps=[('ncs',\n",
       "                                                 ColumnSelector(columns=['buy_time_x',\n",
       "                                                                         'buy_time_y',\n",
       "                                                                         '0',\n",
       "                                                                         '1',\n",
       "                                                                         '2',\n",
       "                                                                         '3',\n",
       "                                                                         '4',\n",
       "                                                                         '5',\n",
       "                                                                         '6',\n",
       "                                                                         '7',\n",
       "                                                                         '8',\n",
       "                                                                         '9',\n",
       "                                                                         '10',\n",
       "                                                                         '11',\n",
       "                                                                         '12',\n",
       "                                                                         '13',\n",
       "                                                                         '14',\n",
       "                                                                         '16',\n",
       "                                                                         '17',\n",
       "                                                                         '18',\n",
       "                                                                         '19',\n",
       "                                                                         '20',\n",
       "                                                                         '21',\n",
       "                                                                         '22',\n",
       "                                                                         '24',\n",
       "                                                                         '25',\n",
       "                                                                         '28',\n",
       "                                                                         '34',\n",
       "                                                                         '35',\n",
       "                                                                         '36', ...])),\n",
       "                                                ('nsi', SimpleImputer()),\n",
       "                                                ('nss', StandardScaler()),\n",
       "                                                ('nskb', SelectKBest(k=128))])),\n",
       "                               ('cat_pipe',\n",
       "                                Pipel...\n",
       "                                                                         '131',\n",
       "                                                                         '154',\n",
       "                                                                         '216',\n",
       "                                                                         '218'])),\n",
       "                                                ('csi',\n",
       "                                                 SimpleImputer(strategy='most_frequent')),\n",
       "                                                ('coe',\n",
       "                                                 OneHotEncoder(handle_unknown='ignore'))])),\n",
       "                               ('bool_pipe',\n",
       "                                Pipeline(steps=[('bcs',\n",
       "                                                 ColumnSelector(columns=['26',\n",
       "                                                                         '27',\n",
       "                                                                         '31',\n",
       "                                                                         '32',\n",
       "                                                                         '33',\n",
       "                                                                         '57',\n",
       "                                                                         '132',\n",
       "                                                                         '192',\n",
       "                                                                         '194',\n",
       "                                                                         '195',\n",
       "                                                                         '196',\n",
       "                                                                         '197',\n",
       "                                                                         '198',\n",
       "                                                                         '199',\n",
       "                                                                         '200',\n",
       "                                                                         '201',\n",
       "                                                                         '202',\n",
       "                                                                         '204',\n",
       "                                                                         '205',\n",
       "                                                                         '206'])),\n",
       "                                                ('bsi',\n",
       "                                                 SimpleImputer(strategy='most_frequent'))]))])</pre></div></div></div><div class=\"sk-parallel\"><div class=\"sk-parallel-item\"><div class=\"sk-item\"><div class=\"sk-label-container\"><div class=\"sk-label sk-toggleable\"><label>num_pipe</label></div></div><div class=\"sk-serial\"><div class=\"sk-item\"><div class=\"sk-serial\"><div class=\"sk-item\"><div class=\"sk-estimator sk-toggleable\"><input class=\"sk-toggleable__control sk-hidden--visually\" id=\"50f94529-f60c-40e1-b36f-5cb0704e6c32\" type=\"checkbox\" ><label class=\"sk-toggleable__label\" for=\"50f94529-f60c-40e1-b36f-5cb0704e6c32\">ColumnSelector</label><div class=\"sk-toggleable__content\"><pre>ColumnSelector(columns=['buy_time_x', 'buy_time_y', '0', '1', '2', '3', '4',\n",
       "                        '5', '6', '7', '8', '9', '10', '11', '12', '13', '14',\n",
       "                        '16', '17', '18', '19', '20', '21', '22', '24', '25',\n",
       "                        '28', '34', '35', '36', ...])</pre></div></div></div><div class=\"sk-item\"><div class=\"sk-estimator sk-toggleable\"><input class=\"sk-toggleable__control sk-hidden--visually\" id=\"23b4cbae-b112-400d-852b-41b3ab2557e6\" type=\"checkbox\" ><label class=\"sk-toggleable__label\" for=\"23b4cbae-b112-400d-852b-41b3ab2557e6\">SimpleImputer</label><div class=\"sk-toggleable__content\"><pre>SimpleImputer()</pre></div></div></div><div class=\"sk-item\"><div class=\"sk-estimator sk-toggleable\"><input class=\"sk-toggleable__control sk-hidden--visually\" id=\"3ea8a505-37fe-4db2-b044-9459734a9520\" type=\"checkbox\" ><label class=\"sk-toggleable__label\" for=\"3ea8a505-37fe-4db2-b044-9459734a9520\">StandardScaler</label><div class=\"sk-toggleable__content\"><pre>StandardScaler()</pre></div></div></div><div class=\"sk-item\"><div class=\"sk-estimator sk-toggleable\"><input class=\"sk-toggleable__control sk-hidden--visually\" id=\"71611bdb-fd69-4564-a513-811c3458b538\" type=\"checkbox\" ><label class=\"sk-toggleable__label\" for=\"71611bdb-fd69-4564-a513-811c3458b538\">SelectKBest</label><div class=\"sk-toggleable__content\"><pre>SelectKBest(k=128)</pre></div></div></div></div></div></div></div></div><div class=\"sk-parallel-item\"><div class=\"sk-item\"><div class=\"sk-label-container\"><div class=\"sk-label sk-toggleable\"><label>cat_pipe</label></div></div><div class=\"sk-serial\"><div class=\"sk-item\"><div class=\"sk-serial\"><div class=\"sk-item\"><div class=\"sk-estimator sk-toggleable\"><input class=\"sk-toggleable__control sk-hidden--visually\" id=\"5ecf9ce5-4f59-40b3-960c-9826fd6899ef\" type=\"checkbox\" ><label class=\"sk-toggleable__label\" for=\"5ecf9ce5-4f59-40b3-960c-9826fd6899ef\">ColumnSelector</label><div class=\"sk-toggleable__content\"><pre>ColumnSelector(columns=['vas_id', '15', '23', '29', '30', '95', '131', '154',\n",
       "                        '216', '218'])</pre></div></div></div><div class=\"sk-item\"><div class=\"sk-estimator sk-toggleable\"><input class=\"sk-toggleable__control sk-hidden--visually\" id=\"cb7c1a6d-fb19-4fdf-a8b1-97640f4a65d4\" type=\"checkbox\" ><label class=\"sk-toggleable__label\" for=\"cb7c1a6d-fb19-4fdf-a8b1-97640f4a65d4\">SimpleImputer</label><div class=\"sk-toggleable__content\"><pre>SimpleImputer(strategy='most_frequent')</pre></div></div></div><div class=\"sk-item\"><div class=\"sk-estimator sk-toggleable\"><input class=\"sk-toggleable__control sk-hidden--visually\" id=\"7da79158-313d-4fa2-b00d-5ece9e526328\" type=\"checkbox\" ><label class=\"sk-toggleable__label\" for=\"7da79158-313d-4fa2-b00d-5ece9e526328\">OneHotEncoder</label><div class=\"sk-toggleable__content\"><pre>OneHotEncoder(handle_unknown='ignore')</pre></div></div></div></div></div></div></div></div><div class=\"sk-parallel-item\"><div class=\"sk-item\"><div class=\"sk-label-container\"><div class=\"sk-label sk-toggleable\"><label>bool_pipe</label></div></div><div class=\"sk-serial\"><div class=\"sk-item\"><div class=\"sk-serial\"><div class=\"sk-item\"><div class=\"sk-estimator sk-toggleable\"><input class=\"sk-toggleable__control sk-hidden--visually\" id=\"be958f10-7aef-479a-bb81-0e83e49d2677\" type=\"checkbox\" ><label class=\"sk-toggleable__label\" for=\"be958f10-7aef-479a-bb81-0e83e49d2677\">ColumnSelector</label><div class=\"sk-toggleable__content\"><pre>ColumnSelector(columns=['26', '27', '31', '32', '33', '57', '132', '192', '194',\n",
       "                        '195', '196', '197', '198', '199', '200', '201', '202',\n",
       "                        '204', '205', '206'])</pre></div></div></div><div class=\"sk-item\"><div class=\"sk-estimator sk-toggleable\"><input class=\"sk-toggleable__control sk-hidden--visually\" id=\"f531b61e-01e5-4a5c-ad77-4f52c2c1ceef\" type=\"checkbox\" ><label class=\"sk-toggleable__label\" for=\"f531b61e-01e5-4a5c-ad77-4f52c2c1ceef\">SimpleImputer</label><div class=\"sk-toggleable__content\"><pre>SimpleImputer(strategy='most_frequent')</pre></div></div></div></div></div></div></div></div></div></div></div></div><div class=\"sk-item\"><div class=\"sk-estimator sk-toggleable\"><input class=\"sk-toggleable__control sk-hidden--visually\" id=\"27382c8f-c3be-466e-bd18-a6c3b2915da9\" type=\"checkbox\" ><label class=\"sk-toggleable__label\" for=\"27382c8f-c3be-466e-bd18-a6c3b2915da9\">SelectKBest</label><div class=\"sk-toggleable__content\"><pre>SelectKBest(k=64)</pre></div></div></div><div class=\"sk-item sk-dashed-wrapped\"><div class=\"sk-label-container\"><div class=\"sk-label sk-toggleable\"><input class=\"sk-toggleable__control sk-hidden--visually\" id=\"2431b0e2-3d80-4470-81cc-01c715af5cc8\" type=\"checkbox\" ><label class=\"sk-toggleable__label\" for=\"2431b0e2-3d80-4470-81cc-01c715af5cc8\">selectfrommodel: SelectFromModel</label><div class=\"sk-toggleable__content\"><pre>SelectFromModel(estimator=LogisticRegression(penalty='l1', random_state=42,\n",
       "                                             solver='liblinear'),\n",
       "                threshold=0.001)</pre></div></div></div><div class=\"sk-parallel\"><div class=\"sk-parallel-item\"><div class=\"sk-item\"><div class=\"sk-serial\"><div class=\"sk-item\"><div class=\"sk-estimator sk-toggleable\"><input class=\"sk-toggleable__control sk-hidden--visually\" id=\"bf83bcc1-1ec8-4f8c-bae4-86e8e7d2261c\" type=\"checkbox\" ><label class=\"sk-toggleable__label\" for=\"bf83bcc1-1ec8-4f8c-bae4-86e8e7d2261c\">LogisticRegression</label><div class=\"sk-toggleable__content\"><pre>LogisticRegression(penalty='l1', random_state=42, solver='liblinear')</pre></div></div></div></div></div></div></div></div></div></div></div></div>"
      ],
      "text/plain": [
       "Pipeline(steps=[('pipeline',\n",
       "                 Pipeline(steps=[('cs',\n",
       "                                  ColumnSelector(columns=['vas_id',\n",
       "                                                          'buy_time_x',\n",
       "                                                          'buy_time_y', '0',\n",
       "                                                          '1', '2', '3', '4',\n",
       "                                                          '5', '6', '7', '8',\n",
       "                                                          '9', '10', '11', '12',\n",
       "                                                          '13', '14', '15',\n",
       "                                                          '16', '17', '18',\n",
       "                                                          '19', '20', '21',\n",
       "                                                          '22', '23', '24',\n",
       "                                                          '25', '26', ...])),\n",
       "                                 ('fg',\n",
       "                                  FeaturesGenerator(features_list=['interval'])),\n",
       "                                 ('fu',\n",
       "                                  FeatureUnion(transformer_list=[('num_pipe',\n",
       "                                                                  Pipelin...\n",
       "                                                                                   ColumnSelector(columns=['26',\n",
       "                                                                                                           '27',\n",
       "                                                                                                           '31',\n",
       "                                                                                                           '32',\n",
       "                                                                                                           '33',\n",
       "                                                                                                           '57',\n",
       "                                                                                                           '132',\n",
       "                                                                                                           '192',\n",
       "                                                                                                           '194',\n",
       "                                                                                                           '195',\n",
       "                                                                                                           '196',\n",
       "                                                                                                           '197',\n",
       "                                                                                                           '198',\n",
       "                                                                                                           '199',\n",
       "                                                                                                           '200',\n",
       "                                                                                                           '201',\n",
       "                                                                                                           '202',\n",
       "                                                                                                           '204',\n",
       "                                                                                                           '205',\n",
       "                                                                                                           '206'])),\n",
       "                                                                                  ('bsi',\n",
       "                                                                                   SimpleImputer(strategy='most_frequent'))]))]))])),\n",
       "                ('selectkbest', SelectKBest(k=64)),\n",
       "                ('selectfrommodel',\n",
       "                 SelectFromModel(estimator=LogisticRegression(penalty='l1',\n",
       "                                                              random_state=42,\n",
       "                                                              solver='liblinear'),\n",
       "                                 threshold=0.001))])"
      ]
     },
     "execution_count": 35,
     "metadata": {},
     "output_type": "execute_result"
    }
   ],
   "source": [
    "fs_pipe.fit(X_train, y_train)\n"
   ]
  },
  {
   "cell_type": "code",
   "execution_count": 36,
   "metadata": {
    "pycharm": {
     "is_executing": true,
     "name": "#%%\n"
    }
   },
   "outputs": [
    {
     "data": {
      "text/plain": [
       "54"
      ]
     },
     "execution_count": 36,
     "metadata": {},
     "output_type": "execute_result"
    }
   ],
   "source": [
    "fs_pipe.transform(X_test).shape[1]"
   ]
  },
  {
   "cell_type": "code",
   "execution_count": 37,
   "metadata": {
    "pycharm": {
     "is_executing": true,
     "name": "#%%\n"
    }
   },
   "outputs": [
    {
     "data": {
      "text/plain": [
       "['models/data_pipeline.pkl']"
      ]
     },
     "execution_count": 37,
     "metadata": {},
     "output_type": "execute_result"
    }
   ],
   "source": [
    "joblib.dump(fs_pipe, 'models/data_pipeline.pkl', compress=9)"
   ]
  },
  {
   "cell_type": "code",
   "execution_count": 38,
   "metadata": {
    "pycharm": {
     "name": "#%%\n"
    }
   },
   "outputs": [],
   "source": [
    "# pipe_clone = joblib.load('models/data_pipeline.pkl')"
   ]
  },
  {
   "cell_type": "code",
   "execution_count": 39,
   "metadata": {
    "pycharm": {
     "name": "#%%\n"
    }
   },
   "outputs": [],
   "source": [
    "# type(pipe_clone)"
   ]
  },
  {
   "cell_type": "code",
   "execution_count": 40,
   "metadata": {
    "pycharm": {
     "name": "#%%\n"
    }
   },
   "outputs": [],
   "source": [
    "X_test_transform = fs_pipe.transform(X_test)"
   ]
  },
  {
   "cell_type": "code",
   "execution_count": 41,
   "metadata": {},
   "outputs": [],
   "source": [
    "X_train_transform = fs_pipe.transform(X_train)"
   ]
  },
  {
   "cell_type": "code",
   "execution_count": 42,
   "metadata": {},
   "outputs": [],
   "source": [
    "X_valid_transform = fs_pipe.transform(X_valid)"
   ]
  },
  {
   "cell_type": "code",
   "execution_count": 43,
   "metadata": {},
   "outputs": [
    {
     "data": {
      "text/plain": [
       "scipy.sparse.csr.csr_matrix"
      ]
     },
     "execution_count": 43,
     "metadata": {},
     "output_type": "execute_result"
    }
   ],
   "source": [
    "type(X_train_transform)"
   ]
  },
  {
   "cell_type": "code",
   "execution_count": 44,
   "metadata": {},
   "outputs": [
    {
     "data": {
      "text/plain": [
       "(669073, 54)"
      ]
     },
     "execution_count": 44,
     "metadata": {},
     "output_type": "execute_result"
    }
   ],
   "source": [
    "X_train_transform.shape"
   ]
  },
  {
   "cell_type": "code",
   "execution_count": 45,
   "metadata": {},
   "outputs": [
    {
     "data": {
      "text/plain": [
       "['data/changes/y_test.pkl']"
      ]
     },
     "execution_count": 45,
     "metadata": {},
     "output_type": "execute_result"
    }
   ],
   "source": [
    "joblib.dump(X_train_transform, 'data/changes/X_train_transform.pkl', compress=9)\n",
    "joblib.dump(X_test_transform, 'data/changes/X_test_transform.pkl', compress=9)\n",
    "joblib.dump(X_valid_transform, 'data/changes/X_valid_transform.pkl', compress=9)\n",
    "\n",
    "joblib.dump(y_train, 'data/changes/y_train.pkl', compress=9)\n",
    "joblib.dump(y_test, 'data/changes/y_test.pkl', compress=9)"
   ]
  },
  {
   "cell_type": "code",
   "execution_count": 47,
   "metadata": {},
   "outputs": [
    {
     "ename": "NameError",
     "evalue": "name 'LGBMClassifier' is not defined",
     "output_type": "error",
     "traceback": [
      "\u001b[0;31m---------------------------------------------------------------------------\u001b[0m",
      "\u001b[0;31mNameError\u001b[0m                                 Traceback (most recent call last)",
      "\u001b[0;32m<ipython-input-47-b15056477306>\u001b[0m in \u001b[0;36m<module>\u001b[0;34m\u001b[0m\n\u001b[1;32m      2\u001b[0m \u001b[0mrf_model\u001b[0m \u001b[0;34m=\u001b[0m \u001b[0mRandomForestClassifier\u001b[0m\u001b[0;34m(\u001b[0m\u001b[0mrandom_state\u001b[0m\u001b[0;34m=\u001b[0m\u001b[0mRANDOM_STATE\u001b[0m\u001b[0;34m)\u001b[0m\u001b[0;34m\u001b[0m\u001b[0;34m\u001b[0m\u001b[0m\n\u001b[1;32m      3\u001b[0m \u001b[0mgb_model\u001b[0m \u001b[0;34m=\u001b[0m \u001b[0mGradientBoostingClassifier\u001b[0m\u001b[0;34m(\u001b[0m\u001b[0mrandom_state\u001b[0m\u001b[0;34m=\u001b[0m\u001b[0mRANDOM_STATE\u001b[0m\u001b[0;34m)\u001b[0m\u001b[0;34m\u001b[0m\u001b[0;34m\u001b[0m\u001b[0m\n\u001b[0;32m----> 4\u001b[0;31m \u001b[0mlgb_model\u001b[0m \u001b[0;34m=\u001b[0m \u001b[0mLGBMClassifier\u001b[0m\u001b[0;34m(\u001b[0m\u001b[0mrandom_state\u001b[0m\u001b[0;34m=\u001b[0m\u001b[0mSEED\u001b[0m\u001b[0;34m,\u001b[0m \u001b[0mcategorical_column\u001b[0m\u001b[0;34m=\u001b[0m\u001b[0mcat_feats\u001b[0m\u001b[0;34m,\u001b[0m \u001b[0mobjective\u001b[0m\u001b[0;34m=\u001b[0m\u001b[0;34m'binary'\u001b[0m\u001b[0;34m)\u001b[0m\u001b[0;34m\u001b[0m\u001b[0;34m\u001b[0m\u001b[0m\n\u001b[0m",
      "\u001b[0;31mNameError\u001b[0m: name 'LGBMClassifier' is not defined"
     ]
    }
   ],
   "source": []
  },
  {
   "cell_type": "code",
   "execution_count": null,
   "metadata": {},
   "outputs": [],
   "source": []
  }
 ],
 "metadata": {
  "celltoolbar": "Отсутствует",
  "kernelspec": {
   "display_name": "Python 3",
   "language": "python",
   "name": "python3"
  },
  "language_info": {
   "codemirror_mode": {
    "name": "ipython",
    "version": 3
   },
   "file_extension": ".py",
   "mimetype": "text/x-python",
   "name": "python",
   "nbconvert_exporter": "python",
   "pygments_lexer": "ipython3",
   "version": "3.7.7"
  }
 },
 "nbformat": 4,
 "nbformat_minor": 1
}
