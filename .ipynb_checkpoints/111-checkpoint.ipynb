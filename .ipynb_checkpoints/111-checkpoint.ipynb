{
 "cells": [
  {
   "cell_type": "code",
   "execution_count": 29,
   "metadata": {},
   "outputs": [],
   "source": [
    "import pandas as pd\n",
    "import numpy as np\n",
    "import luigi\n",
    "import warnings\n",
    "import joblib\n",
    "import seaborn as sns\n",
    "import matplotlib.pyplot as plt\n",
    "from tqdm.auto import tqdm\n",
    "from datetime import datetime, date, time, timedelta\n",
    "from functions import reduce_mem_usage\n",
    "\n",
    "from sklearn.base import BaseEstimator, TransformerMixin\n",
    "from sklearn.pipeline import FeatureUnion, make_pipeline\n",
    "from sklearn.preprocessing import StandardScaler, OneHotEncoder\n",
    "from sklearn.impute import SimpleImputer\n",
    "from sklearn.feature_selection import SelectFromModel, SelectKBest, f_classif\n",
    "\n",
    "# from sklearn.ensemble import GradientBoostingClassifier\n",
    "from sklearn.model_selection import TimeSeriesSplit, train_test_split\n",
    "from sklearn.metrics import f1_score, classification_report, plot_confusion_matrix\n",
    "from sklearn.metrics import precision_recall_curve, roc_curve, auc\n",
    "\n",
    "from sklearn.compose import ColumnTransformer\n",
    "from sklearn.pipeline import Pipeline\n",
    "from sklearn.preprocessing import StandardScaler, OneHotEncoder\n",
    "from sklearn.linear_model import LogisticRegression\n",
    "from sklearn.ensemble import RandomForestClassifier\n",
    "\n",
    "from sklearn.ensemble import GradientBoostingClassifier\n",
    "from lightgbm import LGBMClassifier\n",
    "from catboost import CatBoostClassifier\n",
    "from xgboost import XGBClassifier\n",
    "\n",
    "from imblearn.over_sampling import RandomOverSampler\n",
    "from collections import Counter\n",
    "#\n",
    "# from boruta import BorutaPy\n",
    "\n",
    "import time"
   ]
  },
  {
   "cell_type": "code",
   "execution_count": 2,
   "metadata": {
    "pycharm": {
     "name": "#%%\n"
    }
   },
   "outputs": [],
   "source": [
    "# % matplotlib inline\n",
    "\n",
    "warnings.simplefilter(\"ignore\")\n",
    "pd.set_option(\"display.max_columns\", 999)\n",
    "RANDOM_STATE = 42"
   ]
  },
  {
   "cell_type": "code",
   "execution_count": 3,
   "metadata": {
    "pycharm": {
     "name": "#%%\n"
    }
   },
   "outputs": [],
   "source": [
    "# TRAIN_PATH = \"data/train_merge.csv\"\n",
    "# TEST_PATH = \"data/test_merge.csv\"\n",
    "\n",
    "# train = reduce_mem_usage(pd.read_csv(TRAIN_PATH))\n",
    "# test = reduce_mem_usage(pd.read_csv(TEST_PATH))"
   ]
  },
  {
   "cell_type": "code",
   "execution_count": 4,
   "metadata": {
    "pycharm": {
     "name": "#%%\n"
    }
   },
   "outputs": [],
   "source": [
    "# data_pipe = joblib.load('models/data_pipeline.pkl')"
   ]
  },
  {
   "cell_type": "code",
   "execution_count": 15,
   "metadata": {},
   "outputs": [],
   "source": [
    "X_train = joblib.load('data/changes/X_train_transform.pkl')\n",
    "X_test = joblib.load('data/changes/X_test_transform.pkl')\n",
    "# X_valid = joblib.load('data/changes/X_valid_transform.pkl')\n",
    "\n",
    "y_train = joblib.load('data/changes/y_train.pkl')\n",
    "y_test = joblib.load('data/changes/y_test.pkl')\n",
    "\n",
    "\n"
   ]
  },
  {
   "cell_type": "code",
   "execution_count": 16,
   "metadata": {},
   "outputs": [
    {
     "data": {
      "text/plain": [
       "scipy.sparse.csr.csr_matrix"
      ]
     },
     "execution_count": 16,
     "metadata": {},
     "output_type": "execute_result"
    }
   ],
   "source": [
    "type(X_train)"
   ]
  },
  {
   "cell_type": "code",
   "execution_count": null,
   "metadata": {},
   "outputs": [],
   "source": [
    "log_model = LogisticRegression(random_state=RANDOM_STATE)\n",
    "rf_model = RandomForestClassifier(random_state=RANDOM_STATE, task_type=\"GPU\",)\n",
    "gb_model = GradientBoostingClassifier(random_state=RANDOM_STATE, task_type=\"GPU\",)\n",
    "lgb_model = LGBMClassifier(random_state=RANDOM_STATE, task_type=\"GPU\", objective='binary')\n",
    "cb_model = CatBoostClassifier(random_state=RANDOM_STATE, task_type=\"GPU\", objective='binary')\n",
    "xgb_model = XGBClassifier(random_state=RANDOM_STATE, task_type=\"GPU\", objective='binary')"
   ]
  },
  {
   "cell_type": "code",
   "execution_count": 19,
   "metadata": {},
   "outputs": [
    {
     "ename": "NameError",
     "evalue": "name 'get_classification_report' is not defined",
     "output_type": "error",
     "traceback": [
      "\u001b[0;31m---------------------------------------------------------------------------\u001b[0m",
      "\u001b[0;31mNameError\u001b[0m                                 Traceback (most recent call last)",
      "\u001b[0;32m<ipython-input-19-73639b1f42f3>\u001b[0m in \u001b[0;36m<module>\u001b[0;34m\u001b[0m\n\u001b[1;32m      3\u001b[0m \u001b[0my_test_pred\u001b[0m \u001b[0;34m=\u001b[0m \u001b[0mrf_model\u001b[0m\u001b[0;34m.\u001b[0m\u001b[0mpredict\u001b[0m\u001b[0;34m(\u001b[0m\u001b[0mX_test\u001b[0m\u001b[0;34m)\u001b[0m\u001b[0;34m\u001b[0m\u001b[0;34m\u001b[0m\u001b[0m\n\u001b[1;32m      4\u001b[0m \u001b[0my_test_pred_proba\u001b[0m \u001b[0;34m=\u001b[0m \u001b[0mrf_model\u001b[0m\u001b[0;34m.\u001b[0m\u001b[0mpredict_proba\u001b[0m\u001b[0;34m(\u001b[0m\u001b[0mX_test\u001b[0m\u001b[0;34m)\u001b[0m\u001b[0;34m\u001b[0m\u001b[0;34m\u001b[0m\u001b[0m\n\u001b[0;32m----> 5\u001b[0;31m \u001b[0mget_classification_report\u001b[0m\u001b[0;34m(\u001b[0m\u001b[0my_train\u001b[0m\u001b[0;34m,\u001b[0m \u001b[0my_train_pred\u001b[0m\u001b[0;34m,\u001b[0m \u001b[0my_test\u001b[0m\u001b[0;34m,\u001b[0m \u001b[0my_test_pred\u001b[0m\u001b[0;34m,\u001b[0m \u001b[0mrf_model\u001b[0m\u001b[0;34m,\u001b[0m \u001b[0mX_test\u001b[0m\u001b[0;34m)\u001b[0m\u001b[0;34m\u001b[0m\u001b[0;34m\u001b[0m\u001b[0m\n\u001b[0m",
      "\u001b[0;31mNameError\u001b[0m: name 'get_classification_report' is not defined"
     ]
    }
   ],
   "source": [
    "\n",
    "rf_model.fit(X_train, y_train)\n",
    "y_train_pred = rf_model.predict(X_train)\n",
    "y_test_pred = rf_model.predict(X_test)\n",
    "y_test_pred_proba = rf_model.predict_proba(X_test)\n",
    "get_classification_report(y_train, y_train_pred, y_test, y_test_pred, rf_model, X_test)"
   ]
  },
  {
   "cell_type": "code",
   "execution_count": 20,
   "metadata": {},
   "outputs": [],
   "source": [
    "\n",
    "def get_classification_report(y_train_true, y_train_pred, y_test_true, y_test_pred, model, X_test, digits=3):\n",
    "    print('TRAIN\\n\\n' + classification_report(y_train_true, y_train_pred, digits=digits))\n",
    "    print('TEST\\n\\n' + classification_report(y_test_true, y_test_pred, digits=digits))\n",
    "    print('CONFUSION MATRIX\\n')\n",
    "    print(pd.crosstab(y_test_true, y_test_pred))\n",
    "    plot_confusion_matrix(model, X_test, y_test_true, cmap=plt.cm.Blues, normalize='all')"
   ]
  },
  {
   "cell_type": "code",
   "execution_count": 22,
   "metadata": {},
   "outputs": [],
   "source": [
    "def test_model(X_test, y_test, model):\n",
    "    model.fit(X_train, y_train)\n",
    "    y_train_pred = model.predict(X_train)\n",
    "    y_test_pred = model.predict(X_test)\n",
    "    y_test_pred_proba = model.predict_proba(X_test)\n",
    "    get_classification_report(y_train, y_train_pred, y_test, y_test_pred, rf_model, X_test)"
   ]
  },
  {
   "cell_type": "code",
   "execution_count": 21,
   "metadata": {
    "scrolled": true
   },
   "outputs": [
    {
     "name": "stdout",
     "output_type": "stream",
     "text": [
      "TRAIN\n",
      "\n",
      "              precision    recall  f1-score   support\n",
      "\n",
      "         0.0      1.000     1.000     1.000    632014\n",
      "         1.0      1.000     0.999     1.000     37059\n",
      "\n",
      "    accuracy                          1.000    669073\n",
      "   macro avg      1.000     1.000     1.000    669073\n",
      "weighted avg      1.000     1.000     1.000    669073\n",
      "\n",
      "TEST\n",
      "\n",
      "              precision    recall  f1-score   support\n",
      "\n",
      "         0.0      0.949     0.992     0.970    158076\n",
      "         1.0      0.406     0.090     0.147      9193\n",
      "\n",
      "    accuracy                          0.943    167269\n",
      "   macro avg      0.677     0.541     0.559    167269\n",
      "weighted avg      0.919     0.943     0.925    167269\n",
      "\n",
      "CONFUSION MATRIX\n",
      "\n",
      "col_0      0.0   1.0\n",
      "target              \n",
      "0.0     156868  1208\n",
      "1.0       8369   824\n"
     ]
    },
    {
     "data": {
      "image/png": "[encoded data removed]",
      "text/plain": [
       "<Figure size 432x288 with 2 Axes>"
      ]
     },
     "metadata": {
      "needs_background": "light"
     },
     "output_type": "display_data"
    }
   ],
   "source": [
    "# get_classification_report(y_train, y_train_pred, y_test, y_test_pred, rf_model, X_test)\n",
    "\n",
    "# TRAIN\n",
    "\n",
    "#               precision    recall  f1-score   support\n",
    "\n",
    "#          0.0      1.000     1.000     1.000    632014\n",
    "#          1.0      1.000     0.999     1.000     37059\n",
    "\n",
    "#     accuracy                          1.000    669073\n",
    "#    macro avg      1.000     1.000     1.000    669073\n",
    "# weighted avg      1.000     1.000     1.000    669073\n",
    "\n",
    "# TEST\n",
    "\n",
    "#               precision    recall  f1-score   support\n",
    "\n",
    "#          0.0      0.949     0.992     0.970    158076\n",
    "#          1.0      0.406     0.090     0.147      9193\n",
    "\n",
    "#     accuracy                          0.943    167269\n",
    "#    macro avg      0.677     0.541     0.559    167269\n",
    "# weighted avg      0.919     0.943     0.925    167269\n",
    "\n",
    "# CONFUSION MATRIX\n",
    "\n",
    "# col_0      0.0   1.0\n",
    "# target              \n",
    "# 0.0     156868  1208\n",
    "# 1.0       8369   824"
   ]
  },
  {
   "cell_type": "markdown",
   "metadata": {},
   "source": [
    "Сказывается дисбаланс классов. Попробуем оверсемплинг."
   ]
  },
  {
   "cell_type": "code",
   "execution_count": null,
   "metadata": {},
   "outputs": [],
   "source": [
    "ros = RandomOverSampler(random_state=42)\n",
    "\n",
    "X_ros, y_ros = ros.fit_resample(X_train, y_train)\n",
    "\n",
    "print('Original dataset shape', Counter(y))\n",
    "print('Resample dataset shape', Counter(y_ros))"
   ]
  },
  {
   "cell_type": "code",
   "execution_count": null,
   "metadata": {},
   "outputs": [],
   "source": [
    "test_model(X_ros, y_ros, rf_model)"
   ]
  },
  {
   "cell_type": "code",
   "execution_count": null,
   "metadata": {},
   "outputs": [],
   "source": []
  }
 ],
 "metadata": {
  "kernelspec": {
   "display_name": "Python 3",
   "language": "python",
   "name": "python3"
  },
  "language_info": {
   "codemirror_mode": {
    "name": "ipython",
    "version": 3
   },
   "file_extension": ".py",
   "mimetype": "text/x-python",
   "name": "python",
   "nbconvert_exporter": "python",
   "pygments_lexer": "ipython3",
   "version": "3.7.7"
  }
 },
 "nbformat": 4,
 "nbformat_minor": 1
}
