{
 "cells": [
  {
   "cell_type": "code",
   "execution_count": 58,
   "metadata": {},
   "outputs": [],
   "source": [
    "import pandas as pd\n",
    "import numpy as np\n",
    "import luigi\n",
    "import warnings\n",
    "import joblib\n",
    "import seaborn as sns\n",
    "import matplotlib.pyplot as plt\n",
    "from tqdm.auto import tqdm\n",
    "from datetime import datetime, date, time, timedelta\n",
    "from sklearn import set_config\n",
    "\n",
    "from functions import reduce_mem_usage\n",
    "\n",
    "from sklearn.base import BaseEstimator, TransformerMixin\n",
    "from sklearn.pipeline import FeatureUnion, make_pipeline\n",
    "from sklearn.preprocessing import StandardScaler, OneHotEncoder\n",
    "from sklearn.impute import SimpleImputer\n",
    "from sklearn.feature_selection import SelectFromModel, SelectKBest, f_classif\n",
    "\n",
    "# from sklearn.ensemble import GradientBoostingClassifier\n",
    "from sklearn.model_selection import TimeSeriesSplit, train_test_split, GridSearchCV, KFold\n",
    "from sklearn.metrics import f1_score, classification_report, plot_confusion_matrix\n",
    "from sklearn.metrics import precision_recall_curve, roc_curve, auc\n",
    "\n",
    "from sklearn.compose import ColumnTransformer\n",
    "from sklearn.pipeline import Pipeline\n",
    "from sklearn.preprocessing import StandardScaler, OneHotEncoder\n",
    "from sklearn.linear_model import LogisticRegression\n",
    "from sklearn.ensemble import RandomForestClassifier\n",
    "\n",
    "from sklearn.ensemble import GradientBoostingClassifier\n",
    "from lightgbm import LGBMClassifier\n",
    "from catboost import CatBoostClassifier\n",
    "from xgboost import XGBClassifier\n",
    "\n",
    "from imblearn.over_sampling import RandomOverSampler\n",
    "from collections import Counter\n",
    "\n",
    "\n",
    "import time"
   ]
  },
  {
   "cell_type": "code",
   "execution_count": 59,
   "metadata": {
    "pycharm": {
     "name": "#%%\n"
    }
   },
   "outputs": [],
   "source": [
    "%matplotlib inline\n",
    "\n",
    "warnings.simplefilter(\"ignore\")\n",
    "pd.set_option(\"display.max_columns\", 999)"
   ]
  },
  {
   "cell_type": "code",
   "execution_count": 60,
   "metadata": {
    "pycharm": {
     "name": "#%%\n"
    }
   },
   "outputs": [],
   "source": [
    "RANDOM_STATE = 42"
   ]
  },
  {
   "cell_type": "code",
   "execution_count": 61,
   "metadata": {},
   "outputs": [],
   "source": [
    "TRAIN_PATH = \"data/data_train.csv\"\n",
    "TEST_PATH = \"data/data_test.csv\"\n",
    "FEATURES_PATH = \"data/features.csv\"\n",
    "\n",
    "data_train = pd.read_csv(TRAIN_PATH)\n",
    "data_test = pd.read_csv(TEST_PATH)"
   ]
  },
  {
   "cell_type": "code",
   "execution_count": 62,
   "metadata": {
    "pycharm": {
     "name": "#%%\n"
    }
   },
   "outputs": [
    {
     "name": "stdout",
     "output_type": "stream",
     "text": [
      "Memory usage of the dataframe is 31.73 MB\n",
      "Memory usage after optimization is: 15.86 MB\n",
      "Decreased by 50.0%\n",
      "Memory usage of the dataframe is 2.17 MB\n",
      "Memory usage after optimization is: 1.09 MB\n",
      "Decreased by 50.0%\n"
     ]
    }
   ],
   "source": [
    "data_train = reduce_mem_usage(data_train)\n",
    "data_test = reduce_mem_usage(data_test)"
   ]
  },
  {
   "cell_type": "code",
   "execution_count": 63,
   "metadata": {},
   "outputs": [],
   "source": [
    "def process_featues(data_features, train, test):\n",
    "    ids = np.unique(train['id'].append(test['id']))\n",
    "    # Возьмем id только тех пользователей, что встречаются в трейн и тест выборках.\n",
    "    data_features = data_features[data_features['id'].isin(ids)]\n",
    "    # Дропнем Unnamed\n",
    "    if 'Unnamed: 0' in data_features:\n",
    "        data_features = data_features.drop(columns='Unnamed: 0')\n",
    "\n",
    "    data_features = data_features.compute()\n",
    "    # удалим признаки с единственным значением\n",
    "    df_nunique = data_features.apply(lambda x: x.nunique(dropna=False))\n",
    "    const = df_nunique[df_nunique ==1].index.tolist()\n",
    "    data_features = data_features.drop(columns = const)\n",
    "    # функция сжатия данных\n",
    "    data_features = reduce_mem_usage(data_features)\n",
    "    return data_features"
   ]
  },
  {
   "cell_type": "code",
   "execution_count": null,
   "metadata": {},
   "outputs": [],
   "source": [
    "import dask.dataframe as dd\n",
    "\n",
    "data_features = dd.read_csv(FEATURES_PATH, sep ='\\t')\n",
    "\n",
    "data_features =process_featues(data_features, data_train, data_test)"
   ]
  },
  {
   "cell_type": "code",
   "execution_count": null,
   "metadata": {},
   "outputs": [],
   "source": [
    "train = data_train.merge(data_features, on='id', how = 'left')\n",
    "valid = data_test.merge(data_features, on='id', how = 'left')\n",
    "del train['Unnamed: 0']\n",
    "del valid['Unnamed: 0']"
   ]
  },
  {
   "cell_type": "markdown",
   "metadata": {},
   "source": [
    "## data pipe"
   ]
  },
  {
   "cell_type": "code",
   "execution_count": null,
   "metadata": {
    "pycharm": {
     "name": "#%%\n"
    }
   },
   "outputs": [],
   "source": [
    "# TRAIN_PATH = \"data/train_merge.csv\"\n",
    "# TEST_PATH = \"data/test_merge.csv\""
   ]
  },
  {
   "cell_type": "code",
   "execution_count": null,
   "metadata": {
    "pycharm": {
     "name": "#%%\n"
    }
   },
   "outputs": [],
   "source": [
    "# train = reduce_mem_usage(pd.read_csv(TRAIN_PATH))\n",
    "# test = reduce_mem_usage(pd.read_csv(TEST_PATH))"
   ]
  },
  {
   "cell_type": "code",
   "execution_count": null,
   "metadata": {
    "pycharm": {
     "name": "#%%\n"
    }
   },
   "outputs": [],
   "source": [
    "features = [f for f in data_features.columns if f not in ['buy_time','id']]"
   ]
  },
  {
   "cell_type": "markdown",
   "metadata": {
    "pycharm": {
     "name": "#%% md\n"
    }
   },
   "source": [
    "Разделим данные на X и y"
   ]
  },
  {
   "cell_type": "code",
   "execution_count": null,
   "metadata": {
    "pycharm": {
     "name": "#%%\n"
    }
   },
   "outputs": [],
   "source": [
    "X_train = train.drop('target', axis='columns')\n",
    "y_train = train.target\n",
    "X_valid = valid"
   ]
  },
  {
   "cell_type": "code",
   "execution_count": null,
   "metadata": {
    "pycharm": {
     "name": "#%%\n"
    }
   },
   "outputs": [],
   "source": [
    "# X_train, X_test, y_train, y_test = train_test_split(X_train, y_train, test_size=0.2, random_state=42)"
   ]
  },
  {
   "cell_type": "markdown",
   "metadata": {},
   "source": [
    "Разделим признаки на бинарные, категориальные и вещественные."
   ]
  },
  {
   "cell_type": "code",
   "execution_count": null,
   "metadata": {
    "pycharm": {
     "name": "#%%\n"
    }
   },
   "outputs": [],
   "source": [
    "boolean_features = []\n",
    "categorical_features = []\n",
    "numeric_features = []\n",
    "for col in X_train[features].fillna(0):\n",
    "    val_count = len(X_train[col].unique())\n",
    "    if val_count == 2:\n",
    "        boolean_features.append(col)\n",
    "    elif val_count <= 10:\n",
    "        categorical_features.append(col)\n",
    "    else:\n",
    "        numeric_features.append(col)\n"
   ]
  },
  {
   "cell_type": "markdown",
   "metadata": {
    "pycharm": {
     "name": "#%% md\n"
    }
   },
   "source": [
    "Селектор колонок"
   ]
  },
  {
   "cell_type": "code",
   "execution_count": null,
   "metadata": {
    "pycharm": {
     "name": "#%%\n"
    }
   },
   "outputs": [],
   "source": [
    "class ColumnSelector(BaseEstimator, TransformerMixin):\n",
    "    def __init__(self, columns):\n",
    "        self.columns = columns\n",
    "\n",
    "    def fit(self, X, y=None):\n",
    "        return self\n",
    "\n",
    "    def transform(self, X):\n",
    "        assert isinstance(X, pd.DataFrame)\n",
    "\n",
    "        try:\n",
    "            return X[self.columns]\n",
    "        except KeyError:\n",
    "            cols_error = list(set(self.columns) - set(X.columns))\n",
    "            raise KeyError(\"DataFrame не содердит следующие колонки: %s\" % cols_error)"
   ]
  },
  {
   "cell_type": "code",
   "execution_count": null,
   "metadata": {
    "pycharm": {
     "name": "#%%\n"
    }
   },
   "outputs": [],
   "source": [
    "# new_features_list = ['interval']\n",
    "class FeaturesGenerator(BaseEstimator, TransformerMixin):\n",
    "    def __init__(self, features_list):\n",
    "        self.features_list = features_list\n",
    "\n",
    "    def fit(self, X, y=None):\n",
    "        return self\n",
    "\n",
    "    def transform(self, X, y=None):\n",
    "        # assert isinstance(X, pd.DataFrame)\n",
    "\n",
    "        try:\n",
    "#             if 'interval' in self.features_list:\n",
    "#                 X['interval'] = X['buy_time_y'] - X['buy_time_x']\n",
    "\n",
    "            return X\n",
    "        except KeyError:\n",
    "            cols_error = list(set(self.columns) - set(X.columns))\n",
    "            raise KeyError(\"DataFrame не содердит следующие колонки: %s\" % cols_error)"
   ]
  },
  {
   "cell_type": "code",
   "execution_count": null,
   "metadata": {},
   "outputs": [],
   "source": []
  },
  {
   "cell_type": "code",
   "execution_count": null,
   "metadata": {},
   "outputs": [],
   "source": []
  },
  {
   "cell_type": "markdown",
   "metadata": {
    "pycharm": {
     "name": "#%% md\n"
    }
   },
   "source": [
    "Обработчик вещественных признаков\n",
    "Поскольку вещественных признаков много больше чем предполагается оставить в конце, и чем остальных признаков, откинем менее значимые из них до объединения с другими признаками."
   ]
  },
  {
   "cell_type": "code",
   "execution_count": null,
   "metadata": {
    "pycharm": {
     "name": "#%%\n"
    }
   },
   "outputs": [],
   "source": [
    "num_pipe = Pipeline([\n",
    "    ('ncs', ColumnSelector(columns=numeric_features)),\n",
    "    ('nsi', SimpleImputer(strategy=\"mean\")),\n",
    "    ('nss', StandardScaler()),\n",
    "    ('nskb', SelectKBest(k=128, score_func=f_classif)),\n",
    "])"
   ]
  },
  {
   "cell_type": "markdown",
   "metadata": {
    "pycharm": {
     "name": "#%% md\n"
    }
   },
   "source": [
    "Обработчик категориальных признаков"
   ]
  },
  {
   "cell_type": "code",
   "execution_count": null,
   "metadata": {
    "pycharm": {
     "name": "#%%\n"
    }
   },
   "outputs": [],
   "source": [
    "cat_pipe = Pipeline([\n",
    "    ('ccs', ColumnSelector(columns=categorical_features)),\n",
    "    ('csi', SimpleImputer(strategy=\"most_frequent\")),\n",
    "    ('coe', OneHotEncoder(handle_unknown='ignore')),\n",
    "])"
   ]
  },
  {
   "cell_type": "markdown",
   "metadata": {
    "pycharm": {
     "name": "#%% md\n"
    }
   },
   "source": [
    "Обработчик булевых признаков"
   ]
  },
  {
   "cell_type": "code",
   "execution_count": null,
   "metadata": {
    "pycharm": {
     "name": "#%%\n"
    }
   },
   "outputs": [],
   "source": [
    "bool_pipe = Pipeline([\n",
    "    ('bcs', ColumnSelector(columns=boolean_features)),\n",
    "    ('bsi', SimpleImputer(strategy=\"most_frequent\")),\n",
    "])"
   ]
  },
  {
   "cell_type": "markdown",
   "metadata": {
    "pycharm": {
     "name": "#%% md\n"
    }
   },
   "source": [
    "Собираем в общий пайплайн"
   ]
  },
  {
   "cell_type": "code",
   "execution_count": null,
   "metadata": {
    "pycharm": {
     "name": "#%%\n"
    }
   },
   "outputs": [],
   "source": [
    "transformer_list = [('num_pipe', num_pipe), ('cat_pipe', cat_pipe), ('bool_pipe', bool_pipe)]"
   ]
  },
  {
   "cell_type": "code",
   "execution_count": null,
   "metadata": {
    "pycharm": {
     "name": "#%%\n"
    }
   },
   "outputs": [],
   "source": [
    "transform_pipe = Pipeline([\n",
    "    ('cs', ColumnSelector(columns=features)),\n",
    "    ('fg', FeaturesGenerator(features_list=['interval'])),\n",
    "    ('fu', FeatureUnion(transformer_list=transformer_list)),\n",
    "])\n"
   ]
  },
  {
   "cell_type": "markdown",
   "metadata": {
    "pycharm": {
     "name": "#%% md\n"
    }
   },
   "source": [
    "Отберем признаки с помощью SelectKBest и логистической регрессии с регуляризацией L1 (было 298 признаков)\n"
   ]
  },
  {
   "cell_type": "code",
   "execution_count": null,
   "metadata": {
    "pycharm": {
     "name": "#%%\n"
    }
   },
   "outputs": [],
   "source": [
    "fs_pipe = make_pipeline(\n",
    "    transform_pipe,\n",
    "    SelectKBest(k=64, score_func=f_classif),\n",
    "    SelectFromModel(LogisticRegression(penalty='l1', solver='liblinear', random_state=RANDOM_STATE), threshold=1e-3),\n",
    ")"
   ]
  },
  {
   "cell_type": "code",
   "execution_count": null,
   "metadata": {
    "pycharm": {
     "name": "#%%\n"
    }
   },
   "outputs": [],
   "source": [
    "set_config(display='diagram')\n",
    "\n",
    "fs_pipe"
   ]
  },
  {
   "cell_type": "code",
   "execution_count": null,
   "metadata": {
    "pycharm": {
     "is_executing": true,
     "name": "#%%\n"
    }
   },
   "outputs": [],
   "source": [
    "fs_pipe.fit(X_train, y_train)\n"
   ]
  },
  {
   "cell_type": "code",
   "execution_count": null,
   "metadata": {
    "pycharm": {
     "is_executing": true,
     "name": "#%%\n"
    }
   },
   "outputs": [],
   "source": [
    "# fs_pipe.transform(X_test).shape[1]"
   ]
  },
  {
   "cell_type": "code",
   "execution_count": null,
   "metadata": {
    "pycharm": {
     "is_executing": true,
     "name": "#%%\n"
    }
   },
   "outputs": [],
   "source": [
    "# joblib.dump(fs_pipe, 'models/data_pipeline.pkl', compress=9)"
   ]
  },
  {
   "cell_type": "code",
   "execution_count": null,
   "metadata": {
    "pycharm": {
     "name": "#%%\n"
    }
   },
   "outputs": [],
   "source": [
    "# pipe_clone = joblib.load('models/data_pipeline.pkl')"
   ]
  },
  {
   "cell_type": "code",
   "execution_count": null,
   "metadata": {
    "pycharm": {
     "name": "#%%\n"
    }
   },
   "outputs": [],
   "source": [
    "# type(pipe_clone)"
   ]
  },
  {
   "cell_type": "code",
   "execution_count": null,
   "metadata": {
    "pycharm": {
     "name": "#%%\n"
    }
   },
   "outputs": [],
   "source": [
    "# if X_test:\n",
    "#     X_test = fs_pipe.transform(X_test)"
   ]
  },
  {
   "cell_type": "code",
   "execution_count": null,
   "metadata": {},
   "outputs": [],
   "source": [
    "X_train = fs_pipe.transform(X_train)"
   ]
  },
  {
   "cell_type": "code",
   "execution_count": null,
   "metadata": {},
   "outputs": [],
   "source": [
    "answers_test = X_valid['id', 'vas_id']\n",
    "answers_test['buy_time'] = X_valid['buy_time_x']"
   ]
  },
  {
   "cell_type": "code",
   "execution_count": null,
   "metadata": {},
   "outputs": [],
   "source": [
    "answers_test"
   ]
  },
  {
   "cell_type": "code",
   "execution_count": 46,
   "metadata": {},
   "outputs": [],
   "source": [
    "X_valid = fs_pipe.transform(X_valid)"
   ]
  },
  {
   "cell_type": "code",
   "execution_count": null,
   "metadata": {},
   "outputs": [],
   "source": [
    "# type(X_train_transform)"
   ]
  },
  {
   "cell_type": "code",
   "execution_count": null,
   "metadata": {},
   "outputs": [],
   "source": [
    "# X_train_transform.shape"
   ]
  },
  {
   "cell_type": "code",
   "execution_count": null,
   "metadata": {},
   "outputs": [],
   "source": [
    "# joblib.dump(X_train_transform, 'data/changes/X_train_transform.pkl', compress=9)\n",
    "# joblib.dump(X_test_transform, 'data/changes/X_test_transform.pkl', compress=9)\n",
    "# joblib.dump(X_valid_transform, 'data/changes/X_valid_transform.pkl', compress=9)\n",
    "\n",
    "# joblib.dump(y_train, 'data/changes/y_train.pkl', compress=9)\n",
    "# joblib.dump(y_test, 'data/changes/y_test.pkl', compress=9)"
   ]
  },
  {
   "cell_type": "markdown",
   "metadata": {},
   "source": [
    "## Model"
   ]
  },
  {
   "cell_type": "code",
   "execution_count": 47,
   "metadata": {},
   "outputs": [],
   "source": [
    "def get_classification_report(y_train_true, y_train_pred, y_test_true, y_test_pred, model, X_test, digits=3):\n",
    "    print('TRAIN\\n\\n' + classification_report(y_train_true, y_train_pred, digits=digits))\n",
    "    print('TEST\\n\\n' + classification_report(y_test_true, y_test_pred, digits=digits))\n",
    "    print('CONFUSION MATRIX\\n')\n",
    "    print(pd.crosstab(y_test_true, y_test_pred))\n",
    "    plot_confusion_matrix(model, X_test, y_test_true, cmap=plt.cm.Blues, normalize='all')"
   ]
  },
  {
   "cell_type": "code",
   "execution_count": 48,
   "metadata": {},
   "outputs": [],
   "source": [
    "def test_model(X_train, y_train, model):\n",
    "    start = time.time()\n",
    "    model.fit(X_train, y_train)\n",
    "    y_train_pred = model.predict(X_train)\n",
    "    y_test_pred = model.predict(X_test)\n",
    "    y_test_pred_proba = model.predict_proba(X_test)\n",
    "    get_classification_report(y_train, y_train_pred, y_test, y_test_pred, model, X_test)\n",
    "    train_time = time.time() - start\n",
    "    print(f\"train time = {train_time}\")\n",
    "    return model, y_test, y_test_pred_proba, f1_score(y_test, y_test_pred, average='macro')"
   ]
  },
  {
   "cell_type": "code",
   "execution_count": 49,
   "metadata": {},
   "outputs": [],
   "source": [
    "ros = RandomOverSampler(random_state=42)\n",
    "\n",
    "X_ros, y_ros = ros.fit_resample(X_train, y_train)"
   ]
  },
  {
   "cell_type": "code",
   "execution_count": 50,
   "metadata": {},
   "outputs": [],
   "source": [
    "model = CatBoostClassifier(random_state=RANDOM_STATE)\n"
   ]
  },
  {
   "cell_type": "code",
   "execution_count": 51,
   "metadata": {},
   "outputs": [
    {
     "name": "stdout",
     "output_type": "stream",
     "text": [
      "Learning rate set to 0.240211\n",
      "0:\tlearn: 0.6925347\ttotal: 596ms\tremaining: 9m 55s\n",
      "1:\tlearn: 0.6923098\ttotal: 884ms\tremaining: 7m 21s\n",
      "2:\tlearn: 0.6921480\ttotal: 1.19s\tremaining: 6m 36s\n",
      "3:\tlearn: 0.6919847\ttotal: 1.47s\tremaining: 6m 6s\n",
      "4:\tlearn: 0.6918258\ttotal: 1.74s\tremaining: 5m 47s\n",
      "5:\tlearn: 0.6916496\ttotal: 2.06s\tremaining: 5m 41s\n",
      "6:\tlearn: 0.6915250\ttotal: 2.33s\tremaining: 5m 31s\n",
      "7:\tlearn: 0.6913974\ttotal: 2.87s\tremaining: 5m 55s\n",
      "8:\tlearn: 0.6912731\ttotal: 3.3s\tremaining: 6m 3s\n",
      "9:\tlearn: 0.6911514\ttotal: 3.75s\tremaining: 6m 11s\n",
      "10:\tlearn: 0.6910342\ttotal: 4.15s\tremaining: 6m 13s\n",
      "11:\tlearn: 0.6909135\ttotal: 4.54s\tremaining: 6m 14s\n",
      "12:\tlearn: 0.6907964\ttotal: 5s\tremaining: 6m 19s\n",
      "13:\tlearn: 0.6906616\ttotal: 5.57s\tremaining: 6m 31s\n",
      "14:\tlearn: 0.6905594\ttotal: 6.03s\tremaining: 6m 36s\n",
      "15:\tlearn: 0.6904617\ttotal: 6.38s\tremaining: 6m 32s\n",
      "16:\tlearn: 0.6903337\ttotal: 6.98s\tremaining: 6m 43s\n",
      "17:\tlearn: 0.6902408\ttotal: 7.69s\tremaining: 6m 59s\n",
      "18:\tlearn: 0.6901680\ttotal: 8.26s\tremaining: 7m 6s\n",
      "19:\tlearn: 0.6900313\ttotal: 8.92s\tremaining: 7m 16s\n",
      "20:\tlearn: 0.6899250\ttotal: 9.31s\tremaining: 7m 14s\n",
      "21:\tlearn: 0.6898444\ttotal: 9.7s\tremaining: 7m 11s\n",
      "22:\tlearn: 0.6897355\ttotal: 10.2s\tremaining: 7m 11s\n",
      "23:\tlearn: 0.6896279\ttotal: 10.7s\tremaining: 7m 15s\n",
      "24:\tlearn: 0.6895198\ttotal: 11.2s\tremaining: 7m 15s\n",
      "25:\tlearn: 0.6893972\ttotal: 11.6s\tremaining: 7m 12s\n",
      "26:\tlearn: 0.6893043\ttotal: 11.9s\tremaining: 7m 9s\n",
      "27:\tlearn: 0.6891931\ttotal: 12.3s\tremaining: 7m 8s\n",
      "28:\tlearn: 0.6891081\ttotal: 13s\tremaining: 7m 16s\n",
      "29:\tlearn: 0.6890306\ttotal: 13.4s\tremaining: 7m 13s\n",
      "30:\tlearn: 0.6889458\ttotal: 13.8s\tremaining: 7m 10s\n",
      "31:\tlearn: 0.6888409\ttotal: 14.1s\tremaining: 7m 6s\n",
      "32:\tlearn: 0.6887493\ttotal: 14.4s\tremaining: 7m 2s\n",
      "33:\tlearn: 0.6886516\ttotal: 14.8s\tremaining: 6m 59s\n",
      "34:\tlearn: 0.6885604\ttotal: 15.1s\tremaining: 6m 56s\n",
      "35:\tlearn: 0.6884760\ttotal: 15.5s\tremaining: 6m 54s\n",
      "36:\tlearn: 0.6883734\ttotal: 15.8s\tremaining: 6m 51s\n",
      "37:\tlearn: 0.6882268\ttotal: 16.2s\tremaining: 6m 50s\n",
      "38:\tlearn: 0.6881192\ttotal: 16.5s\tremaining: 6m 47s\n",
      "39:\tlearn: 0.6880250\ttotal: 16.9s\tremaining: 6m 44s\n",
      "40:\tlearn: 0.6879335\ttotal: 17.3s\tremaining: 6m 43s\n",
      "41:\tlearn: 0.6878384\ttotal: 17.6s\tremaining: 6m 41s\n",
      "42:\tlearn: 0.6877741\ttotal: 17.9s\tremaining: 6m 38s\n",
      "43:\tlearn: 0.6876859\ttotal: 18.2s\tremaining: 6m 35s\n",
      "44:\tlearn: 0.6875945\ttotal: 18.6s\tremaining: 6m 33s\n",
      "45:\tlearn: 0.6874754\ttotal: 18.9s\tremaining: 6m 31s\n",
      "46:\tlearn: 0.6873643\ttotal: 19.4s\tremaining: 6m 32s\n",
      "47:\tlearn: 0.6872451\ttotal: 19.9s\tremaining: 6m 35s\n",
      "48:\tlearn: 0.6871272\ttotal: 20.5s\tremaining: 6m 38s\n",
      "49:\tlearn: 0.6870524\ttotal: 21s\tremaining: 6m 39s\n",
      "50:\tlearn: 0.6869209\ttotal: 21.7s\tremaining: 6m 44s\n",
      "51:\tlearn: 0.6868403\ttotal: 22.3s\tremaining: 6m 47s\n",
      "52:\tlearn: 0.6867280\ttotal: 23s\tremaining: 6m 50s\n",
      "53:\tlearn: 0.6866745\ttotal: 23.6s\tremaining: 6m 53s\n",
      "54:\tlearn: 0.6865516\ttotal: 24.2s\tremaining: 6m 55s\n",
      "55:\tlearn: 0.6864641\ttotal: 24.8s\tremaining: 6m 58s\n",
      "56:\tlearn: 0.6863534\ttotal: 25.4s\tremaining: 6m 59s\n",
      "57:\tlearn: 0.6862446\ttotal: 26s\tremaining: 7m 1s\n",
      "58:\tlearn: 0.6861333\ttotal: 26.6s\tremaining: 7m 4s\n",
      "59:\tlearn: 0.6859999\ttotal: 27.2s\tremaining: 7m 6s\n",
      "60:\tlearn: 0.6858864\ttotal: 27.9s\tremaining: 7m 8s\n",
      "61:\tlearn: 0.6857816\ttotal: 28.4s\tremaining: 7m 9s\n",
      "62:\tlearn: 0.6856310\ttotal: 29s\tremaining: 7m 10s\n",
      "63:\tlearn: 0.6854964\ttotal: 29.4s\tremaining: 7m 9s\n",
      "64:\tlearn: 0.6853914\ttotal: 29.9s\tremaining: 7m 10s\n",
      "65:\tlearn: 0.6852898\ttotal: 30.4s\tremaining: 7m 10s\n",
      "66:\tlearn: 0.6851839\ttotal: 31s\tremaining: 7m 11s\n",
      "67:\tlearn: 0.6851036\ttotal: 31.4s\tremaining: 7m 10s\n",
      "68:\tlearn: 0.6849927\ttotal: 32.2s\tremaining: 7m 13s\n",
      "69:\tlearn: 0.6848957\ttotal: 32.8s\tremaining: 7m 15s\n",
      "70:\tlearn: 0.6847776\ttotal: 33.5s\tremaining: 7m 18s\n",
      "71:\tlearn: 0.6846412\ttotal: 34.1s\tremaining: 7m 19s\n",
      "72:\tlearn: 0.6845160\ttotal: 34.8s\tremaining: 7m 21s\n",
      "73:\tlearn: 0.6844369\ttotal: 35.4s\tremaining: 7m 23s\n",
      "74:\tlearn: 0.6843041\ttotal: 36.2s\tremaining: 7m 26s\n",
      "75:\tlearn: 0.6841916\ttotal: 36.8s\tremaining: 7m 27s\n",
      "76:\tlearn: 0.6840764\ttotal: 37.4s\tremaining: 7m 27s\n",
      "77:\tlearn: 0.6839641\ttotal: 38s\tremaining: 7m 28s\n",
      "78:\tlearn: 0.6838844\ttotal: 38.6s\tremaining: 7m 29s\n",
      "79:\tlearn: 0.6837755\ttotal: 39.2s\tremaining: 7m 30s\n",
      "80:\tlearn: 0.6836775\ttotal: 39.8s\tremaining: 7m 31s\n",
      "81:\tlearn: 0.6835768\ttotal: 40.1s\tremaining: 7m 29s\n",
      "82:\tlearn: 0.6834640\ttotal: 40.5s\tremaining: 7m 27s\n",
      "83:\tlearn: 0.6833335\ttotal: 41s\tremaining: 7m 27s\n",
      "84:\tlearn: 0.6831982\ttotal: 41.7s\tremaining: 7m 29s\n",
      "85:\tlearn: 0.6830726\ttotal: 42.2s\tremaining: 7m 28s\n",
      "86:\tlearn: 0.6829728\ttotal: 42.7s\tremaining: 7m 27s\n",
      "87:\tlearn: 0.6828573\ttotal: 43.4s\tremaining: 7m 29s\n",
      "88:\tlearn: 0.6827623\ttotal: 43.9s\tremaining: 7m 29s\n",
      "89:\tlearn: 0.6826472\ttotal: 44.6s\tremaining: 7m 30s\n",
      "90:\tlearn: 0.6825394\ttotal: 45.2s\tremaining: 7m 31s\n",
      "91:\tlearn: 0.6824033\ttotal: 45.8s\tremaining: 7m 32s\n",
      "92:\tlearn: 0.6822821\ttotal: 46.4s\tremaining: 7m 32s\n",
      "93:\tlearn: 0.6821847\ttotal: 46.9s\tremaining: 7m 32s\n",
      "94:\tlearn: 0.6820949\ttotal: 47.7s\tremaining: 7m 34s\n",
      "95:\tlearn: 0.6819630\ttotal: 48.4s\tremaining: 7m 35s\n",
      "96:\tlearn: 0.6818088\ttotal: 49.1s\tremaining: 7m 36s\n",
      "97:\tlearn: 0.6816973\ttotal: 49.7s\tremaining: 7m 37s\n",
      "98:\tlearn: 0.6816051\ttotal: 50.4s\tremaining: 7m 39s\n",
      "99:\tlearn: 0.6814956\ttotal: 51.1s\tremaining: 7m 39s\n",
      "100:\tlearn: 0.6813819\ttotal: 51.8s\tremaining: 7m 40s\n",
      "101:\tlearn: 0.6812961\ttotal: 52.4s\tremaining: 7m 41s\n",
      "102:\tlearn: 0.6811815\ttotal: 53s\tremaining: 7m 41s\n",
      "103:\tlearn: 0.6810713\ttotal: 53.7s\tremaining: 7m 42s\n",
      "104:\tlearn: 0.6809439\ttotal: 54.3s\tremaining: 7m 42s\n",
      "105:\tlearn: 0.6808385\ttotal: 54.9s\tremaining: 7m 43s\n",
      "106:\tlearn: 0.6807237\ttotal: 55.5s\tremaining: 7m 43s\n",
      "107:\tlearn: 0.6806109\ttotal: 56.2s\tremaining: 7m 44s\n",
      "108:\tlearn: 0.6805021\ttotal: 56.8s\tremaining: 7m 43s\n",
      "109:\tlearn: 0.6804104\ttotal: 57.4s\tremaining: 7m 44s\n",
      "110:\tlearn: 0.6803387\ttotal: 58s\tremaining: 7m 44s\n",
      "111:\tlearn: 0.6802185\ttotal: 58.6s\tremaining: 7m 44s\n",
      "112:\tlearn: 0.6801146\ttotal: 59.2s\tremaining: 7m 44s\n",
      "113:\tlearn: 0.6800021\ttotal: 59.9s\tremaining: 7m 45s\n",
      "114:\tlearn: 0.6799198\ttotal: 1m\tremaining: 7m 45s\n",
      "115:\tlearn: 0.6798127\ttotal: 1m 1s\tremaining: 7m 44s\n",
      "116:\tlearn: 0.6796918\ttotal: 1m 1s\tremaining: 7m 44s\n",
      "117:\tlearn: 0.6795775\ttotal: 1m 2s\tremaining: 7m 45s\n",
      "118:\tlearn: 0.6794480\ttotal: 1m 2s\tremaining: 7m 45s\n",
      "119:\tlearn: 0.6793631\ttotal: 1m 3s\tremaining: 7m 45s\n",
      "120:\tlearn: 0.6792767\ttotal: 1m 4s\tremaining: 7m 45s\n",
      "121:\tlearn: 0.6791464\ttotal: 1m 4s\tremaining: 7m 45s\n",
      "122:\tlearn: 0.6790304\ttotal: 1m 5s\tremaining: 7m 45s\n",
      "123:\tlearn: 0.6789209\ttotal: 1m 6s\tremaining: 7m 46s\n",
      "124:\tlearn: 0.6788092\ttotal: 1m 6s\tremaining: 7m 47s\n",
      "125:\tlearn: 0.6787170\ttotal: 1m 7s\tremaining: 7m 47s\n",
      "126:\tlearn: 0.6786161\ttotal: 1m 7s\tremaining: 7m 46s\n",
      "127:\tlearn: 0.6785054\ttotal: 1m 8s\tremaining: 7m 47s\n",
      "128:\tlearn: 0.6784219\ttotal: 1m 9s\tremaining: 7m 47s\n",
      "129:\tlearn: 0.6783403\ttotal: 1m 9s\tremaining: 7m 47s\n",
      "130:\tlearn: 0.6782678\ttotal: 1m 10s\tremaining: 7m 46s\n",
      "131:\tlearn: 0.6781787\ttotal: 1m 10s\tremaining: 7m 46s\n",
      "132:\tlearn: 0.6780722\ttotal: 1m 11s\tremaining: 7m 47s\n",
      "133:\tlearn: 0.6779435\ttotal: 1m 12s\tremaining: 7m 47s\n",
      "134:\tlearn: 0.6778783\ttotal: 1m 13s\tremaining: 7m 47s\n",
      "135:\tlearn: 0.6777564\ttotal: 1m 13s\tremaining: 7m 48s\n",
      "136:\tlearn: 0.6776726\ttotal: 1m 14s\tremaining: 7m 48s\n",
      "137:\tlearn: 0.6775736\ttotal: 1m 15s\tremaining: 7m 48s\n",
      "138:\tlearn: 0.6774633\ttotal: 1m 15s\tremaining: 7m 48s\n",
      "139:\tlearn: 0.6773553\ttotal: 1m 16s\tremaining: 7m 49s\n",
      "140:\tlearn: 0.6772697\ttotal: 1m 16s\tremaining: 7m 47s\n",
      "141:\tlearn: 0.6772000\ttotal: 1m 17s\tremaining: 7m 45s\n",
      "142:\tlearn: 0.6771054\ttotal: 1m 17s\tremaining: 7m 44s\n",
      "143:\tlearn: 0.6770096\ttotal: 1m 18s\tremaining: 7m 43s\n",
      "144:\tlearn: 0.6769054\ttotal: 1m 18s\tremaining: 7m 45s\n",
      "145:\tlearn: 0.6768229\ttotal: 1m 19s\tremaining: 7m 44s\n",
      "146:\tlearn: 0.6767302\ttotal: 1m 19s\tremaining: 7m 43s\n",
      "147:\tlearn: 0.6766455\ttotal: 1m 20s\tremaining: 7m 41s\n",
      "148:\tlearn: 0.6765209\ttotal: 1m 20s\tremaining: 7m 40s\n",
      "149:\tlearn: 0.6764140\ttotal: 1m 20s\tremaining: 7m 38s\n",
      "150:\tlearn: 0.6763299\ttotal: 1m 21s\tremaining: 7m 37s\n",
      "151:\tlearn: 0.6762571\ttotal: 1m 21s\tremaining: 7m 35s\n",
      "152:\tlearn: 0.6761568\ttotal: 1m 22s\tremaining: 7m 34s\n",
      "153:\tlearn: 0.6760288\ttotal: 1m 22s\tremaining: 7m 33s\n",
      "154:\tlearn: 0.6759346\ttotal: 1m 22s\tremaining: 7m 31s\n",
      "155:\tlearn: 0.6758173\ttotal: 1m 23s\tremaining: 7m 30s\n",
      "156:\tlearn: 0.6757386\ttotal: 1m 23s\tremaining: 7m 29s\n"
     ]
    },
    {
     "name": "stdout",
     "output_type": "stream",
     "text": [
      "157:\tlearn: 0.6756252\ttotal: 1m 24s\tremaining: 7m 27s\n",
      "158:\tlearn: 0.6755147\ttotal: 1m 24s\tremaining: 7m 26s\n",
      "159:\tlearn: 0.6754064\ttotal: 1m 24s\tremaining: 7m 25s\n",
      "160:\tlearn: 0.6753081\ttotal: 1m 25s\tremaining: 7m 23s\n",
      "161:\tlearn: 0.6752195\ttotal: 1m 25s\tremaining: 7m 22s\n",
      "162:\tlearn: 0.6751035\ttotal: 1m 25s\tremaining: 7m 20s\n",
      "163:\tlearn: 0.6749868\ttotal: 1m 26s\tremaining: 7m 19s\n",
      "164:\tlearn: 0.6748851\ttotal: 1m 26s\tremaining: 7m 18s\n",
      "165:\tlearn: 0.6747958\ttotal: 1m 27s\tremaining: 7m 18s\n",
      "166:\tlearn: 0.6746808\ttotal: 1m 27s\tremaining: 7m 18s\n",
      "167:\tlearn: 0.6746070\ttotal: 1m 28s\tremaining: 7m 17s\n",
      "168:\tlearn: 0.6745138\ttotal: 1m 29s\tremaining: 7m 17s\n",
      "169:\tlearn: 0.6744075\ttotal: 1m 29s\tremaining: 7m 17s\n",
      "170:\tlearn: 0.6743241\ttotal: 1m 30s\tremaining: 7m 17s\n",
      "171:\tlearn: 0.6742313\ttotal: 1m 30s\tremaining: 7m 17s\n",
      "172:\tlearn: 0.6741479\ttotal: 1m 31s\tremaining: 7m 15s\n",
      "173:\tlearn: 0.6740465\ttotal: 1m 31s\tremaining: 7m 13s\n",
      "174:\tlearn: 0.6739640\ttotal: 1m 31s\tremaining: 7m 12s\n",
      "175:\tlearn: 0.6738659\ttotal: 1m 31s\tremaining: 7m 10s\n",
      "176:\tlearn: 0.6737634\ttotal: 1m 32s\tremaining: 7m 8s\n",
      "177:\tlearn: 0.6736818\ttotal: 1m 32s\tremaining: 7m 6s\n",
      "178:\tlearn: 0.6735901\ttotal: 1m 32s\tremaining: 7m 5s\n",
      "179:\tlearn: 0.6734825\ttotal: 1m 33s\tremaining: 7m 3s\n",
      "180:\tlearn: 0.6733751\ttotal: 1m 33s\tremaining: 7m 2s\n",
      "181:\tlearn: 0.6732848\ttotal: 1m 33s\tremaining: 7m\n",
      "182:\tlearn: 0.6731886\ttotal: 1m 33s\tremaining: 6m 59s\n",
      "183:\tlearn: 0.6731019\ttotal: 1m 34s\tremaining: 6m 57s\n",
      "184:\tlearn: 0.6729790\ttotal: 1m 34s\tremaining: 6m 56s\n",
      "185:\tlearn: 0.6728829\ttotal: 1m 34s\tremaining: 6m 54s\n",
      "186:\tlearn: 0.6727933\ttotal: 1m 35s\tremaining: 6m 53s\n",
      "187:\tlearn: 0.6726760\ttotal: 1m 35s\tremaining: 6m 51s\n",
      "188:\tlearn: 0.6725614\ttotal: 1m 35s\tremaining: 6m 50s\n",
      "189:\tlearn: 0.6724641\ttotal: 1m 35s\tremaining: 6m 48s\n",
      "190:\tlearn: 0.6723717\ttotal: 1m 36s\tremaining: 6m 47s\n",
      "191:\tlearn: 0.6722607\ttotal: 1m 36s\tremaining: 6m 45s\n",
      "192:\tlearn: 0.6721699\ttotal: 1m 36s\tremaining: 6m 44s\n",
      "193:\tlearn: 0.6720741\ttotal: 1m 36s\tremaining: 6m 42s\n",
      "194:\tlearn: 0.6719622\ttotal: 1m 37s\tremaining: 6m 41s\n",
      "195:\tlearn: 0.6718609\ttotal: 1m 37s\tremaining: 6m 39s\n",
      "196:\tlearn: 0.6717947\ttotal: 1m 37s\tremaining: 6m 38s\n",
      "197:\tlearn: 0.6717243\ttotal: 1m 37s\tremaining: 6m 36s\n",
      "198:\tlearn: 0.6716233\ttotal: 1m 38s\tremaining: 6m 35s\n",
      "199:\tlearn: 0.6715179\ttotal: 1m 38s\tremaining: 6m 34s\n",
      "200:\tlearn: 0.6714053\ttotal: 1m 38s\tremaining: 6m 33s\n",
      "201:\tlearn: 0.6713313\ttotal: 1m 39s\tremaining: 6m 31s\n",
      "202:\tlearn: 0.6712274\ttotal: 1m 39s\tremaining: 6m 30s\n",
      "203:\tlearn: 0.6711597\ttotal: 1m 39s\tremaining: 6m 28s\n",
      "204:\tlearn: 0.6710670\ttotal: 1m 39s\tremaining: 6m 27s\n",
      "205:\tlearn: 0.6709594\ttotal: 1m 40s\tremaining: 6m 26s\n",
      "206:\tlearn: 0.6708754\ttotal: 1m 40s\tremaining: 6m 25s\n",
      "207:\tlearn: 0.6707916\ttotal: 1m 40s\tremaining: 6m 24s\n",
      "208:\tlearn: 0.6707137\ttotal: 1m 41s\tremaining: 6m 23s\n",
      "209:\tlearn: 0.6705949\ttotal: 1m 41s\tremaining: 6m 21s\n",
      "210:\tlearn: 0.6705208\ttotal: 1m 41s\tremaining: 6m 20s\n",
      "211:\tlearn: 0.6704289\ttotal: 1m 42s\tremaining: 6m 19s\n",
      "212:\tlearn: 0.6703548\ttotal: 1m 42s\tremaining: 6m 18s\n",
      "213:\tlearn: 0.6702668\ttotal: 1m 42s\tremaining: 6m 17s\n",
      "214:\tlearn: 0.6701797\ttotal: 1m 43s\tremaining: 6m 16s\n",
      "215:\tlearn: 0.6700819\ttotal: 1m 43s\tremaining: 6m 15s\n",
      "216:\tlearn: 0.6699846\ttotal: 1m 43s\tremaining: 6m 14s\n",
      "217:\tlearn: 0.6698707\ttotal: 1m 44s\tremaining: 6m 13s\n",
      "218:\tlearn: 0.6697618\ttotal: 1m 44s\tremaining: 6m 11s\n",
      "219:\tlearn: 0.6696873\ttotal: 1m 44s\tremaining: 6m 10s\n",
      "220:\tlearn: 0.6696198\ttotal: 1m 44s\tremaining: 6m 9s\n",
      "221:\tlearn: 0.6695052\ttotal: 1m 45s\tremaining: 6m 8s\n",
      "222:\tlearn: 0.6694163\ttotal: 1m 45s\tremaining: 6m 7s\n",
      "223:\tlearn: 0.6693268\ttotal: 1m 45s\tremaining: 6m 6s\n",
      "224:\tlearn: 0.6692062\ttotal: 1m 46s\tremaining: 6m 5s\n",
      "225:\tlearn: 0.6690987\ttotal: 1m 46s\tremaining: 6m 4s\n",
      "226:\tlearn: 0.6689944\ttotal: 1m 46s\tremaining: 6m 3s\n",
      "227:\tlearn: 0.6689044\ttotal: 1m 47s\tremaining: 6m 2s\n",
      "228:\tlearn: 0.6688261\ttotal: 1m 47s\tremaining: 6m 1s\n",
      "229:\tlearn: 0.6687252\ttotal: 1m 47s\tremaining: 6m\n",
      "230:\tlearn: 0.6686415\ttotal: 1m 48s\tremaining: 5m 59s\n",
      "231:\tlearn: 0.6685475\ttotal: 1m 48s\tremaining: 5m 59s\n",
      "232:\tlearn: 0.6684680\ttotal: 1m 48s\tremaining: 5m 58s\n",
      "233:\tlearn: 0.6683666\ttotal: 1m 49s\tremaining: 5m 58s\n",
      "234:\tlearn: 0.6682775\ttotal: 1m 50s\tremaining: 5m 58s\n",
      "235:\tlearn: 0.6681760\ttotal: 1m 50s\tremaining: 5m 57s\n",
      "236:\tlearn: 0.6680664\ttotal: 1m 50s\tremaining: 5m 56s\n",
      "237:\tlearn: 0.6679555\ttotal: 1m 50s\tremaining: 5m 55s\n",
      "238:\tlearn: 0.6678764\ttotal: 1m 51s\tremaining: 5m 54s\n",
      "239:\tlearn: 0.6677893\ttotal: 1m 51s\tremaining: 5m 52s\n",
      "240:\tlearn: 0.6677015\ttotal: 1m 51s\tremaining: 5m 52s\n",
      "241:\tlearn: 0.6676152\ttotal: 1m 52s\tremaining: 5m 51s\n",
      "242:\tlearn: 0.6675135\ttotal: 1m 52s\tremaining: 5m 50s\n",
      "243:\tlearn: 0.6674183\ttotal: 1m 52s\tremaining: 5m 49s\n",
      "244:\tlearn: 0.6673066\ttotal: 1m 53s\tremaining: 5m 48s\n",
      "245:\tlearn: 0.6672242\ttotal: 1m 53s\tremaining: 5m 47s\n",
      "246:\tlearn: 0.6671420\ttotal: 1m 53s\tremaining: 5m 46s\n",
      "247:\tlearn: 0.6670140\ttotal: 1m 53s\tremaining: 5m 45s\n",
      "248:\tlearn: 0.6669271\ttotal: 1m 54s\tremaining: 5m 44s\n",
      "249:\tlearn: 0.6668086\ttotal: 1m 54s\tremaining: 5m 43s\n",
      "250:\tlearn: 0.6667118\ttotal: 1m 54s\tremaining: 5m 42s\n",
      "251:\tlearn: 0.6665986\ttotal: 1m 55s\tremaining: 5m 41s\n",
      "252:\tlearn: 0.6664857\ttotal: 1m 55s\tremaining: 5m 40s\n",
      "253:\tlearn: 0.6664138\ttotal: 1m 55s\tremaining: 5m 39s\n",
      "254:\tlearn: 0.6663509\ttotal: 1m 55s\tremaining: 5m 38s\n",
      "255:\tlearn: 0.6662501\ttotal: 1m 56s\tremaining: 5m 37s\n",
      "256:\tlearn: 0.6661429\ttotal: 1m 56s\tremaining: 5m 36s\n",
      "257:\tlearn: 0.6660256\ttotal: 1m 56s\tremaining: 5m 36s\n",
      "258:\tlearn: 0.6659474\ttotal: 1m 57s\tremaining: 5m 35s\n",
      "259:\tlearn: 0.6658539\ttotal: 1m 57s\tremaining: 5m 34s\n",
      "260:\tlearn: 0.6657396\ttotal: 1m 57s\tremaining: 5m 33s\n",
      "261:\tlearn: 0.6656391\ttotal: 1m 58s\tremaining: 5m 32s\n",
      "262:\tlearn: 0.6655366\ttotal: 1m 58s\tremaining: 5m 31s\n",
      "263:\tlearn: 0.6654492\ttotal: 1m 58s\tremaining: 5m 30s\n",
      "264:\tlearn: 0.6653720\ttotal: 1m 58s\tremaining: 5m 29s\n",
      "265:\tlearn: 0.6652874\ttotal: 1m 59s\tremaining: 5m 29s\n",
      "266:\tlearn: 0.6652054\ttotal: 1m 59s\tremaining: 5m 28s\n",
      "267:\tlearn: 0.6651284\ttotal: 1m 59s\tremaining: 5m 27s\n",
      "268:\tlearn: 0.6650259\ttotal: 2m\tremaining: 5m 26s\n",
      "269:\tlearn: 0.6649381\ttotal: 2m\tremaining: 5m 25s\n",
      "270:\tlearn: 0.6648514\ttotal: 2m\tremaining: 5m 25s\n",
      "271:\tlearn: 0.6647496\ttotal: 2m 1s\tremaining: 5m 24s\n",
      "272:\tlearn: 0.6646251\ttotal: 2m 1s\tremaining: 5m 23s\n",
      "273:\tlearn: 0.6645311\ttotal: 2m 1s\tremaining: 5m 22s\n",
      "274:\tlearn: 0.6644571\ttotal: 2m 2s\tremaining: 5m 21s\n",
      "275:\tlearn: 0.6643424\ttotal: 2m 2s\tremaining: 5m 20s\n",
      "276:\tlearn: 0.6642726\ttotal: 2m 2s\tremaining: 5m 19s\n",
      "277:\tlearn: 0.6641650\ttotal: 2m 2s\tremaining: 5m 18s\n",
      "278:\tlearn: 0.6640881\ttotal: 2m 3s\tremaining: 5m 18s\n",
      "279:\tlearn: 0.6640056\ttotal: 2m 3s\tremaining: 5m 17s\n",
      "280:\tlearn: 0.6639193\ttotal: 2m 3s\tremaining: 5m 16s\n",
      "281:\tlearn: 0.6638362\ttotal: 2m 3s\tremaining: 5m 15s\n",
      "282:\tlearn: 0.6637826\ttotal: 2m 4s\tremaining: 5m 14s\n",
      "283:\tlearn: 0.6636725\ttotal: 2m 4s\tremaining: 5m 13s\n",
      "284:\tlearn: 0.6635758\ttotal: 2m 4s\tremaining: 5m 13s\n",
      "285:\tlearn: 0.6635009\ttotal: 2m 5s\tremaining: 5m 12s\n",
      "286:\tlearn: 0.6633885\ttotal: 2m 5s\tremaining: 5m 11s\n",
      "287:\tlearn: 0.6632844\ttotal: 2m 5s\tremaining: 5m 10s\n",
      "288:\tlearn: 0.6631873\ttotal: 2m 6s\tremaining: 5m 10s\n",
      "289:\tlearn: 0.6631053\ttotal: 2m 6s\tremaining: 5m 9s\n",
      "290:\tlearn: 0.6630039\ttotal: 2m 6s\tremaining: 5m 8s\n",
      "291:\tlearn: 0.6629163\ttotal: 2m 6s\tremaining: 5m 7s\n",
      "292:\tlearn: 0.6628084\ttotal: 2m 7s\tremaining: 5m 7s\n",
      "293:\tlearn: 0.6627138\ttotal: 2m 7s\tremaining: 5m 6s\n",
      "294:\tlearn: 0.6626221\ttotal: 2m 7s\tremaining: 5m 5s\n",
      "295:\tlearn: 0.6625146\ttotal: 2m 8s\tremaining: 5m 4s\n",
      "296:\tlearn: 0.6624119\ttotal: 2m 8s\tremaining: 5m 3s\n",
      "297:\tlearn: 0.6622978\ttotal: 2m 8s\tremaining: 5m 3s\n",
      "298:\tlearn: 0.6622098\ttotal: 2m 8s\tremaining: 5m 2s\n",
      "299:\tlearn: 0.6621014\ttotal: 2m 9s\tremaining: 5m 1s\n",
      "300:\tlearn: 0.6620156\ttotal: 2m 9s\tremaining: 5m\n",
      "301:\tlearn: 0.6619299\ttotal: 2m 9s\tremaining: 5m\n",
      "302:\tlearn: 0.6618421\ttotal: 2m 10s\tremaining: 5m\n",
      "303:\tlearn: 0.6617293\ttotal: 2m 10s\tremaining: 4m 59s\n",
      "304:\tlearn: 0.6616651\ttotal: 2m 11s\tremaining: 4m 58s\n",
      "305:\tlearn: 0.6615485\ttotal: 2m 11s\tremaining: 4m 58s\n",
      "306:\tlearn: 0.6614548\ttotal: 2m 11s\tremaining: 4m 57s\n",
      "307:\tlearn: 0.6613671\ttotal: 2m 12s\tremaining: 4m 57s\n",
      "308:\tlearn: 0.6612553\ttotal: 2m 12s\tremaining: 4m 56s\n",
      "309:\tlearn: 0.6611983\ttotal: 2m 12s\tremaining: 4m 55s\n",
      "310:\tlearn: 0.6611122\ttotal: 2m 13s\tremaining: 4m 55s\n"
     ]
    },
    {
     "name": "stdout",
     "output_type": "stream",
     "text": [
      "311:\tlearn: 0.6610150\ttotal: 2m 14s\tremaining: 4m 55s\n",
      "312:\tlearn: 0.6609398\ttotal: 2m 14s\tremaining: 4m 54s\n",
      "313:\tlearn: 0.6608353\ttotal: 2m 14s\tremaining: 4m 54s\n",
      "314:\tlearn: 0.6607657\ttotal: 2m 14s\tremaining: 4m 53s\n",
      "315:\tlearn: 0.6606736\ttotal: 2m 15s\tremaining: 4m 52s\n",
      "316:\tlearn: 0.6605529\ttotal: 2m 15s\tremaining: 4m 52s\n",
      "317:\tlearn: 0.6604898\ttotal: 2m 15s\tremaining: 4m 51s\n",
      "318:\tlearn: 0.6603941\ttotal: 2m 16s\tremaining: 4m 50s\n",
      "319:\tlearn: 0.6603222\ttotal: 2m 16s\tremaining: 4m 50s\n",
      "320:\tlearn: 0.6602110\ttotal: 2m 16s\tremaining: 4m 49s\n",
      "321:\tlearn: 0.6601214\ttotal: 2m 17s\tremaining: 4m 48s\n",
      "322:\tlearn: 0.6600454\ttotal: 2m 17s\tremaining: 4m 48s\n",
      "323:\tlearn: 0.6599520\ttotal: 2m 17s\tremaining: 4m 47s\n",
      "324:\tlearn: 0.6598624\ttotal: 2m 18s\tremaining: 4m 47s\n",
      "325:\tlearn: 0.6597745\ttotal: 2m 18s\tremaining: 4m 46s\n",
      "326:\tlearn: 0.6596686\ttotal: 2m 18s\tremaining: 4m 46s\n",
      "327:\tlearn: 0.6596217\ttotal: 2m 19s\tremaining: 4m 45s\n",
      "328:\tlearn: 0.6595160\ttotal: 2m 19s\tremaining: 4m 44s\n",
      "329:\tlearn: 0.6594600\ttotal: 2m 19s\tremaining: 4m 44s\n",
      "330:\tlearn: 0.6593860\ttotal: 2m 20s\tremaining: 4m 43s\n",
      "331:\tlearn: 0.6592819\ttotal: 2m 20s\tremaining: 4m 42s\n",
      "332:\tlearn: 0.6592043\ttotal: 2m 20s\tremaining: 4m 42s\n",
      "333:\tlearn: 0.6591140\ttotal: 2m 21s\tremaining: 4m 41s\n",
      "334:\tlearn: 0.6589747\ttotal: 2m 21s\tremaining: 4m 40s\n",
      "335:\tlearn: 0.6589066\ttotal: 2m 21s\tremaining: 4m 39s\n",
      "336:\tlearn: 0.6588249\ttotal: 2m 21s\tremaining: 4m 39s\n",
      "337:\tlearn: 0.6587185\ttotal: 2m 22s\tremaining: 4m 38s\n",
      "338:\tlearn: 0.6586275\ttotal: 2m 22s\tremaining: 4m 37s\n",
      "339:\tlearn: 0.6585594\ttotal: 2m 22s\tremaining: 4m 37s\n",
      "340:\tlearn: 0.6584862\ttotal: 2m 23s\tremaining: 4m 36s\n",
      "341:\tlearn: 0.6583684\ttotal: 2m 23s\tremaining: 4m 35s\n",
      "342:\tlearn: 0.6582978\ttotal: 2m 23s\tremaining: 4m 35s\n",
      "343:\tlearn: 0.6582074\ttotal: 2m 23s\tremaining: 4m 34s\n",
      "344:\tlearn: 0.6581433\ttotal: 2m 24s\tremaining: 4m 33s\n",
      "345:\tlearn: 0.6580568\ttotal: 2m 24s\tremaining: 4m 33s\n",
      "346:\tlearn: 0.6579861\ttotal: 2m 24s\tremaining: 4m 32s\n",
      "347:\tlearn: 0.6579041\ttotal: 2m 25s\tremaining: 4m 31s\n",
      "348:\tlearn: 0.6578046\ttotal: 2m 25s\tremaining: 4m 31s\n",
      "349:\tlearn: 0.6577141\ttotal: 2m 25s\tremaining: 4m 30s\n",
      "350:\tlearn: 0.6576110\ttotal: 2m 26s\tremaining: 4m 30s\n",
      "351:\tlearn: 0.6575300\ttotal: 2m 26s\tremaining: 4m 29s\n",
      "352:\tlearn: 0.6574535\ttotal: 2m 26s\tremaining: 4m 28s\n",
      "353:\tlearn: 0.6573525\ttotal: 2m 26s\tremaining: 4m 28s\n",
      "354:\tlearn: 0.6572825\ttotal: 2m 27s\tremaining: 4m 27s\n",
      "355:\tlearn: 0.6571917\ttotal: 2m 27s\tremaining: 4m 26s\n",
      "356:\tlearn: 0.6570732\ttotal: 2m 27s\tremaining: 4m 26s\n",
      "357:\tlearn: 0.6569948\ttotal: 2m 28s\tremaining: 4m 25s\n",
      "358:\tlearn: 0.6569158\ttotal: 2m 28s\tremaining: 4m 24s\n",
      "359:\tlearn: 0.6568407\ttotal: 2m 28s\tremaining: 4m 24s\n",
      "360:\tlearn: 0.6567640\ttotal: 2m 29s\tremaining: 4m 23s\n",
      "361:\tlearn: 0.6566746\ttotal: 2m 29s\tremaining: 4m 23s\n",
      "362:\tlearn: 0.6565918\ttotal: 2m 29s\tremaining: 4m 22s\n",
      "363:\tlearn: 0.6564884\ttotal: 2m 29s\tremaining: 4m 21s\n",
      "364:\tlearn: 0.6563864\ttotal: 2m 30s\tremaining: 4m 21s\n",
      "365:\tlearn: 0.6562726\ttotal: 2m 30s\tremaining: 4m 20s\n",
      "366:\tlearn: 0.6561689\ttotal: 2m 30s\tremaining: 4m 20s\n",
      "367:\tlearn: 0.6560721\ttotal: 2m 31s\tremaining: 4m 19s\n",
      "368:\tlearn: 0.6559978\ttotal: 2m 31s\tremaining: 4m 19s\n",
      "369:\tlearn: 0.6559100\ttotal: 2m 31s\tremaining: 4m 18s\n",
      "370:\tlearn: 0.6558482\ttotal: 2m 32s\tremaining: 4m 18s\n",
      "371:\tlearn: 0.6557508\ttotal: 2m 32s\tremaining: 4m 17s\n",
      "372:\tlearn: 0.6556647\ttotal: 2m 32s\tremaining: 4m 17s\n",
      "373:\tlearn: 0.6555772\ttotal: 2m 33s\tremaining: 4m 16s\n",
      "374:\tlearn: 0.6554665\ttotal: 2m 33s\tremaining: 4m 15s\n",
      "375:\tlearn: 0.6553867\ttotal: 2m 33s\tremaining: 4m 15s\n",
      "376:\tlearn: 0.6553393\ttotal: 2m 34s\tremaining: 4m 14s\n",
      "377:\tlearn: 0.6552568\ttotal: 2m 34s\tremaining: 4m 13s\n",
      "378:\tlearn: 0.6551572\ttotal: 2m 34s\tremaining: 4m 13s\n",
      "379:\tlearn: 0.6550708\ttotal: 2m 34s\tremaining: 4m 12s\n",
      "380:\tlearn: 0.6550009\ttotal: 2m 35s\tremaining: 4m 12s\n",
      "381:\tlearn: 0.6549183\ttotal: 2m 35s\tremaining: 4m 11s\n",
      "382:\tlearn: 0.6548464\ttotal: 2m 35s\tremaining: 4m 10s\n",
      "383:\tlearn: 0.6547570\ttotal: 2m 35s\tremaining: 4m 10s\n",
      "384:\tlearn: 0.6546700\ttotal: 2m 36s\tremaining: 4m 9s\n",
      "385:\tlearn: 0.6545715\ttotal: 2m 36s\tremaining: 4m 9s\n",
      "386:\tlearn: 0.6544779\ttotal: 2m 36s\tremaining: 4m 8s\n",
      "387:\tlearn: 0.6544008\ttotal: 2m 37s\tremaining: 4m 7s\n",
      "388:\tlearn: 0.6543118\ttotal: 2m 37s\tremaining: 4m 7s\n",
      "389:\tlearn: 0.6542050\ttotal: 2m 37s\tremaining: 4m 7s\n",
      "390:\tlearn: 0.6541145\ttotal: 2m 38s\tremaining: 4m 6s\n",
      "391:\tlearn: 0.6540257\ttotal: 2m 38s\tremaining: 4m 5s\n",
      "392:\tlearn: 0.6539699\ttotal: 2m 38s\tremaining: 4m 5s\n",
      "393:\tlearn: 0.6538363\ttotal: 2m 39s\tremaining: 4m 4s\n",
      "394:\tlearn: 0.6537408\ttotal: 2m 39s\tremaining: 4m 4s\n",
      "395:\tlearn: 0.6536606\ttotal: 2m 39s\tremaining: 4m 3s\n",
      "396:\tlearn: 0.6535639\ttotal: 2m 40s\tremaining: 4m 3s\n",
      "397:\tlearn: 0.6535018\ttotal: 2m 40s\tremaining: 4m 2s\n",
      "398:\tlearn: 0.6533938\ttotal: 2m 40s\tremaining: 4m 2s\n",
      "399:\tlearn: 0.6533309\ttotal: 2m 40s\tremaining: 4m 1s\n",
      "400:\tlearn: 0.6532328\ttotal: 2m 41s\tremaining: 4m\n",
      "401:\tlearn: 0.6531446\ttotal: 2m 41s\tremaining: 4m\n",
      "402:\tlearn: 0.6530556\ttotal: 2m 41s\tremaining: 3m 59s\n",
      "403:\tlearn: 0.6529768\ttotal: 2m 42s\tremaining: 3m 59s\n",
      "404:\tlearn: 0.6529172\ttotal: 2m 42s\tremaining: 3m 58s\n",
      "405:\tlearn: 0.6528354\ttotal: 2m 42s\tremaining: 3m 58s\n",
      "406:\tlearn: 0.6527644\ttotal: 2m 43s\tremaining: 3m 57s\n",
      "407:\tlearn: 0.6527036\ttotal: 2m 43s\tremaining: 3m 56s\n",
      "408:\tlearn: 0.6526182\ttotal: 2m 43s\tremaining: 3m 56s\n",
      "409:\tlearn: 0.6525477\ttotal: 2m 43s\tremaining: 3m 55s\n",
      "410:\tlearn: 0.6524591\ttotal: 2m 44s\tremaining: 3m 55s\n",
      "411:\tlearn: 0.6523798\ttotal: 2m 44s\tremaining: 3m 54s\n",
      "412:\tlearn: 0.6522908\ttotal: 2m 44s\tremaining: 3m 54s\n",
      "413:\tlearn: 0.6522212\ttotal: 2m 45s\tremaining: 3m 53s\n",
      "414:\tlearn: 0.6521494\ttotal: 2m 45s\tremaining: 3m 53s\n",
      "415:\tlearn: 0.6520649\ttotal: 2m 45s\tremaining: 3m 52s\n",
      "416:\tlearn: 0.6519953\ttotal: 2m 45s\tremaining: 3m 51s\n",
      "417:\tlearn: 0.6519263\ttotal: 2m 46s\tremaining: 3m 51s\n",
      "418:\tlearn: 0.6518414\ttotal: 2m 46s\tremaining: 3m 50s\n",
      "419:\tlearn: 0.6517556\ttotal: 2m 46s\tremaining: 3m 50s\n",
      "420:\tlearn: 0.6516643\ttotal: 2m 47s\tremaining: 3m 49s\n",
      "421:\tlearn: 0.6516020\ttotal: 2m 47s\tremaining: 3m 49s\n",
      "422:\tlearn: 0.6514973\ttotal: 2m 47s\tremaining: 3m 48s\n",
      "423:\tlearn: 0.6514253\ttotal: 2m 47s\tremaining: 3m 47s\n",
      "424:\tlearn: 0.6513521\ttotal: 2m 48s\tremaining: 3m 47s\n",
      "425:\tlearn: 0.6512811\ttotal: 2m 48s\tremaining: 3m 46s\n",
      "426:\tlearn: 0.6511684\ttotal: 2m 48s\tremaining: 3m 46s\n",
      "427:\tlearn: 0.6510673\ttotal: 2m 48s\tremaining: 3m 45s\n",
      "428:\tlearn: 0.6509982\ttotal: 2m 49s\tremaining: 3m 45s\n",
      "429:\tlearn: 0.6509006\ttotal: 2m 49s\tremaining: 3m 44s\n",
      "430:\tlearn: 0.6508130\ttotal: 2m 49s\tremaining: 3m 44s\n",
      "431:\tlearn: 0.6507562\ttotal: 2m 50s\tremaining: 3m 43s\n",
      "432:\tlearn: 0.6506424\ttotal: 2m 50s\tremaining: 3m 43s\n",
      "433:\tlearn: 0.6505688\ttotal: 2m 50s\tremaining: 3m 42s\n",
      "434:\tlearn: 0.6505003\ttotal: 2m 50s\tremaining: 3m 42s\n",
      "435:\tlearn: 0.6504172\ttotal: 2m 51s\tremaining: 3m 41s\n",
      "436:\tlearn: 0.6503577\ttotal: 2m 51s\tremaining: 3m 40s\n",
      "437:\tlearn: 0.6502479\ttotal: 2m 51s\tremaining: 3m 40s\n",
      "438:\tlearn: 0.6501747\ttotal: 2m 52s\tremaining: 3m 40s\n",
      "439:\tlearn: 0.6501331\ttotal: 2m 52s\tremaining: 3m 39s\n",
      "440:\tlearn: 0.6500586\ttotal: 2m 52s\tremaining: 3m 39s\n",
      "441:\tlearn: 0.6499791\ttotal: 2m 53s\tremaining: 3m 38s\n",
      "442:\tlearn: 0.6499202\ttotal: 2m 53s\tremaining: 3m 37s\n",
      "443:\tlearn: 0.6498400\ttotal: 2m 53s\tremaining: 3m 37s\n",
      "444:\tlearn: 0.6497733\ttotal: 2m 53s\tremaining: 3m 36s\n",
      "445:\tlearn: 0.6497057\ttotal: 2m 54s\tremaining: 3m 36s\n",
      "446:\tlearn: 0.6496126\ttotal: 2m 54s\tremaining: 3m 35s\n",
      "447:\tlearn: 0.6495361\ttotal: 2m 54s\tremaining: 3m 35s\n",
      "448:\tlearn: 0.6494372\ttotal: 2m 54s\tremaining: 3m 34s\n",
      "449:\tlearn: 0.6493518\ttotal: 2m 55s\tremaining: 3m 34s\n",
      "450:\tlearn: 0.6492811\ttotal: 2m 55s\tremaining: 3m 33s\n",
      "451:\tlearn: 0.6491995\ttotal: 2m 55s\tremaining: 3m 33s\n",
      "452:\tlearn: 0.6491019\ttotal: 2m 56s\tremaining: 3m 32s\n",
      "453:\tlearn: 0.6490206\ttotal: 2m 56s\tremaining: 3m 32s\n",
      "454:\tlearn: 0.6489480\ttotal: 2m 56s\tremaining: 3m 31s\n",
      "455:\tlearn: 0.6488597\ttotal: 2m 57s\tremaining: 3m 31s\n",
      "456:\tlearn: 0.6487585\ttotal: 2m 57s\tremaining: 3m 30s\n",
      "457:\tlearn: 0.6486902\ttotal: 2m 57s\tremaining: 3m 30s\n",
      "458:\tlearn: 0.6486195\ttotal: 2m 57s\tremaining: 3m 29s\n",
      "459:\tlearn: 0.6485220\ttotal: 2m 58s\tremaining: 3m 29s\n",
      "460:\tlearn: 0.6484338\ttotal: 2m 58s\tremaining: 3m 28s\n",
      "461:\tlearn: 0.6483635\ttotal: 2m 58s\tremaining: 3m 28s\n",
      "462:\tlearn: 0.6482844\ttotal: 2m 59s\tremaining: 3m 27s\n",
      "463:\tlearn: 0.6482115\ttotal: 2m 59s\tremaining: 3m 27s\n"
     ]
    },
    {
     "name": "stdout",
     "output_type": "stream",
     "text": [
      "464:\tlearn: 0.6481247\ttotal: 2m 59s\tremaining: 3m 26s\n",
      "465:\tlearn: 0.6480415\ttotal: 2m 59s\tremaining: 3m 26s\n",
      "466:\tlearn: 0.6479060\ttotal: 3m\tremaining: 3m 25s\n",
      "467:\tlearn: 0.6478224\ttotal: 3m\tremaining: 3m 25s\n",
      "468:\tlearn: 0.6477243\ttotal: 3m\tremaining: 3m 24s\n",
      "469:\tlearn: 0.6476559\ttotal: 3m 1s\tremaining: 3m 24s\n",
      "470:\tlearn: 0.6475738\ttotal: 3m 1s\tremaining: 3m 23s\n",
      "471:\tlearn: 0.6475348\ttotal: 3m 1s\tremaining: 3m 23s\n",
      "472:\tlearn: 0.6474534\ttotal: 3m 1s\tremaining: 3m 22s\n",
      "473:\tlearn: 0.6473694\ttotal: 3m 2s\tremaining: 3m 22s\n",
      "474:\tlearn: 0.6473043\ttotal: 3m 2s\tremaining: 3m 21s\n",
      "475:\tlearn: 0.6471968\ttotal: 3m 2s\tremaining: 3m 21s\n",
      "476:\tlearn: 0.6471238\ttotal: 3m 3s\tremaining: 3m 20s\n",
      "477:\tlearn: 0.6470469\ttotal: 3m 3s\tremaining: 3m 20s\n",
      "478:\tlearn: 0.6469721\ttotal: 3m 3s\tremaining: 3m 19s\n",
      "479:\tlearn: 0.6469040\ttotal: 3m 3s\tremaining: 3m 19s\n",
      "480:\tlearn: 0.6468135\ttotal: 3m 4s\tremaining: 3m 18s\n",
      "481:\tlearn: 0.6467274\ttotal: 3m 4s\tremaining: 3m 18s\n",
      "482:\tlearn: 0.6466171\ttotal: 3m 4s\tremaining: 3m 17s\n",
      "483:\tlearn: 0.6465183\ttotal: 3m 5s\tremaining: 3m 17s\n",
      "484:\tlearn: 0.6464302\ttotal: 3m 5s\tremaining: 3m 16s\n",
      "485:\tlearn: 0.6463497\ttotal: 3m 5s\tremaining: 3m 16s\n",
      "486:\tlearn: 0.6462548\ttotal: 3m 5s\tremaining: 3m 15s\n",
      "487:\tlearn: 0.6461807\ttotal: 3m 6s\tremaining: 3m 15s\n",
      "488:\tlearn: 0.6460895\ttotal: 3m 6s\tremaining: 3m 14s\n",
      "489:\tlearn: 0.6460225\ttotal: 3m 6s\tremaining: 3m 14s\n",
      "490:\tlearn: 0.6459372\ttotal: 3m 7s\tremaining: 3m 14s\n",
      "491:\tlearn: 0.6458644\ttotal: 3m 7s\tremaining: 3m 13s\n",
      "492:\tlearn: 0.6457799\ttotal: 3m 7s\tremaining: 3m 13s\n",
      "493:\tlearn: 0.6457138\ttotal: 3m 8s\tremaining: 3m 12s\n",
      "494:\tlearn: 0.6456497\ttotal: 3m 8s\tremaining: 3m 12s\n",
      "495:\tlearn: 0.6455577\ttotal: 3m 8s\tremaining: 3m 11s\n",
      "496:\tlearn: 0.6454695\ttotal: 3m 8s\tremaining: 3m 11s\n",
      "497:\tlearn: 0.6454104\ttotal: 3m 9s\tremaining: 3m 10s\n",
      "498:\tlearn: 0.6453434\ttotal: 3m 9s\tremaining: 3m 10s\n",
      "499:\tlearn: 0.6452791\ttotal: 3m 9s\tremaining: 3m 9s\n",
      "500:\tlearn: 0.6451834\ttotal: 3m 9s\tremaining: 3m 9s\n",
      "501:\tlearn: 0.6451092\ttotal: 3m 10s\tremaining: 3m 8s\n",
      "502:\tlearn: 0.6450227\ttotal: 3m 10s\tremaining: 3m 8s\n",
      "503:\tlearn: 0.6449330\ttotal: 3m 10s\tremaining: 3m 7s\n",
      "504:\tlearn: 0.6448410\ttotal: 3m 11s\tremaining: 3m 7s\n",
      "505:\tlearn: 0.6447743\ttotal: 3m 11s\tremaining: 3m 6s\n",
      "506:\tlearn: 0.6447192\ttotal: 3m 11s\tremaining: 3m 6s\n",
      "507:\tlearn: 0.6446179\ttotal: 3m 11s\tremaining: 3m 5s\n",
      "508:\tlearn: 0.6445452\ttotal: 3m 12s\tremaining: 3m 5s\n",
      "509:\tlearn: 0.6444538\ttotal: 3m 12s\tremaining: 3m 4s\n",
      "510:\tlearn: 0.6443849\ttotal: 3m 12s\tremaining: 3m 4s\n",
      "511:\tlearn: 0.6443145\ttotal: 3m 13s\tremaining: 3m 4s\n",
      "512:\tlearn: 0.6442359\ttotal: 3m 13s\tremaining: 3m 3s\n",
      "513:\tlearn: 0.6441462\ttotal: 3m 13s\tremaining: 3m 3s\n",
      "514:\tlearn: 0.6440510\ttotal: 3m 13s\tremaining: 3m 2s\n",
      "515:\tlearn: 0.6439758\ttotal: 3m 14s\tremaining: 3m 2s\n",
      "516:\tlearn: 0.6438921\ttotal: 3m 14s\tremaining: 3m 1s\n",
      "517:\tlearn: 0.6438093\ttotal: 3m 14s\tremaining: 3m 1s\n",
      "518:\tlearn: 0.6437502\ttotal: 3m 15s\tremaining: 3m\n",
      "519:\tlearn: 0.6436969\ttotal: 3m 15s\tremaining: 3m\n",
      "520:\tlearn: 0.6436009\ttotal: 3m 15s\tremaining: 2m 59s\n",
      "521:\tlearn: 0.6435037\ttotal: 3m 16s\tremaining: 2m 59s\n",
      "522:\tlearn: 0.6434038\ttotal: 3m 16s\tremaining: 2m 59s\n",
      "523:\tlearn: 0.6433136\ttotal: 3m 16s\tremaining: 2m 58s\n",
      "524:\tlearn: 0.6432281\ttotal: 3m 17s\tremaining: 2m 58s\n",
      "525:\tlearn: 0.6431515\ttotal: 3m 17s\tremaining: 2m 57s\n",
      "526:\tlearn: 0.6431030\ttotal: 3m 17s\tremaining: 2m 57s\n",
      "527:\tlearn: 0.6430023\ttotal: 3m 17s\tremaining: 2m 56s\n",
      "528:\tlearn: 0.6429140\ttotal: 3m 18s\tremaining: 2m 56s\n",
      "529:\tlearn: 0.6428670\ttotal: 3m 18s\tremaining: 2m 55s\n",
      "530:\tlearn: 0.6427726\ttotal: 3m 18s\tremaining: 2m 55s\n",
      "531:\tlearn: 0.6427177\ttotal: 3m 18s\tremaining: 2m 54s\n",
      "532:\tlearn: 0.6426349\ttotal: 3m 19s\tremaining: 2m 54s\n",
      "533:\tlearn: 0.6425822\ttotal: 3m 19s\tremaining: 2m 54s\n",
      "534:\tlearn: 0.6424653\ttotal: 3m 19s\tremaining: 2m 53s\n",
      "535:\tlearn: 0.6423334\ttotal: 3m 20s\tremaining: 2m 53s\n",
      "536:\tlearn: 0.6422646\ttotal: 3m 20s\tremaining: 2m 52s\n",
      "537:\tlearn: 0.6421577\ttotal: 3m 20s\tremaining: 2m 52s\n",
      "538:\tlearn: 0.6420911\ttotal: 3m 21s\tremaining: 2m 51s\n",
      "539:\tlearn: 0.6420193\ttotal: 3m 21s\tremaining: 2m 51s\n",
      "540:\tlearn: 0.6419387\ttotal: 3m 21s\tremaining: 2m 51s\n",
      "541:\tlearn: 0.6418328\ttotal: 3m 21s\tremaining: 2m 50s\n",
      "542:\tlearn: 0.6417984\ttotal: 3m 22s\tremaining: 2m 50s\n",
      "543:\tlearn: 0.6417335\ttotal: 3m 22s\tremaining: 2m 49s\n",
      "544:\tlearn: 0.6416356\ttotal: 3m 22s\tremaining: 2m 49s\n",
      "545:\tlearn: 0.6415320\ttotal: 3m 23s\tremaining: 2m 48s\n",
      "546:\tlearn: 0.6414350\ttotal: 3m 23s\tremaining: 2m 48s\n",
      "547:\tlearn: 0.6413616\ttotal: 3m 23s\tremaining: 2m 48s\n",
      "548:\tlearn: 0.6412761\ttotal: 3m 24s\tremaining: 2m 47s\n",
      "549:\tlearn: 0.6412078\ttotal: 3m 24s\tremaining: 2m 47s\n",
      "550:\tlearn: 0.6411080\ttotal: 3m 24s\tremaining: 2m 46s\n",
      "551:\tlearn: 0.6410434\ttotal: 3m 25s\tremaining: 2m 46s\n",
      "552:\tlearn: 0.6409524\ttotal: 3m 25s\tremaining: 2m 46s\n",
      "553:\tlearn: 0.6408503\ttotal: 3m 25s\tremaining: 2m 45s\n",
      "554:\tlearn: 0.6407586\ttotal: 3m 26s\tremaining: 2m 45s\n",
      "555:\tlearn: 0.6406754\ttotal: 3m 26s\tremaining: 2m 44s\n",
      "556:\tlearn: 0.6406036\ttotal: 3m 26s\tremaining: 2m 44s\n",
      "557:\tlearn: 0.6405120\ttotal: 3m 26s\tremaining: 2m 43s\n",
      "558:\tlearn: 0.6404314\ttotal: 3m 27s\tremaining: 2m 43s\n",
      "559:\tlearn: 0.6403365\ttotal: 3m 27s\tremaining: 2m 43s\n",
      "560:\tlearn: 0.6402596\ttotal: 3m 27s\tremaining: 2m 42s\n",
      "561:\tlearn: 0.6401809\ttotal: 3m 28s\tremaining: 2m 42s\n",
      "562:\tlearn: 0.6401082\ttotal: 3m 28s\tremaining: 2m 41s\n",
      "563:\tlearn: 0.6400223\ttotal: 3m 29s\tremaining: 2m 41s\n",
      "564:\tlearn: 0.6399527\ttotal: 3m 29s\tremaining: 2m 41s\n",
      "565:\tlearn: 0.6398748\ttotal: 3m 29s\tremaining: 2m 40s\n",
      "566:\tlearn: 0.6398261\ttotal: 3m 29s\tremaining: 2m 40s\n",
      "567:\tlearn: 0.6397559\ttotal: 3m 30s\tremaining: 2m 39s\n",
      "568:\tlearn: 0.6396913\ttotal: 3m 30s\tremaining: 2m 39s\n",
      "569:\tlearn: 0.6396318\ttotal: 3m 31s\tremaining: 2m 39s\n",
      "570:\tlearn: 0.6395525\ttotal: 3m 31s\tremaining: 2m 38s\n",
      "571:\tlearn: 0.6394996\ttotal: 3m 31s\tremaining: 2m 38s\n",
      "572:\tlearn: 0.6393873\ttotal: 3m 31s\tremaining: 2m 37s\n",
      "573:\tlearn: 0.6392948\ttotal: 3m 32s\tremaining: 2m 37s\n",
      "574:\tlearn: 0.6392100\ttotal: 3m 32s\tremaining: 2m 37s\n",
      "575:\tlearn: 0.6391401\ttotal: 3m 32s\tremaining: 2m 36s\n",
      "576:\tlearn: 0.6390352\ttotal: 3m 33s\tremaining: 2m 36s\n",
      "577:\tlearn: 0.6389639\ttotal: 3m 33s\tremaining: 2m 35s\n",
      "578:\tlearn: 0.6389032\ttotal: 3m 33s\tremaining: 2m 35s\n",
      "579:\tlearn: 0.6388160\ttotal: 3m 33s\tremaining: 2m 34s\n",
      "580:\tlearn: 0.6387366\ttotal: 3m 34s\tremaining: 2m 34s\n",
      "581:\tlearn: 0.6386816\ttotal: 3m 34s\tremaining: 2m 34s\n",
      "582:\tlearn: 0.6385967\ttotal: 3m 34s\tremaining: 2m 33s\n",
      "583:\tlearn: 0.6385308\ttotal: 3m 35s\tremaining: 2m 33s\n",
      "584:\tlearn: 0.6384423\ttotal: 3m 35s\tremaining: 2m 32s\n",
      "585:\tlearn: 0.6383555\ttotal: 3m 35s\tremaining: 2m 32s\n",
      "586:\tlearn: 0.6382581\ttotal: 3m 36s\tremaining: 2m 31s\n",
      "587:\tlearn: 0.6381716\ttotal: 3m 36s\tremaining: 2m 31s\n",
      "588:\tlearn: 0.6380906\ttotal: 3m 36s\tremaining: 2m 31s\n",
      "589:\tlearn: 0.6380010\ttotal: 3m 36s\tremaining: 2m 30s\n",
      "590:\tlearn: 0.6379300\ttotal: 3m 37s\tremaining: 2m 30s\n",
      "591:\tlearn: 0.6378316\ttotal: 3m 37s\tremaining: 2m 29s\n",
      "592:\tlearn: 0.6377521\ttotal: 3m 37s\tremaining: 2m 29s\n",
      "593:\tlearn: 0.6376876\ttotal: 3m 38s\tremaining: 2m 29s\n",
      "594:\tlearn: 0.6376330\ttotal: 3m 38s\tremaining: 2m 28s\n",
      "595:\tlearn: 0.6375588\ttotal: 3m 38s\tremaining: 2m 28s\n",
      "596:\tlearn: 0.6374747\ttotal: 3m 39s\tremaining: 2m 27s\n",
      "597:\tlearn: 0.6373928\ttotal: 3m 39s\tremaining: 2m 27s\n",
      "598:\tlearn: 0.6373137\ttotal: 3m 39s\tremaining: 2m 27s\n",
      "599:\tlearn: 0.6372269\ttotal: 3m 39s\tremaining: 2m 26s\n",
      "600:\tlearn: 0.6371462\ttotal: 3m 40s\tremaining: 2m 26s\n",
      "601:\tlearn: 0.6370804\ttotal: 3m 40s\tremaining: 2m 25s\n",
      "602:\tlearn: 0.6370156\ttotal: 3m 40s\tremaining: 2m 25s\n",
      "603:\tlearn: 0.6369573\ttotal: 3m 41s\tremaining: 2m 24s\n",
      "604:\tlearn: 0.6368813\ttotal: 3m 41s\tremaining: 2m 24s\n",
      "605:\tlearn: 0.6368231\ttotal: 3m 41s\tremaining: 2m 24s\n",
      "606:\tlearn: 0.6367673\ttotal: 3m 41s\tremaining: 2m 23s\n",
      "607:\tlearn: 0.6366881\ttotal: 3m 42s\tremaining: 2m 23s\n",
      "608:\tlearn: 0.6366045\ttotal: 3m 42s\tremaining: 2m 22s\n",
      "609:\tlearn: 0.6365217\ttotal: 3m 42s\tremaining: 2m 22s\n",
      "610:\tlearn: 0.6364431\ttotal: 3m 43s\tremaining: 2m 22s\n",
      "611:\tlearn: 0.6363652\ttotal: 3m 43s\tremaining: 2m 21s\n",
      "612:\tlearn: 0.6362618\ttotal: 3m 43s\tremaining: 2m 21s\n",
      "613:\tlearn: 0.6361527\ttotal: 3m 44s\tremaining: 2m 20s\n",
      "614:\tlearn: 0.6360847\ttotal: 3m 44s\tremaining: 2m 20s\n",
      "615:\tlearn: 0.6359851\ttotal: 3m 44s\tremaining: 2m 20s\n",
      "616:\tlearn: 0.6359304\ttotal: 3m 44s\tremaining: 2m 19s\n",
      "617:\tlearn: 0.6358738\ttotal: 3m 45s\tremaining: 2m 19s\n"
     ]
    },
    {
     "name": "stdout",
     "output_type": "stream",
     "text": [
      "618:\tlearn: 0.6357900\ttotal: 3m 45s\tremaining: 2m 18s\n",
      "619:\tlearn: 0.6357332\ttotal: 3m 45s\tremaining: 2m 18s\n",
      "620:\tlearn: 0.6356628\ttotal: 3m 45s\tremaining: 2m 17s\n",
      "621:\tlearn: 0.6355834\ttotal: 3m 46s\tremaining: 2m 17s\n",
      "622:\tlearn: 0.6355139\ttotal: 3m 46s\tremaining: 2m 17s\n",
      "623:\tlearn: 0.6354567\ttotal: 3m 46s\tremaining: 2m 16s\n",
      "624:\tlearn: 0.6353778\ttotal: 3m 47s\tremaining: 2m 16s\n",
      "625:\tlearn: 0.6353034\ttotal: 3m 47s\tremaining: 2m 15s\n",
      "626:\tlearn: 0.6352225\ttotal: 3m 47s\tremaining: 2m 15s\n",
      "627:\tlearn: 0.6351491\ttotal: 3m 47s\tremaining: 2m 15s\n",
      "628:\tlearn: 0.6350684\ttotal: 3m 48s\tremaining: 2m 14s\n",
      "629:\tlearn: 0.6349872\ttotal: 3m 48s\tremaining: 2m 14s\n",
      "630:\tlearn: 0.6349220\ttotal: 3m 48s\tremaining: 2m 13s\n",
      "631:\tlearn: 0.6348367\ttotal: 3m 49s\tremaining: 2m 13s\n",
      "632:\tlearn: 0.6347554\ttotal: 3m 49s\tremaining: 2m 12s\n",
      "633:\tlearn: 0.6346559\ttotal: 3m 49s\tremaining: 2m 12s\n",
      "634:\tlearn: 0.6345834\ttotal: 3m 50s\tremaining: 2m 12s\n",
      "635:\tlearn: 0.6345076\ttotal: 3m 50s\tremaining: 2m 11s\n",
      "636:\tlearn: 0.6344330\ttotal: 3m 50s\tremaining: 2m 11s\n",
      "637:\tlearn: 0.6343454\ttotal: 3m 50s\tremaining: 2m 11s\n",
      "638:\tlearn: 0.6342783\ttotal: 3m 51s\tremaining: 2m 10s\n",
      "639:\tlearn: 0.6341985\ttotal: 3m 51s\tremaining: 2m 10s\n",
      "640:\tlearn: 0.6341453\ttotal: 3m 51s\tremaining: 2m 9s\n",
      "641:\tlearn: 0.6340642\ttotal: 3m 51s\tremaining: 2m 9s\n",
      "642:\tlearn: 0.6339808\ttotal: 3m 52s\tremaining: 2m 9s\n",
      "643:\tlearn: 0.6339433\ttotal: 3m 52s\tremaining: 2m 8s\n",
      "644:\tlearn: 0.6338879\ttotal: 3m 52s\tremaining: 2m 8s\n",
      "645:\tlearn: 0.6337834\ttotal: 3m 53s\tremaining: 2m 7s\n",
      "646:\tlearn: 0.6336731\ttotal: 3m 53s\tremaining: 2m 7s\n",
      "647:\tlearn: 0.6335677\ttotal: 3m 53s\tremaining: 2m 7s\n",
      "648:\tlearn: 0.6335170\ttotal: 3m 54s\tremaining: 2m 6s\n",
      "649:\tlearn: 0.6334430\ttotal: 3m 54s\tremaining: 2m 6s\n",
      "650:\tlearn: 0.6333740\ttotal: 3m 54s\tremaining: 2m 5s\n",
      "651:\tlearn: 0.6332651\ttotal: 3m 54s\tremaining: 2m 5s\n",
      "652:\tlearn: 0.6331814\ttotal: 3m 55s\tremaining: 2m 4s\n",
      "653:\tlearn: 0.6330925\ttotal: 3m 55s\tremaining: 2m 4s\n",
      "654:\tlearn: 0.6330004\ttotal: 3m 55s\tremaining: 2m 4s\n",
      "655:\tlearn: 0.6329453\ttotal: 3m 56s\tremaining: 2m 3s\n",
      "656:\tlearn: 0.6328603\ttotal: 3m 56s\tremaining: 2m 3s\n",
      "657:\tlearn: 0.6327664\ttotal: 3m 56s\tremaining: 2m 3s\n",
      "658:\tlearn: 0.6326922\ttotal: 3m 56s\tremaining: 2m 2s\n",
      "659:\tlearn: 0.6326304\ttotal: 3m 57s\tremaining: 2m 2s\n",
      "660:\tlearn: 0.6325527\ttotal: 3m 57s\tremaining: 2m 1s\n",
      "661:\tlearn: 0.6324860\ttotal: 3m 57s\tremaining: 2m 1s\n",
      "662:\tlearn: 0.6324096\ttotal: 3m 58s\tremaining: 2m\n",
      "663:\tlearn: 0.6323200\ttotal: 3m 58s\tremaining: 2m\n",
      "664:\tlearn: 0.6322538\ttotal: 3m 58s\tremaining: 2m\n",
      "665:\tlearn: 0.6321929\ttotal: 3m 58s\tremaining: 1m 59s\n",
      "666:\tlearn: 0.6320987\ttotal: 3m 59s\tremaining: 1m 59s\n",
      "667:\tlearn: 0.6320543\ttotal: 3m 59s\tremaining: 1m 59s\n",
      "668:\tlearn: 0.6319483\ttotal: 3m 59s\tremaining: 1m 58s\n",
      "669:\tlearn: 0.6318790\ttotal: 4m\tremaining: 1m 58s\n",
      "670:\tlearn: 0.6318008\ttotal: 4m\tremaining: 1m 57s\n",
      "671:\tlearn: 0.6317320\ttotal: 4m\tremaining: 1m 57s\n",
      "672:\tlearn: 0.6316371\ttotal: 4m 1s\tremaining: 1m 57s\n",
      "673:\tlearn: 0.6315555\ttotal: 4m 1s\tremaining: 1m 56s\n",
      "674:\tlearn: 0.6314826\ttotal: 4m 1s\tremaining: 1m 56s\n",
      "675:\tlearn: 0.6314073\ttotal: 4m 2s\tremaining: 1m 55s\n",
      "676:\tlearn: 0.6313239\ttotal: 4m 2s\tremaining: 1m 55s\n",
      "677:\tlearn: 0.6312436\ttotal: 4m 2s\tremaining: 1m 55s\n",
      "678:\tlearn: 0.6311902\ttotal: 4m 2s\tremaining: 1m 54s\n",
      "679:\tlearn: 0.6310876\ttotal: 4m 3s\tremaining: 1m 54s\n",
      "680:\tlearn: 0.6310268\ttotal: 4m 3s\tremaining: 1m 54s\n",
      "681:\tlearn: 0.6309583\ttotal: 4m 3s\tremaining: 1m 53s\n",
      "682:\tlearn: 0.6308858\ttotal: 4m 4s\tremaining: 1m 53s\n",
      "683:\tlearn: 0.6308127\ttotal: 4m 4s\tremaining: 1m 52s\n",
      "684:\tlearn: 0.6307340\ttotal: 4m 4s\tremaining: 1m 52s\n",
      "685:\tlearn: 0.6306534\ttotal: 4m 5s\tremaining: 1m 52s\n",
      "686:\tlearn: 0.6305778\ttotal: 4m 5s\tremaining: 1m 51s\n",
      "687:\tlearn: 0.6305344\ttotal: 4m 5s\tremaining: 1m 51s\n",
      "688:\tlearn: 0.6304453\ttotal: 4m 6s\tremaining: 1m 51s\n",
      "689:\tlearn: 0.6303645\ttotal: 4m 6s\tremaining: 1m 50s\n",
      "690:\tlearn: 0.6302987\ttotal: 4m 6s\tremaining: 1m 50s\n",
      "691:\tlearn: 0.6302093\ttotal: 4m 6s\tremaining: 1m 49s\n",
      "692:\tlearn: 0.6301300\ttotal: 4m 7s\tremaining: 1m 49s\n",
      "693:\tlearn: 0.6300472\ttotal: 4m 7s\tremaining: 1m 49s\n",
      "694:\tlearn: 0.6300050\ttotal: 4m 7s\tremaining: 1m 48s\n",
      "695:\tlearn: 0.6299645\ttotal: 4m 8s\tremaining: 1m 48s\n",
      "696:\tlearn: 0.6298877\ttotal: 4m 8s\tremaining: 1m 48s\n",
      "697:\tlearn: 0.6297930\ttotal: 4m 8s\tremaining: 1m 47s\n",
      "698:\tlearn: 0.6297184\ttotal: 4m 9s\tremaining: 1m 47s\n",
      "699:\tlearn: 0.6296629\ttotal: 4m 9s\tremaining: 1m 47s\n",
      "700:\tlearn: 0.6295979\ttotal: 4m 10s\tremaining: 1m 46s\n",
      "701:\tlearn: 0.6295221\ttotal: 4m 10s\tremaining: 1m 46s\n",
      "702:\tlearn: 0.6294509\ttotal: 4m 10s\tremaining: 1m 45s\n",
      "703:\tlearn: 0.6293766\ttotal: 4m 10s\tremaining: 1m 45s\n",
      "704:\tlearn: 0.6292988\ttotal: 4m 11s\tremaining: 1m 45s\n",
      "705:\tlearn: 0.6292188\ttotal: 4m 11s\tremaining: 1m 44s\n",
      "706:\tlearn: 0.6291522\ttotal: 4m 11s\tremaining: 1m 44s\n",
      "707:\tlearn: 0.6290775\ttotal: 4m 12s\tremaining: 1m 44s\n",
      "708:\tlearn: 0.6290172\ttotal: 4m 12s\tremaining: 1m 43s\n",
      "709:\tlearn: 0.6289256\ttotal: 4m 12s\tremaining: 1m 43s\n",
      "710:\tlearn: 0.6288586\ttotal: 4m 13s\tremaining: 1m 42s\n",
      "711:\tlearn: 0.6287902\ttotal: 4m 13s\tremaining: 1m 42s\n",
      "712:\tlearn: 0.6286923\ttotal: 4m 13s\tremaining: 1m 42s\n",
      "713:\tlearn: 0.6286379\ttotal: 4m 14s\tremaining: 1m 41s\n",
      "714:\tlearn: 0.6285801\ttotal: 4m 14s\tremaining: 1m 41s\n",
      "715:\tlearn: 0.6284923\ttotal: 4m 14s\tremaining: 1m 41s\n",
      "716:\tlearn: 0.6284157\ttotal: 4m 15s\tremaining: 1m 40s\n",
      "717:\tlearn: 0.6283246\ttotal: 4m 15s\tremaining: 1m 40s\n",
      "718:\tlearn: 0.6282159\ttotal: 4m 15s\tremaining: 1m 39s\n",
      "719:\tlearn: 0.6281655\ttotal: 4m 16s\tremaining: 1m 39s\n",
      "720:\tlearn: 0.6280912\ttotal: 4m 16s\tremaining: 1m 39s\n",
      "721:\tlearn: 0.6280314\ttotal: 4m 16s\tremaining: 1m 38s\n",
      "722:\tlearn: 0.6279640\ttotal: 4m 17s\tremaining: 1m 38s\n",
      "723:\tlearn: 0.6279184\ttotal: 4m 17s\tremaining: 1m 38s\n",
      "724:\tlearn: 0.6278394\ttotal: 4m 18s\tremaining: 1m 37s\n",
      "725:\tlearn: 0.6277782\ttotal: 4m 18s\tremaining: 1m 37s\n",
      "726:\tlearn: 0.6277175\ttotal: 4m 18s\tremaining: 1m 37s\n",
      "727:\tlearn: 0.6276329\ttotal: 4m 18s\tremaining: 1m 36s\n",
      "728:\tlearn: 0.6275581\ttotal: 4m 19s\tremaining: 1m 36s\n",
      "729:\tlearn: 0.6275069\ttotal: 4m 19s\tremaining: 1m 35s\n",
      "730:\tlearn: 0.6274519\ttotal: 4m 19s\tremaining: 1m 35s\n",
      "731:\tlearn: 0.6273790\ttotal: 4m 20s\tremaining: 1m 35s\n",
      "732:\tlearn: 0.6273127\ttotal: 4m 20s\tremaining: 1m 34s\n",
      "733:\tlearn: 0.6272595\ttotal: 4m 20s\tremaining: 1m 34s\n",
      "734:\tlearn: 0.6271863\ttotal: 4m 21s\tremaining: 1m 34s\n",
      "735:\tlearn: 0.6271078\ttotal: 4m 21s\tremaining: 1m 33s\n",
      "736:\tlearn: 0.6270443\ttotal: 4m 21s\tremaining: 1m 33s\n",
      "737:\tlearn: 0.6269813\ttotal: 4m 21s\tremaining: 1m 33s\n",
      "738:\tlearn: 0.6269271\ttotal: 4m 22s\tremaining: 1m 32s\n",
      "739:\tlearn: 0.6268761\ttotal: 4m 22s\tremaining: 1m 32s\n",
      "740:\tlearn: 0.6268001\ttotal: 4m 22s\tremaining: 1m 31s\n",
      "741:\tlearn: 0.6267414\ttotal: 4m 23s\tremaining: 1m 31s\n",
      "742:\tlearn: 0.6266652\ttotal: 4m 23s\tremaining: 1m 31s\n",
      "743:\tlearn: 0.6266120\ttotal: 4m 23s\tremaining: 1m 30s\n",
      "744:\tlearn: 0.6265541\ttotal: 4m 23s\tremaining: 1m 30s\n",
      "745:\tlearn: 0.6264867\ttotal: 4m 24s\tremaining: 1m 29s\n",
      "746:\tlearn: 0.6264077\ttotal: 4m 24s\tremaining: 1m 29s\n",
      "747:\tlearn: 0.6263355\ttotal: 4m 24s\tremaining: 1m 29s\n",
      "748:\tlearn: 0.6262516\ttotal: 4m 25s\tremaining: 1m 28s\n",
      "749:\tlearn: 0.6261843\ttotal: 4m 25s\tremaining: 1m 28s\n",
      "750:\tlearn: 0.6261332\ttotal: 4m 25s\tremaining: 1m 28s\n",
      "751:\tlearn: 0.6260697\ttotal: 4m 25s\tremaining: 1m 27s\n",
      "752:\tlearn: 0.6260010\ttotal: 4m 26s\tremaining: 1m 27s\n",
      "753:\tlearn: 0.6259299\ttotal: 4m 26s\tremaining: 1m 26s\n",
      "754:\tlearn: 0.6258715\ttotal: 4m 26s\tremaining: 1m 26s\n",
      "755:\tlearn: 0.6258156\ttotal: 4m 27s\tremaining: 1m 26s\n",
      "756:\tlearn: 0.6257448\ttotal: 4m 27s\tremaining: 1m 25s\n",
      "757:\tlearn: 0.6256868\ttotal: 4m 27s\tremaining: 1m 25s\n",
      "758:\tlearn: 0.6256431\ttotal: 4m 28s\tremaining: 1m 25s\n",
      "759:\tlearn: 0.6255916\ttotal: 4m 28s\tremaining: 1m 24s\n",
      "760:\tlearn: 0.6255210\ttotal: 4m 28s\tremaining: 1m 24s\n",
      "761:\tlearn: 0.6254471\ttotal: 4m 28s\tremaining: 1m 23s\n",
      "762:\tlearn: 0.6253849\ttotal: 4m 29s\tremaining: 1m 23s\n",
      "763:\tlearn: 0.6253093\ttotal: 4m 29s\tremaining: 1m 23s\n",
      "764:\tlearn: 0.6252345\ttotal: 4m 29s\tremaining: 1m 22s\n",
      "765:\tlearn: 0.6251673\ttotal: 4m 29s\tremaining: 1m 22s\n",
      "766:\tlearn: 0.6250912\ttotal: 4m 30s\tremaining: 1m 22s\n",
      "767:\tlearn: 0.6250085\ttotal: 4m 30s\tremaining: 1m 21s\n",
      "768:\tlearn: 0.6249425\ttotal: 4m 30s\tremaining: 1m 21s\n",
      "769:\tlearn: 0.6248704\ttotal: 4m 31s\tremaining: 1m 20s\n",
      "770:\tlearn: 0.6248158\ttotal: 4m 31s\tremaining: 1m 20s\n",
      "771:\tlearn: 0.6247319\ttotal: 4m 31s\tremaining: 1m 20s\n"
     ]
    },
    {
     "name": "stdout",
     "output_type": "stream",
     "text": [
      "772:\tlearn: 0.6246622\ttotal: 4m 31s\tremaining: 1m 19s\n",
      "773:\tlearn: 0.6245868\ttotal: 4m 32s\tremaining: 1m 19s\n",
      "774:\tlearn: 0.6245044\ttotal: 4m 32s\tremaining: 1m 19s\n",
      "775:\tlearn: 0.6244181\ttotal: 4m 32s\tremaining: 1m 18s\n",
      "776:\tlearn: 0.6243333\ttotal: 4m 33s\tremaining: 1m 18s\n",
      "777:\tlearn: 0.6242612\ttotal: 4m 33s\tremaining: 1m 18s\n",
      "778:\tlearn: 0.6241854\ttotal: 4m 33s\tremaining: 1m 17s\n",
      "779:\tlearn: 0.6241167\ttotal: 4m 34s\tremaining: 1m 17s\n",
      "780:\tlearn: 0.6240757\ttotal: 4m 34s\tremaining: 1m 16s\n",
      "781:\tlearn: 0.6239977\ttotal: 4m 34s\tremaining: 1m 16s\n",
      "782:\tlearn: 0.6239221\ttotal: 4m 35s\tremaining: 1m 16s\n",
      "783:\tlearn: 0.6238433\ttotal: 4m 35s\tremaining: 1m 15s\n",
      "784:\tlearn: 0.6237750\ttotal: 4m 35s\tremaining: 1m 15s\n",
      "785:\tlearn: 0.6237274\ttotal: 4m 35s\tremaining: 1m 15s\n",
      "786:\tlearn: 0.6236566\ttotal: 4m 36s\tremaining: 1m 14s\n",
      "787:\tlearn: 0.6235920\ttotal: 4m 36s\tremaining: 1m 14s\n",
      "788:\tlearn: 0.6235221\ttotal: 4m 36s\tremaining: 1m 14s\n",
      "789:\tlearn: 0.6234533\ttotal: 4m 37s\tremaining: 1m 13s\n",
      "790:\tlearn: 0.6233624\ttotal: 4m 37s\tremaining: 1m 13s\n",
      "791:\tlearn: 0.6232935\ttotal: 4m 37s\tremaining: 1m 12s\n",
      "792:\tlearn: 0.6232121\ttotal: 4m 37s\tremaining: 1m 12s\n",
      "793:\tlearn: 0.6231482\ttotal: 4m 38s\tremaining: 1m 12s\n",
      "794:\tlearn: 0.6230898\ttotal: 4m 38s\tremaining: 1m 11s\n",
      "795:\tlearn: 0.6230220\ttotal: 4m 39s\tremaining: 1m 11s\n",
      "796:\tlearn: 0.6229433\ttotal: 4m 39s\tremaining: 1m 11s\n",
      "797:\tlearn: 0.6228396\ttotal: 4m 39s\tremaining: 1m 10s\n",
      "798:\tlearn: 0.6227663\ttotal: 4m 40s\tremaining: 1m 10s\n",
      "799:\tlearn: 0.6226869\ttotal: 4m 40s\tremaining: 1m 10s\n",
      "800:\tlearn: 0.6226164\ttotal: 4m 41s\tremaining: 1m 9s\n",
      "801:\tlearn: 0.6225333\ttotal: 4m 41s\tremaining: 1m 9s\n",
      "802:\tlearn: 0.6224733\ttotal: 4m 41s\tremaining: 1m 9s\n",
      "803:\tlearn: 0.6224211\ttotal: 4m 42s\tremaining: 1m 8s\n",
      "804:\tlearn: 0.6223304\ttotal: 4m 42s\tremaining: 1m 8s\n",
      "805:\tlearn: 0.6222613\ttotal: 4m 43s\tremaining: 1m 8s\n",
      "806:\tlearn: 0.6221829\ttotal: 4m 43s\tremaining: 1m 7s\n",
      "807:\tlearn: 0.6221226\ttotal: 4m 43s\tremaining: 1m 7s\n",
      "808:\tlearn: 0.6220423\ttotal: 4m 44s\tremaining: 1m 7s\n",
      "809:\tlearn: 0.6219728\ttotal: 4m 44s\tremaining: 1m 6s\n",
      "810:\tlearn: 0.6219029\ttotal: 4m 44s\tremaining: 1m 6s\n",
      "811:\tlearn: 0.6218288\ttotal: 4m 45s\tremaining: 1m 5s\n",
      "812:\tlearn: 0.6217525\ttotal: 4m 45s\tremaining: 1m 5s\n",
      "813:\tlearn: 0.6216958\ttotal: 4m 45s\tremaining: 1m 5s\n",
      "814:\tlearn: 0.6216119\ttotal: 4m 45s\tremaining: 1m 4s\n",
      "815:\tlearn: 0.6215345\ttotal: 4m 46s\tremaining: 1m 4s\n",
      "816:\tlearn: 0.6214867\ttotal: 4m 46s\tremaining: 1m 4s\n",
      "817:\tlearn: 0.6213966\ttotal: 4m 46s\tremaining: 1m 3s\n",
      "818:\tlearn: 0.6213415\ttotal: 4m 47s\tremaining: 1m 3s\n",
      "819:\tlearn: 0.6213095\ttotal: 4m 47s\tremaining: 1m 3s\n",
      "820:\tlearn: 0.6212537\ttotal: 4m 47s\tremaining: 1m 2s\n",
      "821:\tlearn: 0.6211714\ttotal: 4m 48s\tremaining: 1m 2s\n",
      "822:\tlearn: 0.6211304\ttotal: 4m 48s\tremaining: 1m 2s\n",
      "823:\tlearn: 0.6210670\ttotal: 4m 48s\tremaining: 1m 1s\n",
      "824:\tlearn: 0.6209865\ttotal: 4m 48s\tremaining: 1m 1s\n",
      "825:\tlearn: 0.6209525\ttotal: 4m 49s\tremaining: 1m\n",
      "826:\tlearn: 0.6208942\ttotal: 4m 49s\tremaining: 1m\n",
      "827:\tlearn: 0.6208320\ttotal: 4m 49s\tremaining: 1m\n",
      "828:\tlearn: 0.6207548\ttotal: 4m 50s\tremaining: 59.9s\n",
      "829:\tlearn: 0.6206753\ttotal: 4m 50s\tremaining: 59.5s\n",
      "830:\tlearn: 0.6206124\ttotal: 4m 50s\tremaining: 59.1s\n",
      "831:\tlearn: 0.6205290\ttotal: 4m 51s\tremaining: 58.8s\n",
      "832:\tlearn: 0.6204707\ttotal: 4m 51s\tremaining: 58.4s\n",
      "833:\tlearn: 0.6204189\ttotal: 4m 51s\tremaining: 58s\n",
      "834:\tlearn: 0.6203331\ttotal: 4m 51s\tremaining: 57.7s\n",
      "835:\tlearn: 0.6202454\ttotal: 4m 52s\tremaining: 57.3s\n",
      "836:\tlearn: 0.6201595\ttotal: 4m 52s\tremaining: 57s\n",
      "837:\tlearn: 0.6200917\ttotal: 4m 52s\tremaining: 56.6s\n",
      "838:\tlearn: 0.6200428\ttotal: 4m 53s\tremaining: 56.2s\n",
      "839:\tlearn: 0.6199809\ttotal: 4m 53s\tremaining: 55.9s\n",
      "840:\tlearn: 0.6199000\ttotal: 4m 53s\tremaining: 55.5s\n",
      "841:\tlearn: 0.6198658\ttotal: 4m 54s\tremaining: 55.2s\n",
      "842:\tlearn: 0.6198051\ttotal: 4m 54s\tremaining: 54.8s\n",
      "843:\tlearn: 0.6197078\ttotal: 4m 54s\tremaining: 54.5s\n",
      "844:\tlearn: 0.6196447\ttotal: 4m 54s\tremaining: 54.1s\n",
      "845:\tlearn: 0.6195913\ttotal: 4m 55s\tremaining: 53.7s\n",
      "846:\tlearn: 0.6195185\ttotal: 4m 55s\tremaining: 53.4s\n",
      "847:\tlearn: 0.6194636\ttotal: 4m 55s\tremaining: 53s\n",
      "848:\tlearn: 0.6193818\ttotal: 4m 56s\tremaining: 52.7s\n",
      "849:\tlearn: 0.6192920\ttotal: 4m 56s\tremaining: 52.3s\n",
      "850:\tlearn: 0.6192116\ttotal: 4m 56s\tremaining: 51.9s\n",
      "851:\tlearn: 0.6191429\ttotal: 4m 57s\tremaining: 51.6s\n",
      "852:\tlearn: 0.6190876\ttotal: 4m 57s\tremaining: 51.2s\n",
      "853:\tlearn: 0.6189905\ttotal: 4m 57s\tremaining: 50.9s\n",
      "854:\tlearn: 0.6189400\ttotal: 4m 57s\tremaining: 50.5s\n",
      "855:\tlearn: 0.6188557\ttotal: 4m 58s\tremaining: 50.2s\n",
      "856:\tlearn: 0.6187843\ttotal: 4m 58s\tremaining: 49.8s\n",
      "857:\tlearn: 0.6187062\ttotal: 4m 58s\tremaining: 49.4s\n",
      "858:\tlearn: 0.6186416\ttotal: 4m 59s\tremaining: 49.1s\n",
      "859:\tlearn: 0.6185570\ttotal: 4m 59s\tremaining: 48.7s\n",
      "860:\tlearn: 0.6184596\ttotal: 4m 59s\tremaining: 48.4s\n",
      "861:\tlearn: 0.6183949\ttotal: 4m 59s\tremaining: 48s\n",
      "862:\tlearn: 0.6183240\ttotal: 5m\tremaining: 47.7s\n",
      "863:\tlearn: 0.6182606\ttotal: 5m\tremaining: 47.3s\n",
      "864:\tlearn: 0.6181828\ttotal: 5m\tremaining: 46.9s\n",
      "865:\tlearn: 0.6181251\ttotal: 5m 1s\tremaining: 46.6s\n",
      "866:\tlearn: 0.6180265\ttotal: 5m 1s\tremaining: 46.2s\n",
      "867:\tlearn: 0.6179603\ttotal: 5m 1s\tremaining: 45.9s\n",
      "868:\tlearn: 0.6178945\ttotal: 5m 1s\tremaining: 45.5s\n",
      "869:\tlearn: 0.6178421\ttotal: 5m 2s\tremaining: 45.2s\n",
      "870:\tlearn: 0.6177536\ttotal: 5m 2s\tremaining: 44.8s\n",
      "871:\tlearn: 0.6176636\ttotal: 5m 2s\tremaining: 44.5s\n",
      "872:\tlearn: 0.6175865\ttotal: 5m 3s\tremaining: 44.1s\n",
      "873:\tlearn: 0.6175241\ttotal: 5m 3s\tremaining: 43.7s\n",
      "874:\tlearn: 0.6174566\ttotal: 5m 3s\tremaining: 43.4s\n",
      "875:\tlearn: 0.6173898\ttotal: 5m 4s\tremaining: 43s\n",
      "876:\tlearn: 0.6173175\ttotal: 5m 4s\tremaining: 42.7s\n",
      "877:\tlearn: 0.6172540\ttotal: 5m 4s\tremaining: 42.3s\n",
      "878:\tlearn: 0.6172069\ttotal: 5m 5s\tremaining: 42s\n",
      "879:\tlearn: 0.6171251\ttotal: 5m 5s\tremaining: 41.6s\n",
      "880:\tlearn: 0.6170852\ttotal: 5m 5s\tremaining: 41.3s\n",
      "881:\tlearn: 0.6170265\ttotal: 5m 6s\tremaining: 40.9s\n",
      "882:\tlearn: 0.6169703\ttotal: 5m 6s\tremaining: 40.6s\n",
      "883:\tlearn: 0.6168968\ttotal: 5m 6s\tremaining: 40.2s\n",
      "884:\tlearn: 0.6168202\ttotal: 5m 6s\tremaining: 39.9s\n",
      "885:\tlearn: 0.6167547\ttotal: 5m 7s\tremaining: 39.5s\n",
      "886:\tlearn: 0.6166693\ttotal: 5m 7s\tremaining: 39.2s\n",
      "887:\tlearn: 0.6165969\ttotal: 5m 7s\tremaining: 38.8s\n",
      "888:\tlearn: 0.6165238\ttotal: 5m 8s\tremaining: 38.5s\n",
      "889:\tlearn: 0.6164540\ttotal: 5m 8s\tremaining: 38.1s\n",
      "890:\tlearn: 0.6163924\ttotal: 5m 8s\tremaining: 37.8s\n",
      "891:\tlearn: 0.6163283\ttotal: 5m 9s\tremaining: 37.4s\n",
      "892:\tlearn: 0.6162374\ttotal: 5m 9s\tremaining: 37.1s\n",
      "893:\tlearn: 0.6161743\ttotal: 5m 9s\tremaining: 36.7s\n",
      "894:\tlearn: 0.6161034\ttotal: 5m 9s\tremaining: 36.4s\n",
      "895:\tlearn: 0.6160279\ttotal: 5m 10s\tremaining: 36s\n",
      "896:\tlearn: 0.6159669\ttotal: 5m 10s\tremaining: 35.7s\n",
      "897:\tlearn: 0.6158929\ttotal: 5m 10s\tremaining: 35.3s\n",
      "898:\tlearn: 0.6158312\ttotal: 5m 11s\tremaining: 35s\n",
      "899:\tlearn: 0.6157457\ttotal: 5m 11s\tremaining: 34.6s\n",
      "900:\tlearn: 0.6156728\ttotal: 5m 11s\tremaining: 34.3s\n",
      "901:\tlearn: 0.6156088\ttotal: 5m 12s\tremaining: 33.9s\n",
      "902:\tlearn: 0.6155658\ttotal: 5m 12s\tremaining: 33.6s\n",
      "903:\tlearn: 0.6155031\ttotal: 5m 12s\tremaining: 33.2s\n",
      "904:\tlearn: 0.6154204\ttotal: 5m 13s\tremaining: 32.9s\n",
      "905:\tlearn: 0.6153470\ttotal: 5m 13s\tremaining: 32.5s\n",
      "906:\tlearn: 0.6152882\ttotal: 5m 13s\tremaining: 32.2s\n",
      "907:\tlearn: 0.6152191\ttotal: 5m 13s\tremaining: 31.8s\n",
      "908:\tlearn: 0.6151732\ttotal: 5m 14s\tremaining: 31.5s\n",
      "909:\tlearn: 0.6151086\ttotal: 5m 14s\tremaining: 31.1s\n",
      "910:\tlearn: 0.6150391\ttotal: 5m 14s\tremaining: 30.7s\n",
      "911:\tlearn: 0.6149828\ttotal: 5m 15s\tremaining: 30.4s\n",
      "912:\tlearn: 0.6149281\ttotal: 5m 15s\tremaining: 30s\n",
      "913:\tlearn: 0.6148755\ttotal: 5m 15s\tremaining: 29.7s\n",
      "914:\tlearn: 0.6148039\ttotal: 5m 15s\tremaining: 29.3s\n",
      "915:\tlearn: 0.6147271\ttotal: 5m 16s\tremaining: 29s\n",
      "916:\tlearn: 0.6146559\ttotal: 5m 16s\tremaining: 28.6s\n",
      "917:\tlearn: 0.6146013\ttotal: 5m 16s\tremaining: 28.3s\n",
      "918:\tlearn: 0.6145104\ttotal: 5m 17s\tremaining: 27.9s\n",
      "919:\tlearn: 0.6144243\ttotal: 5m 17s\tremaining: 27.6s\n",
      "920:\tlearn: 0.6143488\ttotal: 5m 17s\tremaining: 27.2s\n",
      "921:\tlearn: 0.6142890\ttotal: 5m 17s\tremaining: 26.9s\n",
      "922:\tlearn: 0.6142267\ttotal: 5m 18s\tremaining: 26.5s\n",
      "923:\tlearn: 0.6141209\ttotal: 5m 18s\tremaining: 26.2s\n",
      "924:\tlearn: 0.6140604\ttotal: 5m 18s\tremaining: 25.9s\n",
      "925:\tlearn: 0.6140038\ttotal: 5m 19s\tremaining: 25.5s\n",
      "926:\tlearn: 0.6139333\ttotal: 5m 19s\tremaining: 25.2s\n",
      "927:\tlearn: 0.6138691\ttotal: 5m 19s\tremaining: 24.8s\n"
     ]
    },
    {
     "name": "stdout",
     "output_type": "stream",
     "text": [
      "928:\tlearn: 0.6138142\ttotal: 5m 20s\tremaining: 24.5s\n",
      "929:\tlearn: 0.6137407\ttotal: 5m 20s\tremaining: 24.1s\n",
      "930:\tlearn: 0.6136605\ttotal: 5m 20s\tremaining: 23.8s\n",
      "931:\tlearn: 0.6135777\ttotal: 5m 21s\tremaining: 23.4s\n",
      "932:\tlearn: 0.6135170\ttotal: 5m 21s\tremaining: 23.1s\n",
      "933:\tlearn: 0.6134641\ttotal: 5m 21s\tremaining: 22.7s\n",
      "934:\tlearn: 0.6133808\ttotal: 5m 22s\tremaining: 22.4s\n",
      "935:\tlearn: 0.6133121\ttotal: 5m 22s\tremaining: 22s\n",
      "936:\tlearn: 0.6132374\ttotal: 5m 22s\tremaining: 21.7s\n",
      "937:\tlearn: 0.6131681\ttotal: 5m 23s\tremaining: 21.4s\n",
      "938:\tlearn: 0.6130924\ttotal: 5m 23s\tremaining: 21s\n",
      "939:\tlearn: 0.6130486\ttotal: 5m 23s\tremaining: 20.7s\n",
      "940:\tlearn: 0.6129878\ttotal: 5m 23s\tremaining: 20.3s\n",
      "941:\tlearn: 0.6129374\ttotal: 5m 24s\tremaining: 20s\n",
      "942:\tlearn: 0.6128863\ttotal: 5m 24s\tremaining: 19.6s\n",
      "943:\tlearn: 0.6128419\ttotal: 5m 24s\tremaining: 19.3s\n",
      "944:\tlearn: 0.6127739\ttotal: 5m 25s\tremaining: 18.9s\n",
      "945:\tlearn: 0.6126827\ttotal: 5m 25s\tremaining: 18.6s\n",
      "946:\tlearn: 0.6126170\ttotal: 5m 25s\tremaining: 18.2s\n",
      "947:\tlearn: 0.6125604\ttotal: 5m 26s\tremaining: 17.9s\n",
      "948:\tlearn: 0.6124898\ttotal: 5m 26s\tremaining: 17.5s\n",
      "949:\tlearn: 0.6124189\ttotal: 5m 26s\tremaining: 17.2s\n",
      "950:\tlearn: 0.6123485\ttotal: 5m 26s\tremaining: 16.8s\n",
      "951:\tlearn: 0.6122929\ttotal: 5m 27s\tremaining: 16.5s\n",
      "952:\tlearn: 0.6122189\ttotal: 5m 27s\tremaining: 16.2s\n",
      "953:\tlearn: 0.6121700\ttotal: 5m 27s\tremaining: 15.8s\n",
      "954:\tlearn: 0.6120965\ttotal: 5m 28s\tremaining: 15.5s\n",
      "955:\tlearn: 0.6120041\ttotal: 5m 28s\tremaining: 15.1s\n",
      "956:\tlearn: 0.6119354\ttotal: 5m 28s\tremaining: 14.8s\n",
      "957:\tlearn: 0.6118413\ttotal: 5m 29s\tremaining: 14.4s\n",
      "958:\tlearn: 0.6117479\ttotal: 5m 29s\tremaining: 14.1s\n",
      "959:\tlearn: 0.6116892\ttotal: 5m 29s\tremaining: 13.7s\n",
      "960:\tlearn: 0.6116095\ttotal: 5m 30s\tremaining: 13.4s\n",
      "961:\tlearn: 0.6115415\ttotal: 5m 30s\tremaining: 13.1s\n",
      "962:\tlearn: 0.6114643\ttotal: 5m 30s\tremaining: 12.7s\n",
      "963:\tlearn: 0.6113830\ttotal: 5m 31s\tremaining: 12.4s\n",
      "964:\tlearn: 0.6113461\ttotal: 5m 31s\tremaining: 12s\n",
      "965:\tlearn: 0.6112694\ttotal: 5m 31s\tremaining: 11.7s\n",
      "966:\tlearn: 0.6112055\ttotal: 5m 32s\tremaining: 11.3s\n",
      "967:\tlearn: 0.6111452\ttotal: 5m 32s\tremaining: 11s\n",
      "968:\tlearn: 0.6110668\ttotal: 5m 32s\tremaining: 10.6s\n",
      "969:\tlearn: 0.6109968\ttotal: 5m 33s\tremaining: 10.3s\n",
      "970:\tlearn: 0.6109286\ttotal: 5m 33s\tremaining: 9.96s\n",
      "971:\tlearn: 0.6108525\ttotal: 5m 33s\tremaining: 9.61s\n",
      "972:\tlearn: 0.6107966\ttotal: 5m 33s\tremaining: 9.27s\n",
      "973:\tlearn: 0.6107320\ttotal: 5m 34s\tremaining: 8.92s\n",
      "974:\tlearn: 0.6106403\ttotal: 5m 34s\tremaining: 8.58s\n",
      "975:\tlearn: 0.6105868\ttotal: 5m 34s\tremaining: 8.23s\n",
      "976:\tlearn: 0.6105182\ttotal: 5m 35s\tremaining: 7.89s\n",
      "977:\tlearn: 0.6104561\ttotal: 5m 35s\tremaining: 7.54s\n",
      "978:\tlearn: 0.6104032\ttotal: 5m 35s\tremaining: 7.2s\n",
      "979:\tlearn: 0.6103456\ttotal: 5m 36s\tremaining: 6.86s\n",
      "980:\tlearn: 0.6102548\ttotal: 5m 36s\tremaining: 6.51s\n",
      "981:\tlearn: 0.6102035\ttotal: 5m 36s\tremaining: 6.17s\n",
      "982:\tlearn: 0.6101600\ttotal: 5m 36s\tremaining: 5.83s\n",
      "983:\tlearn: 0.6100886\ttotal: 5m 37s\tremaining: 5.48s\n",
      "984:\tlearn: 0.6100425\ttotal: 5m 37s\tremaining: 5.14s\n",
      "985:\tlearn: 0.6099947\ttotal: 5m 37s\tremaining: 4.8s\n",
      "986:\tlearn: 0.6099278\ttotal: 5m 38s\tremaining: 4.45s\n",
      "987:\tlearn: 0.6098500\ttotal: 5m 38s\tremaining: 4.11s\n",
      "988:\tlearn: 0.6097812\ttotal: 5m 38s\tremaining: 3.77s\n",
      "989:\tlearn: 0.6097125\ttotal: 5m 39s\tremaining: 3.42s\n",
      "990:\tlearn: 0.6096589\ttotal: 5m 39s\tremaining: 3.08s\n",
      "991:\tlearn: 0.6095845\ttotal: 5m 39s\tremaining: 2.74s\n",
      "992:\tlearn: 0.6095156\ttotal: 5m 39s\tremaining: 2.4s\n",
      "993:\tlearn: 0.6094284\ttotal: 5m 40s\tremaining: 2.05s\n",
      "994:\tlearn: 0.6093569\ttotal: 5m 40s\tremaining: 1.71s\n",
      "995:\tlearn: 0.6092843\ttotal: 5m 40s\tremaining: 1.37s\n",
      "996:\tlearn: 0.6092430\ttotal: 5m 41s\tremaining: 1.03s\n",
      "997:\tlearn: 0.6091632\ttotal: 5m 41s\tremaining: 684ms\n",
      "998:\tlearn: 0.6091148\ttotal: 5m 41s\tremaining: 342ms\n",
      "999:\tlearn: 0.6090429\ttotal: 5m 42s\tremaining: 0us\n"
     ]
    },
    {
     "ename": "NameError",
     "evalue": "name 'X_test' is not defined",
     "output_type": "error",
     "traceback": [
      "\u001b[0;31m---------------------------------------------------------------------------\u001b[0m",
      "\u001b[0;31mNameError\u001b[0m                                 Traceback (most recent call last)",
      "\u001b[0;32m<ipython-input-51-48f30e6d2002>\u001b[0m in \u001b[0;36m<module>\u001b[0;34m\u001b[0m\n\u001b[0;32m----> 1\u001b[0;31m \u001b[0mtest_model\u001b[0m\u001b[0;34m(\u001b[0m\u001b[0mX_ros\u001b[0m\u001b[0;34m,\u001b[0m \u001b[0my_ros\u001b[0m\u001b[0;34m,\u001b[0m \u001b[0mmodel\u001b[0m\u001b[0;34m)\u001b[0m\u001b[0;34m\u001b[0m\u001b[0;34m\u001b[0m\u001b[0m\n\u001b[0m\u001b[1;32m      2\u001b[0m \u001b[0my_test_pred\u001b[0m \u001b[0;34m=\u001b[0m \u001b[0mmodel\u001b[0m\u001b[0;34m.\u001b[0m\u001b[0mpredict\u001b[0m\u001b[0;34m(\u001b[0m\u001b[0mX_test\u001b[0m\u001b[0;34m)\u001b[0m\u001b[0;34m\u001b[0m\u001b[0;34m\u001b[0m\u001b[0m\n\u001b[1;32m      3\u001b[0m \u001b[0mf1_score\u001b[0m\u001b[0;34m(\u001b[0m\u001b[0my_test\u001b[0m\u001b[0;34m,\u001b[0m \u001b[0my_test_pred\u001b[0m\u001b[0;34m,\u001b[0m \u001b[0maverage\u001b[0m\u001b[0;34m=\u001b[0m\u001b[0;34m'macro'\u001b[0m\u001b[0;34m)\u001b[0m\u001b[0;34m\u001b[0m\u001b[0;34m\u001b[0m\u001b[0m\n",
      "\u001b[0;32m<ipython-input-48-36e19e96465a>\u001b[0m in \u001b[0;36mtest_model\u001b[0;34m(X_train, y_train, model)\u001b[0m\n\u001b[1;32m      3\u001b[0m     \u001b[0mmodel\u001b[0m\u001b[0;34m.\u001b[0m\u001b[0mfit\u001b[0m\u001b[0;34m(\u001b[0m\u001b[0mX_train\u001b[0m\u001b[0;34m,\u001b[0m \u001b[0my_train\u001b[0m\u001b[0;34m)\u001b[0m\u001b[0;34m\u001b[0m\u001b[0;34m\u001b[0m\u001b[0m\n\u001b[1;32m      4\u001b[0m     \u001b[0my_train_pred\u001b[0m \u001b[0;34m=\u001b[0m \u001b[0mmodel\u001b[0m\u001b[0;34m.\u001b[0m\u001b[0mpredict\u001b[0m\u001b[0;34m(\u001b[0m\u001b[0mX_train\u001b[0m\u001b[0;34m)\u001b[0m\u001b[0;34m\u001b[0m\u001b[0;34m\u001b[0m\u001b[0m\n\u001b[0;32m----> 5\u001b[0;31m     \u001b[0my_test_pred\u001b[0m \u001b[0;34m=\u001b[0m \u001b[0mmodel\u001b[0m\u001b[0;34m.\u001b[0m\u001b[0mpredict\u001b[0m\u001b[0;34m(\u001b[0m\u001b[0mX_test\u001b[0m\u001b[0;34m)\u001b[0m\u001b[0;34m\u001b[0m\u001b[0;34m\u001b[0m\u001b[0m\n\u001b[0m\u001b[1;32m      6\u001b[0m     \u001b[0my_test_pred_proba\u001b[0m \u001b[0;34m=\u001b[0m \u001b[0mmodel\u001b[0m\u001b[0;34m.\u001b[0m\u001b[0mpredict_proba\u001b[0m\u001b[0;34m(\u001b[0m\u001b[0mX_test\u001b[0m\u001b[0;34m)\u001b[0m\u001b[0;34m\u001b[0m\u001b[0;34m\u001b[0m\u001b[0m\n\u001b[1;32m      7\u001b[0m     \u001b[0mget_classification_report\u001b[0m\u001b[0;34m(\u001b[0m\u001b[0my_train\u001b[0m\u001b[0;34m,\u001b[0m \u001b[0my_train_pred\u001b[0m\u001b[0;34m,\u001b[0m \u001b[0my_test\u001b[0m\u001b[0;34m,\u001b[0m \u001b[0my_test_pred\u001b[0m\u001b[0;34m,\u001b[0m \u001b[0mmodel\u001b[0m\u001b[0;34m,\u001b[0m \u001b[0mX_test\u001b[0m\u001b[0;34m)\u001b[0m\u001b[0;34m\u001b[0m\u001b[0;34m\u001b[0m\u001b[0m\n",
      "\u001b[0;31mNameError\u001b[0m: name 'X_test' is not defined"
     ]
    }
   ],
   "source": [
    "test_model(X_ros, y_ros, model)\n",
    "y_test_pred = model.predict(X_test)\n",
    "f1_score(y_test, y_test_pred, average='macro')"
   ]
  },
  {
   "cell_type": "code",
   "execution_count": null,
   "metadata": {},
   "outputs": [],
   "source": [
    "y_valid = model.predict(X_valid)"
   ]
  },
  {
   "cell_type": "markdown",
   "metadata": {},
   "source": [
    "## answers_test.csv"
   ]
  },
  {
   "cell_type": "code",
   "execution_count": 56,
   "metadata": {},
   "outputs": [
    {
     "data": {
      "text/plain": [
       "<73666x59 sparse matrix of type '<class 'numpy.float64'>'\n",
       "\twith 4272629 stored elements in Compressed Sparse Row format>"
      ]
     },
     "execution_count": 56,
     "metadata": {},
     "output_type": "execute_result"
    }
   ],
   "source": [
    "X_valid['buy_time', 'id', 'vas_id']"
   ]
  },
  {
   "cell_type": "code",
   "execution_count": null,
   "metadata": {},
   "outputs": [],
   "source": [
    "answers_test['target'] = y_valid"
   ]
  },
  {
   "cell_type": "code",
   "execution_count": 52,
   "metadata": {},
   "outputs": [
    {
     "ename": "NameError",
     "evalue": "name 'answers_test' is not defined",
     "output_type": "error",
     "traceback": [
      "\u001b[0;31m---------------------------------------------------------------------------\u001b[0m",
      "\u001b[0;31mNameError\u001b[0m                                 Traceback (most recent call last)",
      "\u001b[0;32m<ipython-input-52-4a882b1ba55b>\u001b[0m in \u001b[0;36m<module>\u001b[0;34m\u001b[0m\n\u001b[0;32m----> 1\u001b[0;31m \u001b[0manswers_test\u001b[0m\u001b[0;34m.\u001b[0m\u001b[0mhead\u001b[0m\u001b[0;34m(\u001b[0m\u001b[0;34m)\u001b[0m\u001b[0;34m\u001b[0m\u001b[0;34m\u001b[0m\u001b[0m\n\u001b[0m",
      "\u001b[0;31mNameError\u001b[0m: name 'answers_test' is not defined"
     ]
    }
   ],
   "source": [
    "answers_test.head()"
   ]
  },
  {
   "cell_type": "code",
   "execution_count": null,
   "metadata": {},
   "outputs": [],
   "source": []
  }
 ],
 "metadata": {
  "celltoolbar": "Отсутствует",
  "kernelspec": {
   "display_name": "Python 3",
   "language": "python",
   "name": "python3"
  },
  "language_info": {
   "codemirror_mode": {
    "name": "ipython",
    "version": 3
   },
   "file_extension": ".py",
   "mimetype": "text/x-python",
   "name": "python",
   "nbconvert_exporter": "python",
   "pygments_lexer": "ipython3",
   "version": "3.7.7"
  }
 },
 "nbformat": 4,
 "nbformat_minor": 1
}
