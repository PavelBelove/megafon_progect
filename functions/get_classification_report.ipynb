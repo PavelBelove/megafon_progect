{
 "cells": [
  {
   "cell_type": "code",
   "execution_count": 1,
   "id": "6487b872",
   "metadata": {},
   "outputs": [],
   "source": [
    "\n",
    "def get_classification_report(y_train_true, y_train_pred, y_test_true, y_test_pred, model, X_test, digits=3):\n",
    "    print('TRAIN\\n\\n' + classification_report(y_train_true, y_train_pred, digits=digits))\n",
    "    print('TEST\\n\\n' + classification_report(y_test_true, y_test_pred, digits=digits))\n",
    "    print('CONFUSION MATRIX\\n')\n",
    "    print(pd.crosstab(y_test_true, y_test_pred))\n",
    "    plot_confusion_matrix(model, X_test, y_test_true, cmap=plt.cm.Blues, normalize='all')"
   ]
  },
  {
   "cell_type": "code",
   "execution_count": null,
   "id": "bf12ab53",
   "metadata": {},
   "outputs": [],
   "source": []
  }
 ],
 "metadata": {
  "kernelspec": {
   "display_name": "Python 3",
   "language": "python",
   "name": "python3"
  },
  "language_info": {
   "codemirror_mode": {
    "name": "ipython",
    "version": 3
   },
   "file_extension": ".py",
   "mimetype": "text/x-python",
   "name": "python",
   "nbconvert_exporter": "python",
   "pygments_lexer": "ipython3",
   "version": "3.7.7"
  }
 },
 "nbformat": 4,
 "nbformat_minor": 5
}
